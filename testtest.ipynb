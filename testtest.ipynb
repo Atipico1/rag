{
 "cells": [
  {
   "cell_type": "code",
   "execution_count": 1,
   "metadata": {},
   "outputs": [],
   "source": [
    "import pandas as pd\n",
    "from datasets import load_dataset, Dataset"
   ]
  },
  {
   "cell_type": "code",
   "execution_count": 2,
   "metadata": {},
   "outputs": [
    {
     "data": {
      "text/plain": [
       "Dataset({\n",
       "    features: ['id', 'title', 'context', 'question', 'answers', 'masked_query', 'query_embedding', '__index_level_0__'],\n",
       "    num_rows: 97888\n",
       "})"
      ]
     },
     "execution_count": 2,
     "metadata": {},
     "output_type": "execute_result"
    }
   ],
   "source": [
    "dataset = load_dataset(\"Seongill/nq_squad\", split=\"train\")\n",
    "df = pd.DataFrame(dataset)\n",
    "df = df.drop_duplicates(subset=['question'], keep='first')\n",
    "dataset = Dataset.from_pandas(df)"
   ]
  },
  {
   "cell_type": "code",
   "execution_count": 3,
   "metadata": {},
   "outputs": [
    {
     "data": {
      "text/plain": [
       "Dataset({\n",
       "    features: ['id', 'title', 'context', 'question', 'answers', 'masked_query', 'query_embedding'],\n",
       "    num_rows: 97888\n",
       "})"
      ]
     },
     "execution_count": 3,
     "metadata": {},
     "output_type": "execute_result"
    }
   ],
   "source": [
    "dataset = dataset.remove_columns([\"__index_level_0__\"])\n",
    "dataset"
   ]
  },
  {
   "cell_type": "code",
   "execution_count": 4,
   "metadata": {},
   "outputs": [
    {
     "data": {
      "application/vnd.jupyter.widget-view+json": {
       "model_id": "83a4ab80e7ba4d0f9478f1b151c7ae21",
       "version_major": 2,
       "version_minor": 0
      },
      "text/plain": [
       "Uploading the dataset shards:   0%|          | 0/2 [00:00<?, ?it/s]"
      ]
     },
     "metadata": {},
     "output_type": "display_data"
    },
    {
     "data": {
      "application/vnd.jupyter.widget-view+json": {
       "model_id": "0dc1b59cd38e453c9cd5391fadbe6bf6",
       "version_major": 2,
       "version_minor": 0
      },
      "text/plain": [
       "Creating parquet from Arrow format:   0%|          | 0/49 [00:00<?, ?ba/s]"
      ]
     },
     "metadata": {},
     "output_type": "display_data"
    },
    {
     "data": {
      "application/vnd.jupyter.widget-view+json": {
       "model_id": "7a8c4306e5644e8b8e38d295132e2663",
       "version_major": 2,
       "version_minor": 0
      },
      "text/plain": [
       "Creating parquet from Arrow format:   0%|          | 0/49 [00:00<?, ?ba/s]"
      ]
     },
     "metadata": {},
     "output_type": "display_data"
    }
   ],
   "source": [
    "dataset.push_to_hub(\"SQuAD_unique_questions\")"
   ]
  },
  {
   "cell_type": "code",
   "execution_count": 55,
   "metadata": {},
   "outputs": [
    {
     "name": "stderr",
     "output_type": "stream",
     "text": [
      "\u001b[34m\u001b[1mwandb\u001b[0m:   1 of 1 files downloaded.  \n"
     ]
    },
    {
     "name": "stdout",
     "output_type": "stream",
     "text": [
      "EM: 1.636\n",
      "EM-Un: 0.116\n",
      "Acc: 38.551\n",
      "Acc-Un: 2.091\n"
     ]
    }
   ],
   "source": [
    "api = wandb.Api()\n",
    "run_path = \"athjk3/rag/yx8t14jr\"\n",
    "run = api.run(run_path)\n",
    "table_name = run_path.split(\"/\")[-1]\n",
    "table = run.logged_artifacts()[1]\n",
    "table_dir = table.download()\n",
    "table_path = f\"artifacts/run-{table_name}-rawdata:v0/raw-data.table.json\"\n",
    "with open(table_path) as file:\n",
    "    json_dict = json.load(file)\n",
    "df = pd.DataFrame(json_dict[\"data\"], columns=json_dict[\"columns\"])\n",
    "cal_metric(df)"
   ]
  },
  {
   "cell_type": "code",
   "execution_count": 31,
   "metadata": {},
   "outputs": [],
   "source": [
    "def cal_metric(data: pd.DataFrame):\n",
    "    em_ans = data[data.answers != \"unanswerable\"].is_exact_match.mean().round(5)*100\n",
    "    em_unans = data[data.answers == \"unanswerable\"].is_exact_match.mean().round(5)*100\n",
    "    acc_ans = data[data.answers != \"unanswerable\"].is_accurate.mean().round(5)*100\n",
    "    acc_unans = data[data.answers == \"unanswerable\"].is_accurate.mean().round(5)*100\n",
    "    print(\"EM:\",em_ans)\n",
    "    print(\"EM-Un:\", em_unans)\n",
    "    print(\"Acc:\", acc_ans)\n",
    "    print(\"Acc-Un:\", acc_unans)"
   ]
  },
  {
   "cell_type": "code",
   "execution_count": 5,
   "metadata": {},
   "outputs": [],
   "source": [
    "import joblib\n",
    "data = joblib.load(\"test.joblib\")"
   ]
  },
  {
   "cell_type": "code",
   "execution_count": 8,
   "metadata": {},
   "outputs": [
    {
     "data": {
      "text/plain": [
       "[{'question': 'who was a professor of the University of Washington?',\n",
       "  'original_context': 'The late Turrell V. Wylie, a former professor of the University of Washington, and Li Tieh-tseng argue that the reliability of the heavily censored History of Ming as a credible source on Sino-Tibetan relations is questionable, in the light of modern scholarship. Other historians also assert that these Ming titles were nominal and did not actually confer the authority that the earlier Yuan titles had. Van Praag writes that the \"numerous economically motivated Tibetan missions to the Ming Court are referred to as \\'tributary missions\\' in the Ming Shih.\" Van Praag writes that these \"tributary missions\" were simply prompted by China\\'s need for horses from Tibet, since a viable horse market in Mongol lands was closed as a result of incessant conflict. Morris Rossabi also writes that \"Tibet, which had extensive contacts with China during the Yuan, scarcely had diplomatic relations with the Ming.\"',\n",
       "  'context_with_random': 'In the opinion of the late the Forest Brothers, a former professor at the University of Washington, and Li Tieh-tseng, the validity of the heavily censored History of Ming as a reliable source on the relationship between China and Tibet is questionable when considering contemporary scholarship. Other historians contend that these titles bestowed by the Ming were merely symbolic and did not grant the same authority as the previous Yuan titles. Van Praag notes that the \"tributary missions\" of Tibet to the Ming Court were primarily driven by China\\'s need for horses, as the continuous conflicts in Mongol territories made it difficult to acquire them there. According to Morris Rossabi, while Tibet had close interactions with China during the Yuan dynasty, it had limited diplomatic ties with the Ming dynasty.',\n",
       "  'context_with_similar': 'In the opinion of the late Franklin D. Roosevelt, a former professor at the University of Washington, and Li Tieh-tseng, the validity of the heavily censored History of Ming as a reliable source on the relationship between China and Tibet is questionable when considering contemporary scholarship. Other historians contend that these titles bestowed by the Ming were merely symbolic and did not grant the same authority as the previous Yuan titles. Van Praag notes that the \"tributary missions\" of Tibet to the Ming Court were primarily driven by China\\'s need for horses, as the continuous conflicts in Mongol territories made it difficult to acquire them there. According to Morris Rossabi, while Tibet had close interactions with China during the Yuan dynasty, it had limited diplomatic ties with the Ming dynasty.',\n",
       "  'new_answer': 'conflict',\n",
       "  'original_answer': ['Turrell V. Wylie'],\n",
       "  'distance': '69.40024'},\n",
       " {'question': 'Who was the first professor of the Royal College of Chemistry?',\n",
       "  'original_context': 'The Royal College of Chemistry was established by private subscription in 1845 as there was a growing awareness that practical aspects of the experimental sciences were not well taught and that in the United Kingdom the teaching of chemistry in particular had fallen behind that in Germany. As a result of a movement earlier in the decade, many politicians donated funds to establish the college, including Benjamin Disraeli, William Gladstone and Robert Peel. It was also supported by Prince Albert, who persuaded August Wilhelm von Hofmann to be the first professor.',\n",
       "  'context_with_random': 'The Royal College of Chemistry was founded in 1845 through contributions from private individuals, as people were starting to recognize the lack of effective teaching in practical aspects of the experimental sciences. It was widely acknowledged that Germany had surpassed the United Kingdom in the teaching of chemistry. Influential figures such as Benjamin Disraeli, William Gladstone, and Robert Peel all donated to the establishment of the college after a movement that began earlier in the decade. Prince Albert also played a role in its support, persuading Julian Fontana to become the first professor at the college.',\n",
       "  'context_with_similar': 'The Royal College of Chemistry was founded in 1845 through contributions from private individuals, as people were starting to recognize the lack of effective teaching in practical aspects of the experimental sciences. It was widely acknowledged that Germany had surpassed the United Kingdom in the teaching of chemistry. Influential figures such as Benjamin Disraeli, William Gladstone, and Robert Peel all donated to the establishment of the college after a movement that began earlier in the decade. Prince Albert also played a role in its support, persuading Nicolaus Zinzendorf to become the first professor at the college.',\n",
       "  'new_answer': 'conflict',\n",
       "  'original_answer': ['August Wilhelm von Hofmann'],\n",
       "  'distance': '69.24593'},\n",
       " {'question': 'Who was the first Rock and Roll artist to win American Idol?',\n",
       "  'original_context': 'The finalists were Cook and Archuleta. David Cook was announced the winner on May 21, 2008, the first rocker to win the show. Both Cook and Archuleta had some success as recording artists with both selling over a million albums in the U.S.',\n",
       "  'context_with_random': 'The two contestants in the finale were Robert Altman and Archuleta. On May 21, 2008, Robert Altman was declared the victor, making him the first rocker to ever win the competition. As recording artists, both Robert Altman and Archuleta have achieved a level of success, with each selling over one million albums in the United States.',\n",
       "  'context_with_similar': 'The two contestants in the finale were Geoffrey Dummer and Archuleta. On May 21, 2008, Geoffrey Dummer was declared the victor, making him the first rocker to ever win the competition. As recording artists, both Geoffrey Dummer and Archuleta have achieved a level of success, with each selling over one million albums in the United States.',\n",
       "  'new_answer': 'conflict',\n",
       "  'original_answer': ['David Cook'],\n",
       "  'distance': '68.52091'}]"
      ]
     },
     "execution_count": 8,
     "metadata": {},
     "output_type": "execute_result"
    }
   ],
   "source": [
    "data['who got the first nobel prize in physics']['conflict_case']"
   ]
  },
  {
   "cell_type": "code",
   "execution_count": 1,
   "metadata": {},
   "outputs": [
    {
     "name": "stderr",
     "output_type": "stream",
     "text": [
      "/home/seongilpark/miniconda3/envs/exp/lib/python3.10/site-packages/trl/trainer/ppo_config.py:141: UserWarning: The `optimize_cuda_cache` arguement will be deprecated soon, please use `optimize_device_cache` instead.\n",
      "  warnings.warn(\n"
     ]
    }
   ],
   "source": [
    "\n",
    "from openai import OpenAI\n",
    "import os\n",
    "from eval import reduce_prompts\n",
    "\n",
    "client = OpenAI(api_key=os.getenv(\"OPENAI_APIKEY\"))\n",
    "response = client.completions.create(\n",
    "model=\"gpt-3.5-turbo-instruct\",\n",
    "prompt=[\"How many people live in Berlin?\", \"The population of the Berlin is\"],\n",
    "max_tokens=10,\n",
    "seed=42,\n",
    "temperature=0,\n",
    "logprobs=5\n",
    ")"
   ]
  },
  {
   "cell_type": "code",
   "execution_count": 2,
   "metadata": {},
   "outputs": [
    {
     "data": {
      "text/plain": [
       "[CompletionChoice(finish_reason='length', index=0, logprobs=Logprobs(text_offset=[31, 33, 35, 38, 39, 42, 43, 44, 48, 58], token_logprobs=[-0.11162185, -0.11001924, -0.0012351145, -0.09309951, -0.006339453, -0.07861819, -4.429897e-05, -0.19639036, -0.05182585, -4.2272506e-05], tokens=['\\n\\n', 'As', ' of', ' ', '202', '1', ',', ' the', ' estimated', ' population'], top_logprobs=[{'\\n\\n': -0.11162185, '\\n': -2.656376, 'As': -4.4116535, ' \\n\\n': -4.9855194, 'There': -5.7700443}, {'As': -0.11001924, 'According': -2.357822, 'The': -5.6916766, 'In': -6.3065066, 'There': -6.8061194}, {' of': -0.0012351145, ' a': -7.2832594, ' per': -8.5903425, ' an': -8.662898, ' the': -9.948432}, {' ': -0.09309951, ' October': -3.8838139, ' December': -4.2973747, ' January': -4.414011, ' September': -4.5788994}, {'202': -0.006339453, '201': -5.0706573, '2': -11.505273, '1': -11.710988, '<|endoftext|>': -11.966802}, {'1': -0.07861819, '0': -2.6655304, '2': -5.1097364, '<|endoftext|>': -12.523534, '3': -14.067002}, {',': -4.429897e-05, ' estimates': -11.0083275, ' the': -12.142431, ',the': -12.327835, ' ,': -12.710148}, {' the': -0.19639036, ' approximately': -2.1362822, ' it': -2.873669, ' Berlin': -6.67231, ' an': -6.9121857}, {' estimated': -0.05182585, ' population': -3.022754, ' current': -6.709619, ' approximate': -7.8819404, ' city': -9.039512}, {' population': -4.2272506e-05, ' total': -11.20863, ' number': -11.776871, ' current': -11.914551, ' city': -12.451296}]), text='\\n\\nAs of 2021, the estimated population'),\n",
       " CompletionChoice(finish_reason='length', index=1, logprobs=Logprobs(text_offset=[31, 32, 33, 34, 35, 43, 50, 53, 56, 57], token_logprobs=[-0.9324128, -0.13015829, -0.69572645, -0.8530314, -0.02320634, -0.77188855, -0.6832049, -0.0023065542, -0.03350645, -0.09648065], tokens=[' ', '3', '.', '7', ' million', ' people', ' as', ' of', ' ', '202'], top_logprobs=[{' ': -0.9324128, ' approximately': -1.9180696, ' about': -2.3389528, ' around': -2.935064, ' over': -3.2574403}, {'3': -0.13015829, '4': -3.9226348, '6': -4.4974966, '5': -5.0156336, '1': -5.6109867}, {'.': -0.69572645, ',': -0.72388846, ' ': -4.674515, ' million': -6.1291904, '.\\n\\n': -6.8078423}, {'7': -0.8530314, '75': -2.1705115, '6': -2.1743872, '5': -2.9720805, '77': -2.977278}, {' million': -0.02320634, ' Million': -4.3348517, 'million': -5.5059524, ' millions': -6.5257087, 'M': -7.3770556}, {' people': -0.77188855, ' as': -0.9282339, ' (': -2.7232625, '.': -3.559797, ',': -3.8339574}, {' as': -0.6832049, '.': -1.3611395, ' (': -1.908251, ',': -3.124472, ' according': -4.080393}, {' of': -0.0023065542, ' per': -7.112387, ' ': -8.163573, ' estimated': -8.238797, ' reported': -8.303531}, {' ': -0.03350645, ' December': -4.7453613, ' January': -5.440895, ' October': -5.548525, ' June': -5.7147064}, {'202': -0.09648065, '201': -2.3891842, '2': -9.344083, '20': -9.728849, '<|endoftext|>': -10.276046}]), text=' 3.7 million people as of 202')]"
      ]
     },
     "execution_count": 2,
     "metadata": {},
     "output_type": "execute_result"
    }
   ],
   "source": [
    "response.choices"
   ]
  },
  {
   "cell_type": "code",
   "execution_count": 5,
   "metadata": {},
   "outputs": [
    {
     "data": {
      "text/plain": [
       "'\\n\\nAs of 2021, the estimated population'"
      ]
     },
     "execution_count": 5,
     "metadata": {},
     "output_type": "execute_result"
    }
   ],
   "source": [
    "response.choices[0].text"
   ]
  },
  {
   "cell_type": "code",
   "execution_count": 6,
   "metadata": {},
   "outputs": [
    {
     "data": {
      "text/plain": [
       "' 3.7 million people as of 202'"
      ]
     },
     "execution_count": 6,
     "metadata": {},
     "output_type": "execute_result"
    }
   ],
   "source": [
    "response.choices[1].text"
   ]
  },
  {
   "cell_type": "code",
   "execution_count": 6,
   "metadata": {},
   "outputs": [
    {
     "data": {
      "text/plain": [
       "' 3.7 million people as of 202'"
      ]
     },
     "execution_count": 6,
     "metadata": {},
     "output_type": "execute_result"
    }
   ],
   "source": [
    "response.choices[1].text"
   ]
  },
  {
   "cell_type": "code",
   "execution_count": 9,
   "metadata": {},
   "outputs": [
    {
     "data": {
      "text/plain": [
       "' 3.7 million people, of 202'"
      ]
     },
     "execution_count": 9,
     "metadata": {},
     "output_type": "execute_result"
    }
   ],
   "source": [
    "reduce_prompts(response.choices, [1.0, 1.0])"
   ]
  },
  {
   "cell_type": "code",
   "execution_count": 11,
   "metadata": {},
   "outputs": [],
   "source": [
    "head, tail = response.choices"
   ]
  },
  {
   "cell_type": "code",
   "execution_count": 24,
   "metadata": {},
   "outputs": [
    {
     "data": {
      "text/plain": [
       "[{'\\n\\n': -0.11162185,\n",
       "  '\\n': -2.656376,\n",
       "  'As': -4.4116535,\n",
       "  ' \\n\\n': -4.9855194,\n",
       "  'There': -5.7700443},\n",
       " {'As': -0.11001924,\n",
       "  'According': -2.357822,\n",
       "  'The': -5.6916766,\n",
       "  'In': -6.3065066,\n",
       "  'There': -6.8061194},\n",
       " {' of': -0.0012351145,\n",
       "  ' a': -7.2832594,\n",
       "  ' per': -8.5903425,\n",
       "  ' an': -8.662898,\n",
       "  ' the': -9.948432},\n",
       " {' ': -0.09309951,\n",
       "  ' October': -3.8838139,\n",
       "  ' December': -4.2973747,\n",
       "  ' January': -4.414011,\n",
       "  ' September': -4.5788994},\n",
       " {'202': -0.006339453,\n",
       "  '201': -5.0706573,\n",
       "  '2': -11.505273,\n",
       "  '1': -11.710988,\n",
       "  '<|endoftext|>': -11.966802},\n",
       " {'1': -0.07861819,\n",
       "  '0': -2.6655304,\n",
       "  '2': -5.1097364,\n",
       "  '<|endoftext|>': -12.523534,\n",
       "  '3': -14.067002},\n",
       " {',': -4.429897e-05,\n",
       "  ' estimates': -11.0083275,\n",
       "  ' the': -12.142431,\n",
       "  ',the': -12.327835,\n",
       "  ' ,': -12.710148},\n",
       " {' the': -0.19639036,\n",
       "  ' approximately': -2.1362822,\n",
       "  ' it': -2.873669,\n",
       "  ' Berlin': -6.67231,\n",
       "  ' an': -6.9121857},\n",
       " {' estimated': -0.05182585,\n",
       "  ' population': -3.022754,\n",
       "  ' current': -6.709619,\n",
       "  ' approximate': -7.8819404,\n",
       "  ' city': -9.039512},\n",
       " {' population': -4.2272506e-05,\n",
       "  ' total': -11.20863,\n",
       "  ' number': -11.776871,\n",
       "  ' current': -11.914551,\n",
       "  ' city': -12.451296}]"
      ]
     },
     "execution_count": 24,
     "metadata": {},
     "output_type": "execute_result"
    }
   ],
   "source": [
    "head.logprobs.top_logprobs"
   ]
  },
  {
   "cell_type": "code",
   "execution_count": 17,
   "metadata": {},
   "outputs": [
    {
     "ename": "AttributeError",
     "evalue": "'CompletionChoice' object has no attribute 'tokens'",
     "output_type": "error",
     "traceback": [
      "\u001b[0;31m---------------------------------------------------------------------------\u001b[0m",
      "\u001b[0;31mKeyError\u001b[0m                                  Traceback (most recent call last)",
      "File \u001b[0;32m~/miniconda3/envs/exp/lib/python3.10/site-packages/pydantic/main.py:753\u001b[0m, in \u001b[0;36mBaseModel.__getattr__\u001b[0;34m(self, item)\u001b[0m\n\u001b[1;32m    752\u001b[0m \u001b[39mtry\u001b[39;00m:\n\u001b[0;32m--> 753\u001b[0m     \u001b[39mreturn\u001b[39;00m pydantic_extra[item]\n\u001b[1;32m    754\u001b[0m \u001b[39mexcept\u001b[39;00m \u001b[39mKeyError\u001b[39;00m \u001b[39mas\u001b[39;00m exc:\n",
      "\u001b[0;31mKeyError\u001b[0m: 'tokens'",
      "\nThe above exception was the direct cause of the following exception:\n",
      "\u001b[0;31mAttributeError\u001b[0m                            Traceback (most recent call last)",
      "\u001b[1;32m/home/seongilpark/rag/testtest.ipynb Cell 12\u001b[0m line \u001b[0;36m1\n\u001b[0;32m----> <a href='vscode-notebook-cell://ssh-remote%2B114.110.134.186/home/seongilpark/rag/testtest.ipynb#X14sdnNjb2RlLXJlbW90ZQ%3D%3D?line=0'>1</a>\u001b[0m head\u001b[39m.\u001b[39;49mtokens\n",
      "File \u001b[0;32m~/miniconda3/envs/exp/lib/python3.10/site-packages/pydantic/main.py:755\u001b[0m, in \u001b[0;36mBaseModel.__getattr__\u001b[0;34m(self, item)\u001b[0m\n\u001b[1;32m    753\u001b[0m         \u001b[39mreturn\u001b[39;00m pydantic_extra[item]\n\u001b[1;32m    754\u001b[0m     \u001b[39mexcept\u001b[39;00m \u001b[39mKeyError\u001b[39;00m \u001b[39mas\u001b[39;00m exc:\n\u001b[0;32m--> 755\u001b[0m         \u001b[39mraise\u001b[39;00m \u001b[39mAttributeError\u001b[39;00m(\u001b[39mf\u001b[39m\u001b[39m'\u001b[39m\u001b[39m{\u001b[39;00m\u001b[39mtype\u001b[39m(\u001b[39mself\u001b[39m)\u001b[39m.\u001b[39m\u001b[39m__name__\u001b[39m\u001b[39m!r}\u001b[39;00m\u001b[39m object has no attribute \u001b[39m\u001b[39m{\u001b[39;00mitem\u001b[39m!r}\u001b[39;00m\u001b[39m'\u001b[39m) \u001b[39mfrom\u001b[39;00m \u001b[39mexc\u001b[39;00m\n\u001b[1;32m    756\u001b[0m \u001b[39melse\u001b[39;00m:\n\u001b[1;32m    757\u001b[0m     \u001b[39mif\u001b[39;00m \u001b[39mhasattr\u001b[39m(\u001b[39mself\u001b[39m\u001b[39m.\u001b[39m\u001b[39m__class__\u001b[39m, item):\n",
      "\u001b[0;31mAttributeError\u001b[0m: 'CompletionChoice' object has no attribute 'tokens'"
     ]
    }
   ],
   "source": [
    "head."
   ]
  },
  {
   "cell_type": "code",
   "execution_count": 1,
   "metadata": {},
   "outputs": [],
   "source": [
    "import transformers\n",
    "model_path = 'microsoft/Orca-2-13b'"
   ]
  },
  {
   "cell_type": "code",
   "execution_count": 2,
   "metadata": {},
   "outputs": [],
   "source": [
    "tokenizer = transformers.AutoTokenizer.from_pretrained(\n",
    "    model_path,\n",
    "    model_max_length=4096,\n",
    "    padding_side=\"right\",\n",
    "    use_fast=False,\n",
    "    add_special_tokens=False,\n",
    ")"
   ]
  },
  {
   "cell_type": "code",
   "execution_count": 5,
   "metadata": {},
   "outputs": [
    {
     "data": {
      "text/plain": [
       "{'input_ids': tensor([[    1,  1128,  1784,  2305,  5735,   297,  5115, 29973],\n",
       "        [    1,   450,  4665,   310,   278,  5115,   338, 32000]]), 'attention_mask': tensor([[1, 1, 1, 1, 1, 1, 1, 1],\n",
       "        [1, 1, 1, 1, 1, 1, 1, 0]])}"
      ]
     },
     "execution_count": 5,
     "metadata": {},
     "output_type": "execute_result"
    }
   ],
   "source": [
    "tokenizer([\"How many people live in Berlin?\", \"The population of the Berlin is\"], return_tensors=\"pt\", padding=\"longest\")"
   ]
  },
  {
   "cell_type": "code",
   "execution_count": 6,
   "metadata": {},
   "outputs": [
    {
     "data": {
      "application/vnd.jupyter.widget-view+json": {
       "model_id": "c661ce75d48c45f4afbad449c61fceb4",
       "version_major": 2,
       "version_minor": 0
      },
      "text/plain": [
       "Loading checkpoint shards:   0%|          | 0/6 [00:00<?, ?it/s]"
      ]
     },
     "metadata": {},
     "output_type": "display_data"
    }
   ],
   "source": [
    "import torch\n",
    "import transformers\n",
    "\n",
    "if torch.cuda.is_available():\n",
    "    torch.set_default_device(\"cuda\")\n",
    "else:\n",
    "    torch.set_default_device(\"cpu\")\n",
    "    \n",
    "model = transformers.AutoModelForCausalLM.from_pretrained(\"microsoft/Orca-2-13b\", device_map='auto')\n",
    "\n",
    "# https://github.com/huggingface/transformers/issues/27132\n",
    "# please use the slow tokenizer since fast and slow tokenizer produces different tokens\n",
    "tokenizer = transformers.AutoTokenizer.from_pretrained(\n",
    "        \"microsoft/Orca-2-13b\",\n",
    "        use_fast=False,\n",
    "    )\n",
    "\n",
    "system_message = \"You are Orca, an AI language model created by Microsoft. You are a cautious assistant. You carefully follow instructions. You are helpful and harmless and you follow ethical guidelines and promote positive behavior.\"\n",
    "user_message = \"How can you determine if a restaurant is popular among locals or mainly attracts tourists, and why might this information be useful?\"\n",
    "\n",
    "prompt = f\"<|im_start|>system\\n{system_message}<|im_end|>\\n<|im_start|>user\\n{user_message}<|im_end|>\\n<|im_start|>assistant\""
   ]
  },
  {
   "cell_type": "code",
   "execution_count": 25,
   "metadata": {},
   "outputs": [],
   "source": [
    "prompts = [prompt, prompt+\" I think It's go--od\"]"
   ]
  },
  {
   "cell_type": "code",
   "execution_count": 30,
   "metadata": {},
   "outputs": [],
   "source": [
    "\n",
    "prompt ='<|im_start|>system\\nYou are Orca, an AI language model created by Microsoft. You are a cautious assistant. You carefully follow instructions. You are helpful and harmless and you follow ethical guidelines and promote positive behavior.<|im_end|>\\n<|im_start|>user\\nSolve the following math problem. Please separate into two categories labeled with ”Solution:” and ”Final answer(in numbers):”\\n\\nProblem: Charles is moving from Springfield, which has 482,653 people, to Greenville, which has 119,666 fewer people. What is the total population of Springfield and Greenville?<|im_end|>\\n<|im_start|>assistant', '<|im_start|>system\\nYou are Orca, an AI language model created by Microsoft. You are a cautious assistant. You carefully follow instructions. You are helpful and harmless and you follow ethical guidelines and promote positive behavior.<|im_end|>\\n<|im_start|>user\\nSolve the following math problem. Please separate into two categories labeled with ”Solution:” and ”Final answer(in numbers):”\\n\\nProblem: Libby has 160 quarters in her piggy bank. She has to pay $35 to replace her sister’s dress that she borrowed and ruined. After replacing the dress, how many quarters will Libby have left?<|im_end|>\\n<|im_start|>assistant', '<|im_start|>system\\nYou are Orca, an AI language model created by Microsoft. You are a cautious assistant. You carefully follow instructions. You are helpful and harmless and you follow ethical guidelines and promote positive behavior.<|im_end|>\\n<|im_start|>user\\nSolve the following math problem. Please separate into two categories labeled with ”Solution:” and ”Final answer(in numbers):”\\n\\nProblem: Michael has a chicken farm. His chickens increase in number by 150 chickens annually. If the number of chickens on his farm now is 550, how many will he have after 9 years?<|im_end|>\\n<|im_start|>assistant', '<|im_start|>system\\nYou are Orca, an AI language model created by Microsoft. You are a cautious assistant. You carefully follow instructions. You are helpful and harmless and you follow ethical guidelines and promote positive behavior.<|im_end|>\\n<|im_start|>user\\nSolve the following math problem. Please separate into two categories labeled with ”Solution:” and ”Final answer(in numbers):”\\n\\nProblem: Megan is an actress. She was the lead actress in 80% of her work. In total, Megan participated in 100 plays. How many times Megan was not the lead actress?<|im_end|>\\n<|im_start|>assistant'\n",
    "inputs = tokenizer(prompt, return_tensors='pt', padding=\"longest\")"
   ]
  },
  {
   "cell_type": "code",
   "execution_count": 31,
   "metadata": {},
   "outputs": [],
   "source": [
    "outputs = model.generate(**inputs, max_new_tokens=300, do_sample=True, temperature=0.6, top_p=0.9)"
   ]
  },
  {
   "cell_type": "code",
   "execution_count": 33,
   "metadata": {},
   "outputs": [],
   "source": [
    "out = tokenizer.batch_decode(outputs, skip_special_tokens=True, clean_up_tokenization_spaces=False)[0]"
   ]
  },
  {
   "cell_type": "code",
   "execution_count": 35,
   "metadata": {},
   "outputs": [
    {
     "data": {
      "text/plain": [
       "'solution: To find the total population of Springfield and Greenville, we need to add the number of people in each city. We can use the following formula:\\n\\ntotal population = population of Springfield + population of Greenville\\n\\nWe know that the population of Springfield is 482,653 and the population of Greenville is 119,666 fewer than Springfield. We can write this as:\\n\\npopulation of Greenville = population of Springfield - 119,666\\n\\nWe can substitute this expression into the formula to get:\\n\\ntotal population = 482,653 + (482,653 - 119,666)\\n\\nWe can simplify this by using the order of operations. We start by performing the subtraction inside the parentheses:\\n\\ntotal population = 482,653 + 362,987\\n\\nThen we perform the addition of the two numbers:\\n\\ntotal population = 845,640\\n\\nFinal answer: The total population of Springfield and Greenville is 845,640 people.'"
      ]
     },
     "execution_count": 35,
     "metadata": {},
     "output_type": "execute_result"
    }
   ],
   "source": [
    "out.split(\"<|im_start|> assistant\")[-1].strip()"
   ]
  },
  {
   "cell_type": "code",
   "execution_count": 1,
   "metadata": {},
   "outputs": [],
   "source": [
    "from gensim.models import KeyedVectors\n",
    "from gensim.test.utils import datapath\n",
    "wv_from_text = KeyedVectors.load_word2vec_format(datapath('/data/seongil/wiki/enwiki_20180420_100d.txt'), binary=False)"
   ]
  },
  {
   "cell_type": "code",
   "execution_count": 5,
   "metadata": {},
   "outputs": [
    {
     "data": {
      "text/plain": [
       "['ENTITY/World_War\\xa0II',\n",
       " 'ENTITY/World_War\\xa0I',\n",
       " 'ENTITY/8\\xa0Flora',\n",
       " 'ENTITY/Filmfare_Award_for_Best_Actor\\xa0–_Tamil',\n",
       " 'ENTITY/U.S._Route\\xa09W',\n",
       " 'ENTITY/15\\xa0Eunomia',\n",
       " 'ENTITY/Golden_Globe_Award_for_Best_Actor\\xa0–_Motion_Picture_Drama',\n",
       " 'ENTITY/Golden_Globe_Award_for_Best_Actor\\xa0–_Motion_Picture_Musical_or_Comedy',\n",
       " \"ENTITY/Gymnastics_at_the_2016_Summer_Olympics\\xa0–_Women's_rhythmic_individual_all-around\",\n",
       " 'ENTITY/IUCN_Red_List\\xa0of_Endangered_Species',\n",
       " 'ENTITY/Golden_Globe_Award_for_Best_Motion_Picture\\xa0–_Musical_or_Comedy',\n",
       " 'ENTITY/Highway\\xa0401',\n",
       " 'ENTITY/25\\xa0Phocaea',\n",
       " \"ENTITY/Cycling_at_the_2012_Summer_Olympics\\xa0–_Men's_road_race\",\n",
       " 'ENTITY/Filmfare_Award_for_Best_Director\\xa0–_Tamil',\n",
       " 'ENTITY/George_H.\\xa0W._Bush',\n",
       " 'ENTITY/U.S._Route\\xa0104',\n",
       " 'ENTITY/Associação_Académica_de_Coimbra\\xa0–_O.A.F.',\n",
       " 'ENTITY/Filmfare_Award_for_Best_Film\\xa0–_Tamil',\n",
       " 'ENTITY/Malcolm\\xa0X',\n",
       " 'ENTITY/Filmfare_Award_for_Best_Actress\\xa0–_Tamil',\n",
       " 'ENTITY/Elizabeth\\xa0II',\n",
       " 'ENTITY/24\\xa0Themis',\n",
       " 'ENTITY/35\\xa0mm',\n",
       " 'ENTITY/4\\xa0Vesta',\n",
       " 'ENTITY/6\\xa0Metre',\n",
       " 'ENTITY/National_Film_Award\\xa0–_Special_Jury_Award_/_Special_Mention_(Feature_Film)',\n",
       " 'ENTITY/Sailing_at_the_1900_Summer_Olympics_–_3_to_10\\xa0ton',\n",
       " \"ENTITY/Cycling_at_the_2008_Summer_Olympics\\xa0–_Men's_road_race\",\n",
       " 'ENTITY/PC\\xa0DOS',\n",
       " 'ENTITY/Oerlikon_20\\xa0mm_cannon',\n",
       " 'ENTITY/132\\xa0Aethra',\n",
       " 'ENTITY/Golden_Globe_Award_for_Best_Supporting_Actress\\xa0–_Motion_Picture',\n",
       " 'ENTITY/New_York_State_Route\\xa017',\n",
       " 'ENTITY/2204\\xa0Lyyli',\n",
       " 'ENTITY/Bofors_40\\xa0mm_gun',\n",
       " \"ENTITY/Football_at_the_2012_Summer_Olympics\\xa0–_Women's_tournament\",\n",
       " 'ENTITY/Interstate\\xa0390',\n",
       " 'ENTITY/323\\xa0Brucia',\n",
       " 'ENTITY/44\\xa0Nysa',\n",
       " 'ENTITY/512\\xa0Taurinensis',\n",
       " 'ENTITY/DR\\xa0DOS',\n",
       " 'ENTITY/Glee:_The_Music,_Volume\\xa04',\n",
       " 'ENTITY/1727\\xa0Mette',\n",
       " 'ENTITY/1508\\xa0Kemi',\n",
       " \"ENTITY/UCI_Road_World_Championships\\xa0–_Men's_road_race\",\n",
       " 'ENTITY/AnNa\\xa0R.',\n",
       " 'ENTITY/Golden_Globe_Award_for_Best_Motion_Picture\\xa0–_Drama',\n",
       " 'ENTITY/Filmfare_Award_for_Best_Film\\xa0–_Telugu',\n",
       " \"ENTITY/Football_at_the_2012_Summer_Olympics\\xa0–_Men's_tournament\",\n",
       " 'ENTITY/100\\xa0metres',\n",
       " 'ENTITY/16\\xa0mm_film',\n",
       " 'ENTITY/1235\\xa0Schorria',\n",
       " 'ENTITY/1310\\xa0Villigera',\n",
       " 'ENTITY/985\\xa0Rosina',\n",
       " \"ENTITY/Cycling_at_the_2012_Summer_Olympics\\xa0–_Women's_road_race\",\n",
       " 'ENTITY/De\\xa0Havilland_Vampire',\n",
       " 'ENTITY/Filmfare_Award_for_Best_Actress\\xa0–_Telugu',\n",
       " 'ENTITY/H.\\xa0P.\\xa0Lovecraft',\n",
       " \"ENTITY/2011_UCI_Road_World_Championships\\xa0–_Men's_road_race\",\n",
       " 'ENTITY/1011\\xa0Laodamia',\n",
       " 'ENTITY/1065\\xa0Amundsenia',\n",
       " 'ENTITY/1131\\xa0Porzia',\n",
       " 'ENTITY/U.S.\\xa0Congress',\n",
       " 'ENTITY/Queen_Elizabeth\\xa0II',\n",
       " 'ENTITY/8\\xa0cm/40_3rd_Year_Type_naval_gun',\n",
       " 'ENTITY/Mac\\xa0OS\\xa0X',\n",
       " 'ENTITY/Louis\\xa0XIV',\n",
       " 'ENTITY/Golden_Globe_Award_for_Best_Actress\\xa0–_Motion_Picture_Comedy_or_Musical',\n",
       " 'ENTITY/Filmfare_Award_for_Best_Music_Director\\xa0–_Tamil',\n",
       " 'ENTITY/Filmfare_Award_for_Best_Director\\xa0–_Telugu',\n",
       " 'ENTITY/2018_FIFA_World_Cup_qualification\\xa0–_AFC_Second_Round',\n",
       " 'ENTITY/2018_FIFA_World_Cup_qualification\\xa0–_UEFA_Group_I',\n",
       " 'ENTITY/10\\xa0Hygiea',\n",
       " 'ENTITY/35\\xa0mm_film',\n",
       " 'ENTITY/702\\xa0Alauda',\n",
       " 'ENTITY/800\\xa0metres',\n",
       " 'ENTITY/September\\xa011_attacks',\n",
       " 'ENTITY/Sky\\xa01',\n",
       " 'ENTITY/Messerschmitt_Bf\\xa0109',\n",
       " 'ENTITY/Messerschmitt_Bf\\xa0110',\n",
       " 'ENTITY/Pope_John_Paul\\xa0II',\n",
       " 'ENTITY/Ramesses\\xa0II',\n",
       " 'ENTITY/Dassault_Mirage\\xa0III',\n",
       " 'ENTITY/De\\xa0Havilland_Tiger_Moth',\n",
       " 'ENTITY/Golden_Globe_Award_for_Best_Actress\\xa0–_Motion_Picture_Musical_or_Comedy',\n",
       " 'ENTITY/Glee:_The_Music,_Volume\\xa05',\n",
       " 'ENTITY/Filmfare_Award_for_Best_Actor\\xa0–_Telugu',\n",
       " 'ENTITY/Frederick\\xa0II_of_Prussia',\n",
       " \"ENTITY/2013_UCI_Road_World_Championships\\xa0–_Men's_team_time_trial\",\n",
       " 'ENTITY/1139\\u2009Atami',\n",
       " 'ENTITY/1474\\xa0Beira',\n",
       " \"ENTITY/UCI_Road_World_Championships\\xa0–_Men's_time_trial\",\n",
       " 'ENTITY/60\\xa0metres',\n",
       " 'ENTITY/St\\xa0Anselm',\n",
       " 'ENTITY/Charles\\xa0S._Zimmerman',\n",
       " \"ENTITY/Cycling_at_the_2012_Summer_Olympics\\xa0–_Men's_road_time_trial\",\n",
       " 'ENTITY/Type_96_25\\xa0mm_AT/AA_Gun',\n",
       " 'ENTITY/Basil\\xa0II',\n",
       " 'ENTITY/Robert\\xa0Fripp',\n",
       " 'ENTITY/Golden_Globe_Award_for_Best_Actress\\xa0–_Motion_Picture_Drama',\n",
       " 'ENTITY/Edward\\xa0VII',\n",
       " 'ENTITY/New_York_State_Route\\xa05',\n",
       " 'ENTITY/2060\\xa0Chiron',\n",
       " 'ENTITY/158\\xa0Koronis',\n",
       " \"ENTITY/UCI_Road_World_Championships\\xa0–_Men's_under-23_road_race\",\n",
       " 'ENTITY/St.\\xa0Petersburg',\n",
       " \"ENTITY/Cycling_at_the_2016_Summer_Olympics\\xa0–_Men's_road_time_trial\",\n",
       " \"ENTITY/Cycling_at_the_2008_Summer_Olympics\\xa0–_Men's_road_time_trial\",\n",
       " \"ENTITY/Cycling_at_the_2004_Summer_Olympics\\xa0–_Men's_road_race\",\n",
       " 'ENTITY/Multi-National_Force\\xa0–_Iraq',\n",
       " \"ENTITY/Alpine_skiing_at_the_2014_Winter_Olympics\\xa0–_Men's_slalom\",\n",
       " \"ENTITY/Biathlon_at_the_2014_Winter_Olympics\\xa0–_Men's_sprint\",\n",
       " 'ENTITY/Pentium\\xa04',\n",
       " 'ENTITY/PlayStation\\xa03',\n",
       " 'ENTITY/Justinian\\xa0I',\n",
       " 'ENTITY/J.\\xa0C._Holt',\n",
       " \"ENTITY/Rowing_at_the_2012_Summer_Olympics\\xa0–_Women's_eight\",\n",
       " 'ENTITY/RAID\\xa05',\n",
       " 'ENTITY/George\\xa0V',\n",
       " 'ENTITY/Golden_Globe_Award_for_Best_Actress\\xa0–_Television_Series_Drama',\n",
       " \"ENTITY/Freestyle_skiing_at_the_2010_Winter_Olympics\\xa0–_Men's_moguls\",\n",
       " 'ENTITY/Henry\\xa0II_of_England',\n",
       " 'ENTITY/H.\\xa0P._Lovecraft',\n",
       " 'ENTITY/Washington,\\xa0D.C.',\n",
       " 'ENTITY/New_York_State_Route\\xa022',\n",
       " 'ENTITY/New_York_State_Route\\xa025',\n",
       " 'ENTITY/Interstate\\xa0285',\n",
       " 'ENTITY/Interstate\\xa0278',\n",
       " \"ENTITY/2014_UCI_Road_World_Championships\\xa0–_Men's_team_time_trial\",\n",
       " \"ENTITY/2013_UCI_Road_World_Championships\\xa0–_Men's_road_race\",\n",
       " \"ENTITY/2012_UCI_Road_World_Championships\\xa0–_Men's_team_time_trial\",\n",
       " 'ENTITY/2018_FIFA_World_Cup_qualification\\xa0–_AFC_First_Round',\n",
       " 'ENTITY/221\\xa0Eos',\n",
       " 'ENTITY/1\\xa0Ceres',\n",
       " 'ENTITY/U.S.\\xa0Department_of_Transportation',\n",
       " \"ENTITY/UCI_Road_World_Championships\\xa0–_Men's_under-23_time_trial\",\n",
       " 'ENTITY/385571\\xa0Otrera',\n",
       " 'ENTITY/60\\xa0Minutes',\n",
       " 'ENTITY/668\\xa0Dora',\n",
       " 'ENTITY/8\\xa0Metre_(keelboat)',\n",
       " 'ENTITY/South_West_Pacific_theatre_of_World_War\\xa0II',\n",
       " 'ENTITY/Social_Democrats,\\xa0USA',\n",
       " 'ENTITY/Social_War_(91–88\\xa0BC)',\n",
       " 'ENTITY/Seti\\xa0I',\n",
       " \"ENTITY/Speed_skating_at_the_2014_Winter_Olympics\\xa0–_Men's_500_metres\",\n",
       " \"ENTITY/Cross-country_skiing_at_the_2014_Winter_Olympics\\xa0–_Women's_10_kilometre_classical\",\n",
       " 'ENTITY/C\\xa0major',\n",
       " 'ENTITY/Markham_and_Ramu_Valley\\xa0–_Finisterre_Range_campaign',\n",
       " 'ENTITY/Alexios\\xa0I_Komnenos',\n",
       " \"ENTITY/Alpine_skiing_at_the_2010_Winter_Olympics\\xa0–_Men's_slalom\",\n",
       " 'ENTITY/Title\\xa0IX',\n",
       " 'ENTITY/Pope_Leo\\xa0XIII',\n",
       " 'ENTITY/PCI_Express\\xa03.0',\n",
       " 'ENTITY/John_Paul\\xa0II',\n",
       " 'ENTITY/Junkers_Ju\\xa088',\n",
       " 'ENTITY/Junkers_Ju\\xa052',\n",
       " 'ENTITY/J.\\xa0D._Salinger',\n",
       " \"ENTITY/Rowing_at_the_2012_Summer_Olympics\\xa0–_Men's_eight\",\n",
       " 'ENTITY/D.\\xa0W._Griffith',\n",
       " 'ENTITY/George\\xa0VI',\n",
       " 'ENTITY/George\\xa0W._Bush',\n",
       " 'ENTITY/Golden_Globe_Award_for_Best_Supporting_Actor\\xa0–_Motion_Picture',\n",
       " 'ENTITY/Golden_Globe_Award_for_Best_Television_Series\\xa0–_Drama',\n",
       " 'ENTITY/Glee:_The_Music,_Volume\\xa06',\n",
       " 'ENTITY/Filmfare_Award_for_Best_Actor\\xa0–_Kannada',\n",
       " 'ENTITY/Filmfare_Lifetime_Achievement_Award\\xa0–_South',\n",
       " \"ENTITY/Football_at_the_2008_Summer_Olympics\\xa0–_Women's_tournament\",\n",
       " \"ENTITY/Football_at_the_2004_Summer_Olympics\\xa0–_Men's_tournament\",\n",
       " 'ENTITY/F.\\xa0Scott_Fitzgerald',\n",
       " 'ENTITY/Harry\\xa0F._Ward',\n",
       " 'ENTITY/W.\\xa0B._Yeats',\n",
       " 'ENTITY/New_York_State_Bicycle_Route\\xa017',\n",
       " 'ENTITY/King\\xa0Crimson',\n",
       " 'ENTITY/Interstate\\xa0690',\n",
       " \"ENTITY/2015_UCI_Road_World_Championships\\xa0–_Men's_team_time_trial\",\n",
       " 'ENTITY/2014_FIFA_World_Cup_qualification\\xa0–_UEFA_Group_H',\n",
       " \"ENTITY/2012_UCI_Road_World_Championships\\xa0–_Men's_road_race\",\n",
       " \"ENTITY/2007_UCI_Road_World_Championships\\xa0–_Men's_road_race\",\n",
       " 'ENTITY/200\\xa0metres',\n",
       " 'ENTITY/2262\\xa0Mitidika',\n",
       " 'ENTITY/1734\\xa0Zhongolovich',\n",
       " 'ENTITY/1500\\xa0metres',\n",
       " 'ENTITY/U.S.\\xa0Army_Corps_of_Engineers',\n",
       " 'ENTITY/U.S.\\xa0Senate',\n",
       " 'ENTITY/30\\xa0September_Movement',\n",
       " 'ENTITY/45\\xa0nm',\n",
       " 'ENTITY/50\\xa0Cent',\n",
       " 'ENTITY/51823\\xa0Rickhusband',\n",
       " 'ENTITY/San_Francisco\\xa0–_Oakland_Bay_Bridge',\n",
       " 'ENTITY/Samuel\\xa0H._Friedman',\n",
       " 'ENTITY/Sailing_at_the_1900_Summer_Olympics_–_10_to_20\\xa0ton',\n",
       " 'ENTITY/Satellite_Award_for_Best_Cast\\xa0–_Television_Series',\n",
       " 'ENTITY/Star_Wars:_Episode_I\\xa0–_The_Phantom_Menace',\n",
       " 'ENTITY/St.\\xa0Albert_Trail',\n",
       " 'ENTITY/St.\\xa0Louis_Cardinals',\n",
       " 'ENTITY/Channel\\xa04',\n",
       " 'ENTITY/Constantine\\xa0VIII',\n",
       " 'ENTITY/Constantine\\xa0X',\n",
       " \"ENTITY/Cycling_at_the_2012_Summer_Olympics\\xa0–_Men's_Omnium\",\n",
       " \"ENTITY/Cycling_at_the_2012_Summer_Olympics\\xa0–_Men's_team_pursuit\",\n",
       " \"ENTITY/Cycling_at_the_2012_Summer_Olympics\\xa0–_Women's_road_time_trial\",\n",
       " \"ENTITY/Cycling_at_the_2012_Summer_Olympics\\xa0–_Women's_team_pursuit\",\n",
       " \"ENTITY/Cycling_at_the_2008_Summer_Olympics\\xa0–_Men's_team_pursuit\",\n",
       " 'ENTITY/Major\\xa0chord',\n",
       " \"ENTITY/Alpine_skiing_at_the_2014_Winter_Olympics\\xa0–_Men's_giant_slalom\",\n",
       " \"ENTITY/Athletics_at_the_1960_Summer_Olympics\\xa0–_Men's_marathon\",\n",
       " 'ENTITY/A.\\xa0Philip_Randolph_Institute',\n",
       " 'ENTITY/Torii_Kiyonobu\\xa0I',\n",
       " 'ENTITY/Technion\\xa0–_Israel_Institute_of_Technology',\n",
       " 'ENTITY/T.\\xa0S._Eliot',\n",
       " 'ENTITY/Los\\xa0Angeles',\n",
       " 'ENTITY/L.\\xa0Ron_Hubbard',\n",
       " 'ENTITY/Boeing_C-17_Globemaster\\xa0III',\n",
       " 'ENTITY/Boeing\\xa0747',\n",
       " 'ENTITY/BBC_Radio\\xa01',\n",
       " 'ENTITY/BBC_Radio\\xa04',\n",
       " 'ENTITY/BWV\\xa0147a',\n",
       " 'ENTITY/B\\xa0minor',\n",
       " 'ENTITY/Pope_Paul\\xa0VI',\n",
       " 'ENTITY/Pope_Paschal\\xa0II',\n",
       " 'ENTITY/Pope_Benedict\\xa0XVI',\n",
       " 'ENTITY/Johann_Strauss\\xa0II',\n",
       " 'ENTITY/Junkers_Ju\\xa087',\n",
       " 'ENTITY/J.\\xa0R.\\xa0R._Tolkien',\n",
       " 'ENTITY/J.\\xa0S.\\xa0Crowther',\n",
       " 'ENTITY/Romanos\\xa0II',\n",
       " 'ENTITY/R.\\xa0C._Harvey',\n",
       " 'ENTITY/DR\\xa0DOS_5.0',\n",
       " 'ENTITY/D\\xa0major',\n",
       " 'ENTITY/Golden_Globe_Award_for_Best_Actress_in_a_Motion_Picture\\xa0–_Drama',\n",
       " 'ENTITY/Golden_Globe_Award_for_Best_Actor\\xa0–_Television_Series_Drama',\n",
       " 'ENTITY/Golden_Globe_Award_for_Best_Television_Series\\xa0–_Musical_or_Comedy',\n",
       " 'ENTITY/G\\xa0major',\n",
       " 'ENTITY/Filmfare_Critics_Award_for_Best_Actor\\xa0–_South',\n",
       " 'ENTITY/Harry_Potter_and_the_Deathly_Hallows\\xa0–_Part_1',\n",
       " 'ENTITY/Harry_Potter_and_the_Deathly_Hallows\\xa0–_Part_2',\n",
       " 'ENTITY/High\\u2009Com',\n",
       " 'ENTITY/HP\\xa048_series',\n",
       " 'ENTITY/Eccellenza_Friuli\\xa0–_Venezia_Giulia',\n",
       " 'ENTITY/Windows\\xa07',\n",
       " 'ENTITY/W.\\xa0E.\\xa0B._Du_Bois',\n",
       " 'ENTITY/W.\\xa0H._Auden',\n",
       " 'ENTITY/New_York_State_Route\\xa0104',\n",
       " 'ENTITY/New_York_State_Route\\xa0417',\n",
       " 'ENTITY/New_York_State_Route\\xa09A',\n",
       " 'ENTITY/New_York_State_Bicycle_Route\\xa025A',\n",
       " 'ENTITY/Novell\\xa0DOS',\n",
       " 'ENTITY/Kaiser_Wilhelm\\xa0II',\n",
       " 'ENTITY/Interstate\\xa0287',\n",
       " 'ENTITY/Interstate\\xa030',\n",
       " 'ENTITY/Interstate\\xa016',\n",
       " 'ENTITY/Interstate\\xa090',\n",
       " 'ENTITY/IRT_Broadway\\xa0–_Seventh_Avenue_Line',\n",
       " 'ENTITY/OS\\xa0X',\n",
       " \"ENTITY/2013_UCI_Road_World_Championships\\xa0–_Men's_time_trial\",\n",
       " \"ENTITY/2013_UCI_Road_World_Championships\\xa0–_Women's_team_time_trial\",\n",
       " \"ENTITY/2012_UCI_Road_World_Championships\\xa0–_Men's_time_trial\",\n",
       " \"ENTITY/2012_UCI_Road_World_Championships\\xa0–_Women's_team_time_trial\",\n",
       " \"ENTITY/2010_UCI_Road_World_Championships\\xa0–_Men's_time_trial\",\n",
       " \"ENTITY/2009_UCI_Road_World_Championships\\xa0–_Men's_road_race\",\n",
       " \"ENTITY/2008_UCI_Road_World_Championships\\xa0–_Men's_road_race\",\n",
       " \"ENTITY/2006_UCI_Road_World_Championships\\xa0–_Men's_road_race\",\n",
       " \"ENTITY/2005_UCI_Road_World_Championships\\xa0–_Men's_road_race\",\n",
       " \"ENTITY/1993_UCI_Road_World_Championships\\xa0–_Women's_team_time_trial\",\n",
       " \"ENTITY/1987_UCI_Road_World_Championships\\xa0–_Women's_team_time_trial\",\n",
       " 'ENTITY/1000\\xa0metres',\n",
       " 'ENTITY/1054\\xa0Forsytia',\n",
       " 'ENTITY/163\\xa0Erigone',\n",
       " 'ENTITY/1200\\xa0metres',\n",
       " 'ENTITY/137\\xa0Meliboea',\n",
       " 'ENTITY/1468\\xa0Zomba',\n",
       " 'ENTITY/USB\\xa03.0',\n",
       " 'ENTITY/U.S.\\xa0Census_Bureau',\n",
       " 'ENTITY/U.S.\\xa0Navy',\n",
       " 'ENTITY/404\\xa0Arsinoë',\n",
       " 'ENTITY/5000\\xa0metres',\n",
       " 'ENTITY/5079\\xa0Brubeck',\n",
       " 'ENTITY/51824\\xa0Mikeanderson',\n",
       " 'ENTITY/51825\\xa0Davidbrown',\n",
       " 'ENTITY/51826\\xa0Kalpanachawla',\n",
       " 'ENTITY/51827\\xa0Laurelclark',\n",
       " 'ENTITY/51828\\xa0Ilanramon',\n",
       " 'ENTITY/51829\\xa0Williemccool',\n",
       " 'ENTITY/624\\xa0Hektor',\n",
       " 'ENTITY/65\\xa0nm',\n",
       " 'ENTITY/9\\xa0mm',\n",
       " 'ENTITY/80\\xa0metres',\n",
       " 'ENTITY/Star_Wars_Episode\\xa0I:_The_Phantom_Menace',\n",
       " \"ENTITY/St\\xa0Edward's_Crown\",\n",
       " \"ENTITY/St\\xa0James's_Palace\",\n",
       " 'ENTITY/Chrome\\xa0OS',\n",
       " 'ENTITY/Cinema_Express_Award_for_Best_Actor\\xa0–_Tamil',\n",
       " 'ENTITY/A.\\xa0Philip_Randolph',\n",
       " 'ENTITY/The_Twilight_Saga:_Breaking_Dawn\\xa0–_Part_1',\n",
       " 'ENTITY/The_Hunger_Games:_Mockingjay\\xa0–_Part_1',\n",
       " 'ENTITY/Georgia_State_Route\\xa08',\n",
       " 'ENTITY/Golden_Globe_Award_for_Best_Supporting_Actor\\xa0–_Series,_Miniseries_or_Television_Film',\n",
       " 'ENTITY/Giro_della_Toscana_Int._Femminile\\xa0–_Memorial_Michela_Fanini',\n",
       " 'ENTITY/Guitar\\xa0Craft',\n",
       " 'ENTITY/Filmfare_Award_for_Best_Music_Director\\xa0–_Telugu',\n",
       " 'ENTITY/Forest_Hills\\xa0–_71st_Avenue_(IND_Queens_Boulevard_Line)',\n",
       " \"ENTITY/Football_at_the_2016_Summer_Olympics\\xa0–_Men's_tournament\",\n",
       " 'ENTITY/Edward\\xa0II',\n",
       " 'ENTITY/New_York_State_Route\\xa0430',\n",
       " 'ENTITY/Interstate\\xa0890',\n",
       " 'ENTITY/Oscar_Hammerstein\\xa0II',\n",
       " 'ENTITY/OMG\\xa0–_Oh_My_God!',\n",
       " 'ENTITY/U.S.\\xa0Air_Force',\n",
       " 'ENTITY/C.\\xa0F._Peters',\n",
       " 'ENTITY/Magnificat,_BWV\\xa0243a',\n",
       " 'ENTITY/Mr._Sampath\\xa0–_The_Printer_of_Malgudi',\n",
       " 'ENTITY/Apple\\xa0II',\n",
       " 'ENTITY/Pulakeshin\\xa0II',\n",
       " 'ENTITY/Filmfare_Award_for_Best_Film\\xa0–_Kannada',\n",
       " 'ENTITY/Hawker_Siddeley_HS\\xa0748',\n",
       " 'ENTITY/2014_FIFA_World_Cup_qualification\\xa0–_OFC_First_Round',\n",
       " 'ENTITY/US\\xa0218',\n",
       " 'ENTITY/70\\xa0mm_film',\n",
       " 'ENTITY/Filmfare_Award_for_Best_Female_Playback_Singer\\xa0–_Tamil',\n",
       " 'ENTITY/Florida_State_Road\\xa0426',\n",
       " 'ENTITY/U.S._Route\\xa029_in_Georgia',\n",
       " \"ENTITY/Bengal_Film_Journalists'_Association\\xa0–_Best_Actor_Award\",\n",
       " 'ENTITY/Florida_State_Road\\xa046',\n",
       " 'ENTITY/70\\xa0centimeters']"
      ]
     },
     "execution_count": 5,
     "metadata": {},
     "output_type": "execute_result"
    }
   ],
   "source": [
    "word_list = list(wv_from_text.key_to_index)\n",
    "two_gram = [word for word in word_list if len(word.split()) > 1]\n",
    "two_gram"
   ]
  },
  {
   "cell_type": "code",
   "execution_count": 1,
   "metadata": {},
   "outputs": [
    {
     "ename": "NameError",
     "evalue": "name 'wv_from_text' is not defined",
     "output_type": "error",
     "traceback": [
      "\u001b[0;31m---------------------------------------------------------------------------\u001b[0m",
      "\u001b[0;31mNameError\u001b[0m                                 Traceback (most recent call last)",
      "Cell \u001b[0;32mIn[1], line 3\u001b[0m\n\u001b[1;32m      1\u001b[0m \u001b[38;5;66;03m#closest_word = find_closest_word(\"Moreau_Seminary\", word_list)\u001b[39;00m\n\u001b[1;32m      2\u001b[0m \u001b[38;5;66;03m#print(closest_word)\u001b[39;00m\n\u001b[0;32m----> 3\u001b[0m result \u001b[38;5;241m=\u001b[39m \u001b[43mwv_from_text\u001b[49m\u001b[38;5;241m.\u001b[39msimilar_by_word(\u001b[38;5;124m\"\u001b[39m\u001b[38;5;124mENTITY/Super Bowl\u001b[39m\u001b[38;5;124m\"\u001b[39m, topn\u001b[38;5;241m=\u001b[39m\u001b[38;5;241m10\u001b[39m)\n",
      "\u001b[0;31mNameError\u001b[0m: name 'wv_from_text' is not defined"
     ]
    }
   ],
   "source": [
    "#closest_word = find_closest_word(\"Moreau_Seminary\", word_list)\n",
    "#print(closest_word)\n",
    "result = wv_from_text.similar_by_word(\"ENTITY/Super Bowl\", topn=10)\n",
    "# most_similar_key, similarity = result[0]\n",
    "# print(f\"{most_similar_key}: {similarity:.4f}\")"
   ]
  },
  {
   "cell_type": "code",
   "execution_count": 3,
   "metadata": {},
   "outputs": [
    {
     "data": {
      "text/plain": [
       "array([-2.51940012e+00, -1.13528502e+00,  3.30950022e-01,  2.04909992e+00,\n",
       "        2.04286003e+00,  1.18479997e-01,  3.91735005e+00, -1.68214488e+00,\n",
       "        1.37219000e+00,  3.20243508e-01,  9.84349966e-01, -5.72250038e-02,\n",
       "        1.43589997e+00, -1.90299988e-01, -1.27500498e+00,  8.81399810e-02,\n",
       "        1.77349985e-01,  5.42749977e+00, -2.06948495e+00,  1.92012501e+00,\n",
       "        1.02176499e+00,  7.51715004e-01, -8.89654994e-01,  6.90450072e-02,\n",
       "        1.80575013e-01, -1.04799008e+00, -2.26014996e+00,  1.23315001e+00,\n",
       "       -6.74650073e-02,  9.30034995e-01, -1.23273993e+00,  6.99105024e-01,\n",
       "       -4.29194987e-01, -8.07099938e-01, -2.76644993e+00, -1.13724506e+00,\n",
       "        1.20839000e+00, -2.98460007e+00, -6.38900042e-01, -3.98400009e-01,\n",
       "       -9.55365002e-01, -1.17315996e+00, -1.72068942e+00,  3.08129978e+00,\n",
       "       -1.39999390e-03, -1.93981004e+00,  1.28809500e+00,  1.07879996e-01,\n",
       "        9.60620046e-01, -1.01398945e+00, -2.90540004e+00,  1.58119977e-01,\n",
       "       -3.20090508e+00,  9.66250062e-01,  1.83655000e+00, -4.19850051e-02,\n",
       "       -3.48524511e-01, -1.63058496e+00, -5.26679993e-01, -2.09255004e+00,\n",
       "       -5.81510007e-01, -2.67554998e-01, -9.74000096e-02,  9.35599983e-01,\n",
       "        4.49364996e+00,  1.17050052e-01,  2.21755004e+00, -2.44974995e+00,\n",
       "        2.95994997e+00,  1.17463493e+00, -1.30237997e+00, -1.20580006e+00,\n",
       "       -4.75914985e-01, -7.74580002e-01,  1.00566494e+00,  6.65839970e-01,\n",
       "       -9.06619966e-01,  2.88824987e+00, -7.68329978e-01,  1.05432498e+00,\n",
       "        7.89020002e-01,  3.99104983e-01, -2.07735014e+00, -7.54050016e-01,\n",
       "        2.15744996e+00,  1.31693506e+00, -5.72249949e-01, -2.49949992e-01,\n",
       "        4.86225009e-01, -8.86646986e-01,  2.33829975e-01,  3.06499600e-02,\n",
       "        1.50395000e+00,  3.33429992e-01,  1.81730017e-01,  6.20694995e-01,\n",
       "        1.40908504e+00,  2.06900001e+00,  2.05957985e+00,  1.98876488e+00,\n",
       "        6.58549964e-02,  5.06299973e-01, -1.72434998e+00,  8.44450071e-02,\n",
       "       -2.16090012e+00, -1.21158493e+00,  1.58155000e+00, -9.48749900e-01,\n",
       "        1.81825495e+00, -2.86794996e+00,  2.08996010e+00, -2.06279993e+00,\n",
       "        5.39640069e-01,  5.92580020e-01, -8.04345012e-01, -2.69175005e+00,\n",
       "        1.51356006e+00,  2.76534510e+00, -3.33834982e+00, -1.24839997e+00,\n",
       "        7.86674976e-01, -2.27118993e+00,  6.69119954e-01, -9.10335004e-01,\n",
       "        1.41330004e-01,  4.11400020e-01, -1.08164996e-01, -7.83849955e-02,\n",
       "        1.93215001e+00, -1.90379000e+00, -2.50173998e+00,  9.13139999e-01,\n",
       "        1.65985000e+00,  6.47000015e-01, -1.03034496e+00, -1.72595000e+00,\n",
       "       -7.70475030e-01, -3.92499566e-02, -1.98199987e-01,  1.21921492e+00,\n",
       "        6.17375493e-01, -1.04656994e+00, -1.36462498e+00,  1.41130000e-01,\n",
       "        2.67374992e+00,  2.38255000e+00, -8.50205004e-01, -5.55060029e-01,\n",
       "       -2.27500021e-01, -2.15159988e+00,  4.89579964e+00, -1.41616011e+00,\n",
       "       -5.25911510e-01,  1.01538992e+00, -1.95097005e+00, -3.21565002e-01,\n",
       "       -4.36909974e-01, -2.95100003e-01,  1.15187001e+00, -3.20725012e+00,\n",
       "        6.35731518e-01, -3.68225002e+00,  2.22784013e-01,  1.77364993e+00,\n",
       "       -1.22635007e+00,  1.91905499e-01, -2.45444989e+00, -1.64006007e+00,\n",
       "       -1.87599993e+00, -8.02200019e-01,  1.15953493e+00, -1.63499996e-01,\n",
       "        2.39774972e-01,  1.10290003e+00,  3.71140003e-01,  1.62280011e+00,\n",
       "       -1.13185003e-01, -2.89704978e-01, -1.96248996e+00, -3.11535001e+00,\n",
       "       -5.49338996e-01,  5.04725039e-01,  1.13518000e+00,  2.80485010e+00,\n",
       "        1.06058002e+00,  9.22874987e-01, -1.00653005e+00, -2.12844992e+00,\n",
       "        1.16245008e+00,  2.15654993e+00,  1.90111899e+00, -3.38510013e+00,\n",
       "        3.76170009e-01,  1.65785003e+00,  4.22899961e-01,  4.01664972e-01,\n",
       "       -3.31285000e+00, -3.87734985e+00,  1.76469994e+00,  2.58004999e+00,\n",
       "        2.81244993e-01,  1.00940001e+00,  3.64730000e-01,  2.49599993e-01,\n",
       "        3.10088491e+00, -1.73164964e-01, -7.06319988e-01,  6.94449961e-01,\n",
       "       -1.26850009e-01,  1.09450042e-01,  2.34765005e+00,  1.79619503e+00,\n",
       "        6.15910053e-01,  3.54045010e+00, -3.53200018e-01,  6.59590006e-01,\n",
       "       -1.53445506e+00, -2.50549972e-01,  3.21941996e+00, -5.37349999e-01,\n",
       "        1.18336749e+00, -1.12699997e+00, -1.56180000e+00,  2.77605009e+00,\n",
       "       -2.88479996e+00,  1.64878500e+00,  1.35995007e+00,  5.98039985e-01,\n",
       "       -8.12000036e-02, -2.04559994e+00,  1.04949999e+00,  1.00942993e+00,\n",
       "        4.88449931e-02,  4.07109976e-01,  1.53670001e+00,  9.46655035e-01,\n",
       "       -7.90199995e-01, -9.59760010e-01, -1.38108003e+00, -2.24744976e-01,\n",
       "        1.14514992e-01,  2.58605003e+00,  1.49708498e+00,  7.98319995e-01,\n",
       "       -1.55363512e+00,  1.95790005e+00, -8.63599956e-01,  1.17025003e-01,\n",
       "       -5.12600064e-01, -1.12995005e+00,  1.60058999e+00, -1.53137004e+00,\n",
       "       -1.66729999e+00, -1.33170497e+00, -1.52670002e+00, -1.99050009e-01,\n",
       "        9.13699925e-01, -2.72630000e+00, -3.30001116e-03,  2.47260004e-01,\n",
       "       -9.44519937e-01, -7.05685019e-01,  4.19799477e-01,  2.17009997e+00,\n",
       "        1.05893004e+00, -1.41140008e+00, -8.94704998e-01,  4.02795017e-01,\n",
       "       -1.54699981e-01, -2.16350007e+00, -1.40324998e+00,  1.90197003e+00,\n",
       "       -1.04012501e+00,  1.18999958e-01,  2.43760014e+00,  2.44490013e-01,\n",
       "        4.60129976e-01, -1.99850011e+00, -9.59475040e-01,  3.04410505e+00,\n",
       "        2.91811991e+00, -1.33829999e+00,  2.06564999e+00, -2.73829985e+00,\n",
       "        3.50100040e-01, -7.66394973e-01, -7.19549954e-01,  6.90715015e-01,\n",
       "        2.66619980e-01, -1.96644998e+00,  4.08345014e-01, -1.52526498e+00,\n",
       "        1.95223999e+00, -2.45362997e+00, -1.33000994e+00, -4.28099990e-01,\n",
       "        2.99946499e+00,  7.09680021e-01, -8.24748516e-01, -1.41698503e+00],\n",
       "      dtype=float32)"
      ]
     },
     "execution_count": 3,
     "metadata": {},
     "output_type": "execute_result"
    }
   ],
   "source": [
    "import spacy\n",
    "spacy.prefer_gpu()\n",
    "nlp = spacy.load(\"en_core_web_lg\")\n",
    "doc = nlp(\"Moreau Seminary\")\n",
    "doc.vector"
   ]
  },
  {
   "cell_type": "code",
   "execution_count": 5,
   "metadata": {},
   "outputs": [
    {
     "data": {
      "text/plain": [
       "numpy.ndarray"
      ]
     },
     "execution_count": 5,
     "metadata": {},
     "output_type": "execute_result"
    }
   ],
   "source": [
    "type(doc.vector.get())"
   ]
  },
  {
   "cell_type": "code",
   "execution_count": null,
   "metadata": {},
   "outputs": [],
   "source": [
    "import nltk"
   ]
  },
  {
   "cell_type": "code",
   "execution_count": 7,
   "metadata": {},
   "outputs": [
    {
     "data": {
      "text/plain": [
       "(5, 300)"
      ]
     },
     "execution_count": 7,
     "metadata": {},
     "output_type": "execute_result"
    }
   ],
   "source": [
    "import cupy as cp\n",
    "a = cp.array([doc.vector.get()]*5)\n",
    "a.shape"
   ]
  },
  {
   "cell_type": "code",
   "execution_count": 14,
   "metadata": {},
   "outputs": [
    {
     "data": {
      "text/plain": [
       "array(1., dtype=float32)"
      ]
     },
     "execution_count": 14,
     "metadata": {},
     "output_type": "execute_result"
    }
   ],
   "source": [
    "cp.linalg.norm(doc.vector / cp.linalg.norm(doc.vector))"
   ]
  },
  {
   "cell_type": "code",
   "execution_count": 18,
   "metadata": {},
   "outputs": [
    {
     "name": "stdout",
     "output_type": "stream",
     "text": [
      "{'key1': array([[0.26726124, 0.53452248, 0.80178373],\n",
      "       [0.45584231, 0.56980288, 0.68376346]]), 'key2': array([[0.50257071, 0.57436653, 0.64616234],\n",
      "       [0.52342392, 0.57576631, 0.62810871]])}\n"
     ]
    }
   ],
   "source": [
    "import numpy as np\n",
    "\n",
    "# 예시 dictionary\n",
    "dict_of_arrays = {\n",
    "    \"key1\": [np.array([1, 2, 3]), np.array([4, 5, 6])],\n",
    "    \"key2\": [np.array([7, 8, 9]), np.array([10, 11, 12])]\n",
    "}\n",
    "\n",
    "# Dictionary의 각 요소를 순회하면서 정규화\n",
    "for key in dict_of_arrays:\n",
    "    # 리스트 컴프리헨션을 사용하여 각 배열을 정규화\n",
    "    normalized_arrays = [arr / np.linalg.norm(arr) for arr in dict_of_arrays[key]]\n",
    "    # 정규화된 배열들을 NumPy 배열로 변환\n",
    "    dict_of_arrays[key] = np.array(normalized_arrays)\n",
    "\n",
    "# 결과 확인\n",
    "print(dict_of_arrays)\n"
   ]
  },
  {
   "cell_type": "code",
   "execution_count": 31,
   "metadata": {},
   "outputs": [],
   "source": [
    "!export GENSIM_DATA_DIR=/data/seongil/datasets/genism"
   ]
  },
  {
   "cell_type": "code",
   "execution_count": 33,
   "metadata": {},
   "outputs": [
    {
     "name": "stdout",
     "output_type": "stream",
     "text": [
      "[==================================================] 100.0% 376.1/376.1MB downloaded\n"
     ]
    }
   ],
   "source": [
    "model = api.load(\"glove-wiki-gigaword-300\")"
   ]
  },
  {
   "cell_type": "code",
   "execution_count": 27,
   "metadata": {},
   "outputs": [
    {
     "data": {
      "text/plain": [
       "{'corpora': {'semeval-2016-2017-task3-subtaskBC': {'num_records': -1,\n",
       "   'record_format': 'dict',\n",
       "   'file_size': 6344358,\n",
       "   'reader_code': 'https://github.com/RaRe-Technologies/gensim-data/releases/download/semeval-2016-2017-task3-subtaskB-eng/__init__.py',\n",
       "   'license': 'All files released for the task are free for general research use',\n",
       "   'fields': {'2016-train': ['...'],\n",
       "    '2016-dev': ['...'],\n",
       "    '2017-test': ['...'],\n",
       "    '2016-test': ['...']},\n",
       "   'description': 'SemEval 2016 / 2017 Task 3 Subtask B and C datasets contain train+development (317 original questions, 3,169 related questions, and 31,690 comments), and test datasets in English. The description of the tasks and the collected data is given in sections 3 and 4.1 of the task paper http://alt.qcri.org/semeval2016/task3/data/uploads/semeval2016-task3-report.pdf linked in section “Papers” of https://github.com/RaRe-Technologies/gensim-data/issues/18.',\n",
       "   'checksum': '701ea67acd82e75f95e1d8e62fb0ad29',\n",
       "   'file_name': 'semeval-2016-2017-task3-subtaskBC.gz',\n",
       "   'read_more': ['http://alt.qcri.org/semeval2017/task3/',\n",
       "    'http://alt.qcri.org/semeval2017/task3/data/uploads/semeval2017-task3.pdf',\n",
       "    'https://github.com/RaRe-Technologies/gensim-data/issues/18',\n",
       "    'https://github.com/Witiko/semeval-2016_2017-task3-subtaskB-english'],\n",
       "   'parts': 1},\n",
       "  'semeval-2016-2017-task3-subtaskA-unannotated': {'num_records': 189941,\n",
       "   'record_format': 'dict',\n",
       "   'file_size': 234373151,\n",
       "   'reader_code': 'https://github.com/RaRe-Technologies/gensim-data/releases/download/semeval-2016-2017-task3-subtaskA-unannotated-eng/__init__.py',\n",
       "   'license': 'These datasets are free for general research use.',\n",
       "   'fields': {'THREAD_SEQUENCE': '',\n",
       "    'RelQuestion': {'RELQ_CATEGORY': 'question category, according to the Qatar Living taxonomy',\n",
       "     'RELQ_DATE': 'date of posting',\n",
       "     'RELQ_ID': 'question indentifier',\n",
       "     'RELQ_USERID': 'identifier of the user asking the question',\n",
       "     'RELQ_USERNAME': 'name of the user asking the question',\n",
       "     'RelQBody': 'body of question',\n",
       "     'RelQSubject': 'subject of question'},\n",
       "    'RelComments': [{'RelCText': 'text of answer',\n",
       "      'RELC_USERID': 'identifier of the user posting the comment',\n",
       "      'RELC_ID': 'comment identifier',\n",
       "      'RELC_USERNAME': 'name of the user posting the comment',\n",
       "      'RELC_DATE': 'date of posting'}]},\n",
       "   'description': 'SemEval 2016 / 2017 Task 3 Subtask A unannotated dataset contains 189,941 questions and 1,894,456 comments in English collected from the Community Question Answering (CQA) web forum of Qatar Living. These can be used as a corpus for language modelling.',\n",
       "   'checksum': '2de0e2f2c4f91c66ae4fcf58d50ba816',\n",
       "   'file_name': 'semeval-2016-2017-task3-subtaskA-unannotated.gz',\n",
       "   'read_more': ['http://alt.qcri.org/semeval2016/task3/',\n",
       "    'http://alt.qcri.org/semeval2016/task3/data/uploads/semeval2016-task3-report.pdf',\n",
       "    'https://github.com/RaRe-Technologies/gensim-data/issues/18',\n",
       "    'https://github.com/Witiko/semeval-2016_2017-task3-subtaskA-unannotated-english'],\n",
       "   'parts': 1},\n",
       "  'patent-2017': {'num_records': 353197,\n",
       "   'record_format': 'dict',\n",
       "   'file_size': 3087262469,\n",
       "   'reader_code': 'https://github.com/RaRe-Technologies/gensim-data/releases/download/patent-2017/__init__.py',\n",
       "   'license': 'not found',\n",
       "   'description': \"Patent Grant Full Text. Contains the full text including tables, sequence data and 'in-line' mathematical expressions of each patent grant issued in 2017.\",\n",
       "   'checksum-0': '818501f0b9af62d3b88294d86d509f8f',\n",
       "   'checksum-1': '66c05635c1d3c7a19b4a335829d09ffa',\n",
       "   'file_name': 'patent-2017.gz',\n",
       "   'read_more': ['http://patents.reedtech.com/pgrbft.php'],\n",
       "   'parts': 2},\n",
       "  'quora-duplicate-questions': {'num_records': 404290,\n",
       "   'record_format': 'dict',\n",
       "   'file_size': 21684784,\n",
       "   'reader_code': 'https://github.com/RaRe-Technologies/gensim-data/releases/download/quora-duplicate-questions/__init__.py',\n",
       "   'license': 'probably https://www.quora.com/about/tos',\n",
       "   'fields': {'question1': 'the full text of each question',\n",
       "    'question2': 'the full text of each question',\n",
       "    'qid1': 'unique ids of each question',\n",
       "    'qid2': 'unique ids of each question',\n",
       "    'id': 'the id of a training set question pair',\n",
       "    'is_duplicate': 'the target variable, set to 1 if question1 and question2 have essentially the same meaning, and 0 otherwise'},\n",
       "   'description': 'Over 400,000 lines of potential question duplicate pairs. Each line contains IDs for each question in the pair, the full text for each question, and a binary value that indicates whether the line contains a duplicate pair or not.',\n",
       "   'checksum': 'd7cfa7fbc6e2ec71ab74c495586c6365',\n",
       "   'file_name': 'quora-duplicate-questions.gz',\n",
       "   'read_more': ['https://data.quora.com/First-Quora-Dataset-Release-Question-Pairs'],\n",
       "   'parts': 1},\n",
       "  'wiki-english-20171001': {'num_records': 4924894,\n",
       "   'record_format': 'dict',\n",
       "   'file_size': 6516051717,\n",
       "   'reader_code': 'https://github.com/RaRe-Technologies/gensim-data/releases/download/wiki-english-20171001/__init__.py',\n",
       "   'license': 'https://dumps.wikimedia.org/legal.html',\n",
       "   'fields': {'section_texts': 'list of body of sections',\n",
       "    'section_titles': 'list of titles of sections',\n",
       "    'title': 'Title of wiki article'},\n",
       "   'description': 'Extracted Wikipedia dump from October 2017. Produced by `python -m gensim.scripts.segment_wiki -f enwiki-20171001-pages-articles.xml.bz2 -o wiki-en.gz`',\n",
       "   'checksum-0': 'a7d7d7fd41ea7e2d7fa32ec1bb640d71',\n",
       "   'checksum-1': 'b2683e3356ffbca3b6c2dca6e9801f9f',\n",
       "   'checksum-2': 'c5cde2a9ae77b3c4ebce804f6df542c2',\n",
       "   'checksum-3': '00b71144ed5e3aeeb885de84f7452b81',\n",
       "   'file_name': 'wiki-english-20171001.gz',\n",
       "   'read_more': ['https://dumps.wikimedia.org/enwiki/20171001/'],\n",
       "   'parts': 4},\n",
       "  'text8': {'num_records': 1701,\n",
       "   'record_format': 'list of str (tokens)',\n",
       "   'file_size': 33182058,\n",
       "   'reader_code': 'https://github.com/RaRe-Technologies/gensim-data/releases/download/text8/__init__.py',\n",
       "   'license': 'not found',\n",
       "   'description': 'First 100,000,000 bytes of plain text from Wikipedia. Used for testing purposes; see wiki-english-* for proper full Wikipedia datasets.',\n",
       "   'checksum': '68799af40b6bda07dfa47a32612e5364',\n",
       "   'file_name': 'text8.gz',\n",
       "   'read_more': ['http://mattmahoney.net/dc/textdata.html'],\n",
       "   'parts': 1},\n",
       "  'fake-news': {'num_records': 12999,\n",
       "   'record_format': 'dict',\n",
       "   'file_size': 20102776,\n",
       "   'reader_code': 'https://github.com/RaRe-Technologies/gensim-data/releases/download/fake-news/__init__.py',\n",
       "   'license': 'https://creativecommons.org/publicdomain/zero/1.0/',\n",
       "   'fields': {'crawled': 'date the story was archived',\n",
       "    'ord_in_thread': '',\n",
       "    'published': 'date published',\n",
       "    'participants_count': 'number of participants',\n",
       "    'shares': 'number of Facebook shares',\n",
       "    'replies_count': 'number of replies',\n",
       "    'main_img_url': 'image from story',\n",
       "    'spam_score': 'data from webhose.io',\n",
       "    'uuid': 'unique identifier',\n",
       "    'language': 'data from webhose.io',\n",
       "    'title': 'title of story',\n",
       "    'country': 'data from webhose.io',\n",
       "    'domain_rank': 'data from webhose.io',\n",
       "    'author': 'author of story',\n",
       "    'comments': 'number of Facebook comments',\n",
       "    'site_url': 'site URL from BS detector',\n",
       "    'text': 'text of story',\n",
       "    'thread_title': '',\n",
       "    'type': 'type of website (label from BS detector)',\n",
       "    'likes': 'number of Facebook likes'},\n",
       "   'description': \"News dataset, contains text and metadata from 244 websites and represents 12,999 posts in total from a specific window of 30 days. The data was pulled using the webhose.io API, and because it's coming from their crawler, not all websites identified by their BS Detector are present in this dataset. Data sources that were missing a label were simply assigned a label of 'bs'. There are (ostensibly) no genuine, reliable, or trustworthy news sources represented in this dataset (so far), so don't trust anything you read.\",\n",
       "   'checksum': '5e64e942df13219465927f92dcefd5fe',\n",
       "   'file_name': 'fake-news.gz',\n",
       "   'read_more': ['https://www.kaggle.com/mrisdal/fake-news'],\n",
       "   'parts': 1},\n",
       "  '20-newsgroups': {'num_records': 18846,\n",
       "   'record_format': 'dict',\n",
       "   'file_size': 14483581,\n",
       "   'reader_code': 'https://github.com/RaRe-Technologies/gensim-data/releases/download/20-newsgroups/__init__.py',\n",
       "   'license': 'not found',\n",
       "   'fields': {'topic': 'name of topic (20 variant of possible values)',\n",
       "    'set': \"marker of original split (possible values 'train' and 'test')\",\n",
       "    'data': '',\n",
       "    'id': 'original id inferred from folder name'},\n",
       "   'description': 'The notorious collection of approximately 20,000 newsgroup posts, partitioned (nearly) evenly across 20 different newsgroups.',\n",
       "   'checksum': 'c92fd4f6640a86d5ba89eaad818a9891',\n",
       "   'file_name': '20-newsgroups.gz',\n",
       "   'read_more': ['http://qwone.com/~jason/20Newsgroups/'],\n",
       "   'parts': 1},\n",
       "  '__testing_matrix-synopsis': {'description': '[THIS IS ONLY FOR TESTING] Synopsis of the movie matrix.',\n",
       "   'checksum': '1767ac93a089b43899d54944b07d9dc5',\n",
       "   'file_name': '__testing_matrix-synopsis.gz',\n",
       "   'read_more': ['http://www.imdb.com/title/tt0133093/plotsummary?ref_=ttpl_pl_syn#synopsis'],\n",
       "   'parts': 1},\n",
       "  '__testing_multipart-matrix-synopsis': {'description': '[THIS IS ONLY FOR TESTING] Synopsis of the movie matrix.',\n",
       "   'checksum-0': 'c8b0c7d8cf562b1b632c262a173ac338',\n",
       "   'checksum-1': '5ff7fc6818e9a5d9bc1cf12c35ed8b96',\n",
       "   'checksum-2': '966db9d274d125beaac7987202076cba',\n",
       "   'file_name': '__testing_multipart-matrix-synopsis.gz',\n",
       "   'read_more': ['http://www.imdb.com/title/tt0133093/plotsummary?ref_=ttpl_pl_syn#synopsis'],\n",
       "   'parts': 3}},\n",
       " 'models': {'fasttext-wiki-news-subwords-300': {'num_records': 999999,\n",
       "   'file_size': 1005007116,\n",
       "   'base_dataset': 'Wikipedia 2017, UMBC webbase corpus and statmt.org news dataset (16B tokens)',\n",
       "   'reader_code': 'https://github.com/RaRe-Technologies/gensim-data/releases/download/fasttext-wiki-news-subwords-300/__init__.py',\n",
       "   'license': 'https://creativecommons.org/licenses/by-sa/3.0/',\n",
       "   'parameters': {'dimension': 300},\n",
       "   'description': '1 million word vectors trained on Wikipedia 2017, UMBC webbase corpus and statmt.org news dataset (16B tokens).',\n",
       "   'read_more': ['https://fasttext.cc/docs/en/english-vectors.html',\n",
       "    'https://arxiv.org/abs/1712.09405',\n",
       "    'https://arxiv.org/abs/1607.01759'],\n",
       "   'checksum': 'de2bb3a20c46ce65c9c131e1ad9a77af',\n",
       "   'file_name': 'fasttext-wiki-news-subwords-300.gz',\n",
       "   'parts': 1},\n",
       "  'conceptnet-numberbatch-17-06-300': {'num_records': 1917247,\n",
       "   'file_size': 1225497562,\n",
       "   'base_dataset': 'ConceptNet, word2vec, GloVe, and OpenSubtitles 2016',\n",
       "   'reader_code': 'https://github.com/RaRe-Technologies/gensim-data/releases/download/conceptnet-numberbatch-17-06-300/__init__.py',\n",
       "   'license': 'https://github.com/commonsense/conceptnet-numberbatch/blob/master/LICENSE.txt',\n",
       "   'parameters': {'dimension': 300},\n",
       "   'description': 'ConceptNet Numberbatch consists of state-of-the-art semantic vectors (also known as word embeddings) that can be used directly as a representation of word meanings or as a starting point for further machine learning. ConceptNet Numberbatch is part of the ConceptNet open data project. ConceptNet provides lots of ways to compute with word meanings, one of which is word embeddings. ConceptNet Numberbatch is a snapshot of just the word embeddings. It is built using an ensemble that combines data from ConceptNet, word2vec, GloVe, and OpenSubtitles 2016, using a variation on retrofitting.',\n",
       "   'read_more': ['http://aaai.org/ocs/index.php/AAAI/AAAI17/paper/view/14972',\n",
       "    'https://github.com/commonsense/conceptnet-numberbatch',\n",
       "    'http://conceptnet.io/'],\n",
       "   'checksum': 'fd642d457adcd0ea94da0cd21b150847',\n",
       "   'file_name': 'conceptnet-numberbatch-17-06-300.gz',\n",
       "   'parts': 1},\n",
       "  'word2vec-ruscorpora-300': {'num_records': 184973,\n",
       "   'file_size': 208427381,\n",
       "   'base_dataset': 'Russian National Corpus (about 250M words)',\n",
       "   'reader_code': 'https://github.com/RaRe-Technologies/gensim-data/releases/download/word2vec-ruscorpora-300/__init__.py',\n",
       "   'license': 'https://creativecommons.org/licenses/by/4.0/deed.en',\n",
       "   'parameters': {'dimension': 300, 'window_size': 10},\n",
       "   'description': 'Word2vec Continuous Skipgram vectors trained on full Russian National Corpus (about 250M words). The model contains 185K words.',\n",
       "   'preprocessing': 'The corpus was lemmatized and tagged with Universal PoS',\n",
       "   'read_more': ['https://www.academia.edu/24306935/WebVectors_a_Toolkit_for_Building_Web_Interfaces_for_Vector_Semantic_Models',\n",
       "    'http://rusvectores.org/en/',\n",
       "    'https://github.com/RaRe-Technologies/gensim-data/issues/3'],\n",
       "   'checksum': '9bdebdc8ae6d17d20839dd9b5af10bc4',\n",
       "   'file_name': 'word2vec-ruscorpora-300.gz',\n",
       "   'parts': 1},\n",
       "  'word2vec-google-news-300': {'num_records': 3000000,\n",
       "   'file_size': 1743563840,\n",
       "   'base_dataset': 'Google News (about 100 billion words)',\n",
       "   'reader_code': 'https://github.com/RaRe-Technologies/gensim-data/releases/download/word2vec-google-news-300/__init__.py',\n",
       "   'license': 'not found',\n",
       "   'parameters': {'dimension': 300},\n",
       "   'description': \"Pre-trained vectors trained on a part of the Google News dataset (about 100 billion words). The model contains 300-dimensional vectors for 3 million words and phrases. The phrases were obtained using a simple data-driven approach described in 'Distributed Representations of Words and Phrases and their Compositionality' (https://code.google.com/archive/p/word2vec/).\",\n",
       "   'read_more': ['https://code.google.com/archive/p/word2vec/',\n",
       "    'https://arxiv.org/abs/1301.3781',\n",
       "    'https://arxiv.org/abs/1310.4546',\n",
       "    'https://www.microsoft.com/en-us/research/publication/linguistic-regularities-in-continuous-space-word-representations/?from=http%3A%2F%2Fresearch.microsoft.com%2Fpubs%2F189726%2Frvecs.pdf'],\n",
       "   'checksum': 'a5e5354d40acb95f9ec66d5977d140ef',\n",
       "   'file_name': 'word2vec-google-news-300.gz',\n",
       "   'parts': 1},\n",
       "  'glove-wiki-gigaword-50': {'num_records': 400000,\n",
       "   'file_size': 69182535,\n",
       "   'base_dataset': 'Wikipedia 2014 + Gigaword 5 (6B tokens, uncased)',\n",
       "   'reader_code': 'https://github.com/RaRe-Technologies/gensim-data/releases/download/glove-wiki-gigaword-50/__init__.py',\n",
       "   'license': 'http://opendatacommons.org/licenses/pddl/',\n",
       "   'parameters': {'dimension': 50},\n",
       "   'description': 'Pre-trained vectors based on Wikipedia 2014 + Gigaword, 5.6B tokens, 400K vocab, uncased (https://nlp.stanford.edu/projects/glove/).',\n",
       "   'preprocessing': 'Converted to w2v format with `python -m gensim.scripts.glove2word2vec -i <fname> -o glove-wiki-gigaword-50.txt`.',\n",
       "   'read_more': ['https://nlp.stanford.edu/projects/glove/',\n",
       "    'https://nlp.stanford.edu/pubs/glove.pdf'],\n",
       "   'checksum': 'c289bc5d7f2f02c6dc9f2f9b67641813',\n",
       "   'file_name': 'glove-wiki-gigaword-50.gz',\n",
       "   'parts': 1},\n",
       "  'glove-wiki-gigaword-100': {'num_records': 400000,\n",
       "   'file_size': 134300434,\n",
       "   'base_dataset': 'Wikipedia 2014 + Gigaword 5 (6B tokens, uncased)',\n",
       "   'reader_code': 'https://github.com/RaRe-Technologies/gensim-data/releases/download/glove-wiki-gigaword-100/__init__.py',\n",
       "   'license': 'http://opendatacommons.org/licenses/pddl/',\n",
       "   'parameters': {'dimension': 100},\n",
       "   'description': 'Pre-trained vectors based on Wikipedia 2014 + Gigaword 5.6B tokens, 400K vocab, uncased (https://nlp.stanford.edu/projects/glove/).',\n",
       "   'preprocessing': 'Converted to w2v format with `python -m gensim.scripts.glove2word2vec -i <fname> -o glove-wiki-gigaword-100.txt`.',\n",
       "   'read_more': ['https://nlp.stanford.edu/projects/glove/',\n",
       "    'https://nlp.stanford.edu/pubs/glove.pdf'],\n",
       "   'checksum': '40ec481866001177b8cd4cb0df92924f',\n",
       "   'file_name': 'glove-wiki-gigaword-100.gz',\n",
       "   'parts': 1},\n",
       "  'glove-wiki-gigaword-200': {'num_records': 400000,\n",
       "   'file_size': 264336934,\n",
       "   'base_dataset': 'Wikipedia 2014 + Gigaword 5 (6B tokens, uncased)',\n",
       "   'reader_code': 'https://github.com/RaRe-Technologies/gensim-data/releases/download/glove-wiki-gigaword-200/__init__.py',\n",
       "   'license': 'http://opendatacommons.org/licenses/pddl/',\n",
       "   'parameters': {'dimension': 200},\n",
       "   'description': 'Pre-trained vectors based on Wikipedia 2014 + Gigaword, 5.6B tokens, 400K vocab, uncased (https://nlp.stanford.edu/projects/glove/).',\n",
       "   'preprocessing': 'Converted to w2v format with `python -m gensim.scripts.glove2word2vec -i <fname> -o glove-wiki-gigaword-200.txt`.',\n",
       "   'read_more': ['https://nlp.stanford.edu/projects/glove/',\n",
       "    'https://nlp.stanford.edu/pubs/glove.pdf'],\n",
       "   'checksum': '59652db361b7a87ee73834a6c391dfc1',\n",
       "   'file_name': 'glove-wiki-gigaword-200.gz',\n",
       "   'parts': 1},\n",
       "  'glove-wiki-gigaword-300': {'num_records': 400000,\n",
       "   'file_size': 394362229,\n",
       "   'base_dataset': 'Wikipedia 2014 + Gigaword 5 (6B tokens, uncased)',\n",
       "   'reader_code': 'https://github.com/RaRe-Technologies/gensim-data/releases/download/glove-wiki-gigaword-300/__init__.py',\n",
       "   'license': 'http://opendatacommons.org/licenses/pddl/',\n",
       "   'parameters': {'dimension': 300},\n",
       "   'description': 'Pre-trained vectors based on Wikipedia 2014 + Gigaword, 5.6B tokens, 400K vocab, uncased (https://nlp.stanford.edu/projects/glove/).',\n",
       "   'preprocessing': 'Converted to w2v format with `python -m gensim.scripts.glove2word2vec -i <fname> -o glove-wiki-gigaword-300.txt`.',\n",
       "   'read_more': ['https://nlp.stanford.edu/projects/glove/',\n",
       "    'https://nlp.stanford.edu/pubs/glove.pdf'],\n",
       "   'checksum': '29e9329ac2241937d55b852e8284e89b',\n",
       "   'file_name': 'glove-wiki-gigaword-300.gz',\n",
       "   'parts': 1},\n",
       "  'glove-twitter-25': {'num_records': 1193514,\n",
       "   'file_size': 109885004,\n",
       "   'base_dataset': 'Twitter (2B tweets, 27B tokens, 1.2M vocab, uncased)',\n",
       "   'reader_code': 'https://github.com/RaRe-Technologies/gensim-data/releases/download/glove-twitter-25/__init__.py',\n",
       "   'license': 'http://opendatacommons.org/licenses/pddl/',\n",
       "   'parameters': {'dimension': 25},\n",
       "   'description': 'Pre-trained vectors based on 2B tweets, 27B tokens, 1.2M vocab, uncased (https://nlp.stanford.edu/projects/glove/).',\n",
       "   'preprocessing': 'Converted to w2v format with `python -m gensim.scripts.glove2word2vec -i <fname> -o glove-twitter-25.txt`.',\n",
       "   'read_more': ['https://nlp.stanford.edu/projects/glove/',\n",
       "    'https://nlp.stanford.edu/pubs/glove.pdf'],\n",
       "   'checksum': '50db0211d7e7a2dcd362c6b774762793',\n",
       "   'file_name': 'glove-twitter-25.gz',\n",
       "   'parts': 1},\n",
       "  'glove-twitter-50': {'num_records': 1193514,\n",
       "   'file_size': 209216938,\n",
       "   'base_dataset': 'Twitter (2B tweets, 27B tokens, 1.2M vocab, uncased)',\n",
       "   'reader_code': 'https://github.com/RaRe-Technologies/gensim-data/releases/download/glove-twitter-50/__init__.py',\n",
       "   'license': 'http://opendatacommons.org/licenses/pddl/',\n",
       "   'parameters': {'dimension': 50},\n",
       "   'description': 'Pre-trained vectors based on 2B tweets, 27B tokens, 1.2M vocab, uncased (https://nlp.stanford.edu/projects/glove/)',\n",
       "   'preprocessing': 'Converted to w2v format with `python -m gensim.scripts.glove2word2vec -i <fname> -o glove-twitter-50.txt`.',\n",
       "   'read_more': ['https://nlp.stanford.edu/projects/glove/',\n",
       "    'https://nlp.stanford.edu/pubs/glove.pdf'],\n",
       "   'checksum': 'c168f18641f8c8a00fe30984c4799b2b',\n",
       "   'file_name': 'glove-twitter-50.gz',\n",
       "   'parts': 1},\n",
       "  'glove-twitter-100': {'num_records': 1193514,\n",
       "   'file_size': 405932991,\n",
       "   'base_dataset': 'Twitter (2B tweets, 27B tokens, 1.2M vocab, uncased)',\n",
       "   'reader_code': 'https://github.com/RaRe-Technologies/gensim-data/releases/download/glove-twitter-100/__init__.py',\n",
       "   'license': 'http://opendatacommons.org/licenses/pddl/',\n",
       "   'parameters': {'dimension': 100},\n",
       "   'description': 'Pre-trained vectors based on  2B tweets, 27B tokens, 1.2M vocab, uncased (https://nlp.stanford.edu/projects/glove/)',\n",
       "   'preprocessing': 'Converted to w2v format with `python -m gensim.scripts.glove2word2vec -i <fname> -o glove-twitter-100.txt`.',\n",
       "   'read_more': ['https://nlp.stanford.edu/projects/glove/',\n",
       "    'https://nlp.stanford.edu/pubs/glove.pdf'],\n",
       "   'checksum': 'b04f7bed38756d64cf55b58ce7e97b15',\n",
       "   'file_name': 'glove-twitter-100.gz',\n",
       "   'parts': 1},\n",
       "  'glove-twitter-200': {'num_records': 1193514,\n",
       "   'file_size': 795373100,\n",
       "   'base_dataset': 'Twitter (2B tweets, 27B tokens, 1.2M vocab, uncased)',\n",
       "   'reader_code': 'https://github.com/RaRe-Technologies/gensim-data/releases/download/glove-twitter-200/__init__.py',\n",
       "   'license': 'http://opendatacommons.org/licenses/pddl/',\n",
       "   'parameters': {'dimension': 200},\n",
       "   'description': 'Pre-trained vectors based on 2B tweets, 27B tokens, 1.2M vocab, uncased (https://nlp.stanford.edu/projects/glove/).',\n",
       "   'preprocessing': 'Converted to w2v format with `python -m gensim.scripts.glove2word2vec -i <fname> -o glove-twitter-200.txt`.',\n",
       "   'read_more': ['https://nlp.stanford.edu/projects/glove/',\n",
       "    'https://nlp.stanford.edu/pubs/glove.pdf'],\n",
       "   'checksum': 'e52e8392d1860b95d5308a525817d8f9',\n",
       "   'file_name': 'glove-twitter-200.gz',\n",
       "   'parts': 1},\n",
       "  '__testing_word2vec-matrix-synopsis': {'description': '[THIS IS ONLY FOR TESTING] Word vecrors of the movie matrix.',\n",
       "   'parameters': {'dimensions': 50},\n",
       "   'preprocessing': 'Converted to w2v using a preprocessed corpus. Converted to w2v format with `python3.5 -m gensim.models.word2vec -train <input_filename> -iter 50 -output <output_filename>`.',\n",
       "   'read_more': [],\n",
       "   'checksum': '534dcb8b56a360977a269b7bfc62d124',\n",
       "   'file_name': '__testing_word2vec-matrix-synopsis.gz',\n",
       "   'parts': 1}}}"
      ]
     },
     "execution_count": 27,
     "metadata": {},
     "output_type": "execute_result"
    }
   ],
   "source": [
    "api.info()"
   ]
  },
  {
   "cell_type": "code",
   "execution_count": 46,
   "metadata": {},
   "outputs": [
    {
     "data": {
      "text/plain": [
       "0.10208548"
      ]
     },
     "execution_count": 46,
     "metadata": {},
     "output_type": "execute_result"
    }
   ],
   "source": [
    "model.similarity('feeder', \"dog\")"
   ]
  },
  {
   "cell_type": "code",
   "execution_count": 37,
   "metadata": {},
   "outputs": [],
   "source": [
    "from nltk.corpus import wordnet as wn\n",
    "import random\n",
    "def _sample_token_same_level_based_on_pos(token, pos):\n",
    "    possible_candidates = []\n",
    "    synsets = wn.synsets(token)\n",
    "    if len(synsets) == 0:\n",
    "        return possible_candidates\n",
    "    same_synsets = []\n",
    "    for synset in synsets:\n",
    "        if synset.lemma_names()[0] == token and synset.lexname().split(\".\")[0] == pos:\n",
    "            same_synsets.append(synset)\n",
    "    possible_candidates = []\n",
    "    for synset in same_synsets:\n",
    "        hypernyms = synset.hypernyms()\n",
    "        for hyper in hypernyms:\n",
    "            hypos = hyper.hyponyms()\n",
    "            hypos = [h.lemma_names()[0].replace(\"_\", \" \") for h in hypos if h.lemma_names()[0] != token]\n",
    "            possible_candidates.extend(hypos)\n",
    "    return possible_candidates"
   ]
  },
  {
   "cell_type": "code",
   "execution_count": 40,
   "metadata": {},
   "outputs": [
    {
     "data": {
      "text/plain": [
       "['bitch',\n",
       " 'fox',\n",
       " 'hyena',\n",
       " 'jackal',\n",
       " 'wild dog',\n",
       " 'wolf',\n",
       " 'domestic cat',\n",
       " 'feeder',\n",
       " 'head',\n",
       " 'stocker',\n",
       " 'stray']"
      ]
     },
     "execution_count": 40,
     "metadata": {},
     "output_type": "execute_result"
    }
   ],
   "source": [
    "_sample_token_same_level_based_on_pos(\"dog\", \"noun\")"
   ]
  },
  {
   "cell_type": "code",
   "execution_count": 15,
   "metadata": {},
   "outputs": [
    {
     "name": "stdout",
     "output_type": "stream",
     "text": [
      "Synset: dog.n.01\n",
      "Hypernyms:\n",
      " - canine.n.02\n",
      " - domestic_animal.n.01\n",
      "\n",
      "Synset: frump.n.01\n",
      "Hypernyms:\n",
      " - unpleasant_woman.n.01\n",
      "\n",
      "Synset: dog.n.03\n",
      "Hypernyms:\n",
      " - chap.n.01\n",
      "\n",
      "Synset: cad.n.01\n",
      "Hypernyms:\n",
      " - villain.n.01\n",
      "\n",
      "Synset: frank.n.02\n",
      "Hypernyms:\n",
      " - sausage.n.01\n",
      "\n",
      "Synset: pawl.n.01\n",
      "Hypernyms:\n",
      " - catch.n.06\n",
      "\n",
      "Synset: andiron.n.01\n",
      "Hypernyms:\n",
      " - support.n.10\n",
      "\n",
      "Synset: chase.v.01\n",
      "Hypernyms:\n",
      " - pursue.v.02\n",
      "\n"
     ]
    }
   ],
   "source": [
    "from nltk.corpus import wordnet as wn\n",
    "\n",
    "# 찾고자 하는 단어를 정의\n",
    "word = 'dog'\n",
    "\n",
    "# 단어의 의미(synsets)를 가져옴\n",
    "synsets = wn.synsets(word)\n",
    "\n",
    "# 각 의미에 대한 hypernyms(상위어)를 찾고 출력\n",
    "for syn in synsets:\n",
    "    # synset의 상위어(hypernyms)를 가져옴\n",
    "    hypernyms = syn.hypernyms()\n",
    "    print(f\"Synset: {syn.name()}\")\n",
    "    print(\"Hypernyms:\")\n",
    "    for hyper in hypernyms:\n",
    "        print(f\" - {hyper.name()}\")\n",
    "    print()\n"
   ]
  },
  {
   "cell_type": "code",
   "execution_count": null,
   "metadata": {},
   "outputs": [],
   "source": []
  }
 ],
 "metadata": {
  "kernelspec": {
   "display_name": "Python 3 (ipykernel)",
   "language": "python",
   "name": "python3"
  },
  "language_info": {
   "codemirror_mode": {
    "name": "ipython",
    "version": 3
   },
   "file_extension": ".py",
   "mimetype": "text/x-python",
   "name": "python",
   "nbconvert_exporter": "python",
   "pygments_lexer": "ipython3",
   "version": "3.10.13"
  }
 },
 "nbformat": 4,
 "nbformat_minor": 4
}
