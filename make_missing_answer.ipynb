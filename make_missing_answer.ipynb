{
 "cells": [
  {
   "cell_type": "code",
   "execution_count": 1,
   "metadata": {},
   "outputs": [],
   "source": [
    "import joblib\n",
    "import pandas as pd\n",
    "import numpy as np\n",
    "import spacy\n",
    "import os\n",
    "from src.classes.qadataset import QADataset\n",
    "from datasets import load_dataset, Dataset\n",
    "from collections import defaultdict\n",
    "import random\n",
    "from tqdm.auto import tqdm\n",
    "from typing import List, Dict, Tuple, Union\n",
    "import re\n",
    "from copy import deepcopy"
   ]
  },
  {
   "cell_type": "code",
   "execution_count": 8,
   "metadata": {},
   "outputs": [],
   "source": [
    "trivia_dataset = pd.DataFrame(load_dataset(\"Seongill/trivia\", split=\"test\"))\n",
    "nq_dataset= pd.DataFrame(load_dataset(\"Seongill/nq\", split=\"test\"))"
   ]
  },
  {
   "cell_type": "code",
   "execution_count": 9,
   "metadata": {},
   "outputs": [
    {
     "data": {
      "application/vnd.jupyter.widget-view+json": {
       "model_id": "96895adaaed94b1f8fc96aa520e1933d",
       "version_major": 2,
       "version_minor": 0
      },
      "text/plain": [
       "Uploading the dataset shards:   0%|          | 0/1 [00:00<?, ?it/s]"
      ]
     },
     "metadata": {},
     "output_type": "display_data"
    },
    {
     "data": {
      "application/vnd.jupyter.widget-view+json": {
       "model_id": "e50cde6965454baa8ac3e153861db563",
       "version_major": 2,
       "version_minor": 0
      },
      "text/plain": [
       "Creating parquet from Arrow format:   0%|          | 0/12 [00:00<?, ?ba/s]"
      ]
     },
     "metadata": {},
     "output_type": "display_data"
    },
    {
     "name": "stdout",
     "output_type": "stream",
     "text": [
      "Trivia 3 0.6438610448156987\n"
     ]
    },
    {
     "data": {
      "application/vnd.jupyter.widget-view+json": {
       "model_id": "0652cc228fe24f4abb709bd780867537",
       "version_major": 2,
       "version_minor": 0
      },
      "text/plain": [
       "Uploading the dataset shards:   0%|          | 0/1 [00:00<?, ?it/s]"
      ]
     },
     "metadata": {},
     "output_type": "display_data"
    },
    {
     "data": {
      "application/vnd.jupyter.widget-view+json": {
       "model_id": "f8b1e54a575b4300ae97fdb5fdfaca7d",
       "version_major": 2,
       "version_minor": 0
      },
      "text/plain": [
       "Creating parquet from Arrow format:   0%|          | 0/4 [00:00<?, ?ba/s]"
      ]
     },
     "metadata": {},
     "output_type": "display_data"
    },
    {
     "name": "stdout",
     "output_type": "stream",
     "text": [
      "NQ 3 0.53601108033241\n"
     ]
    },
    {
     "data": {
      "application/vnd.jupyter.widget-view+json": {
       "model_id": "04653012531248809c876fc89ab49ccb",
       "version_major": 2,
       "version_minor": 0
      },
      "text/plain": [
       "Uploading the dataset shards:   0%|          | 0/1 [00:00<?, ?it/s]"
      ]
     },
     "metadata": {},
     "output_type": "display_data"
    },
    {
     "data": {
      "application/vnd.jupyter.widget-view+json": {
       "model_id": "1d4297aabca84e29aee33b31537d8c61",
       "version_major": 2,
       "version_minor": 0
      },
      "text/plain": [
       "Creating parquet from Arrow format:   0%|          | 0/12 [00:00<?, ?ba/s]"
      ]
     },
     "metadata": {},
     "output_type": "display_data"
    },
    {
     "name": "stdout",
     "output_type": "stream",
     "text": [
      "Trivia 5 0.6964554052859542\n"
     ]
    },
    {
     "data": {
      "application/vnd.jupyter.widget-view+json": {
       "model_id": "5a03eb1881eb4722b64a96f99bdced91",
       "version_major": 2,
       "version_minor": 0
      },
      "text/plain": [
       "Uploading the dataset shards:   0%|          | 0/1 [00:00<?, ?it/s]"
      ]
     },
     "metadata": {},
     "output_type": "display_data"
    },
    {
     "data": {
      "application/vnd.jupyter.widget-view+json": {
       "model_id": "84bfceb2ada0432d87f058eaefb2617f",
       "version_major": 2,
       "version_minor": 0
      },
      "text/plain": [
       "Creating parquet from Arrow format:   0%|          | 0/4 [00:00<?, ?ba/s]"
      ]
     },
     "metadata": {},
     "output_type": "display_data"
    },
    {
     "name": "stdout",
     "output_type": "stream",
     "text": [
      "NQ 5 0.6213296398891966\n"
     ]
    },
    {
     "data": {
      "application/vnd.jupyter.widget-view+json": {
       "model_id": "67f8d32b86134defbdd54e445bae1691",
       "version_major": 2,
       "version_minor": 0
      },
      "text/plain": [
       "Uploading the dataset shards:   0%|          | 0/1 [00:00<?, ?it/s]"
      ]
     },
     "metadata": {},
     "output_type": "display_data"
    },
    {
     "data": {
      "application/vnd.jupyter.widget-view+json": {
       "model_id": "23e480e5acb84921a4886abef5584474",
       "version_major": 2,
       "version_minor": 0
      },
      "text/plain": [
       "Creating parquet from Arrow format:   0%|          | 0/12 [00:00<?, ?ba/s]"
      ]
     },
     "metadata": {},
     "output_type": "display_data"
    },
    {
     "name": "stdout",
     "output_type": "stream",
     "text": [
      "Trivia 10 0.7513480067179351\n"
     ]
    },
    {
     "data": {
      "application/vnd.jupyter.widget-view+json": {
       "model_id": "57e75490301f4c3ab1a1015d661b6a02",
       "version_major": 2,
       "version_minor": 0
      },
      "text/plain": [
       "Uploading the dataset shards:   0%|          | 0/1 [00:00<?, ?it/s]"
      ]
     },
     "metadata": {},
     "output_type": "display_data"
    },
    {
     "data": {
      "application/vnd.jupyter.widget-view+json": {
       "model_id": "4e8696030bbb40ebab3235a29f6558a2",
       "version_major": 2,
       "version_minor": 0
      },
      "text/plain": [
       "Creating parquet from Arrow format:   0%|          | 0/4 [00:00<?, ?ba/s]"
      ]
     },
     "metadata": {},
     "output_type": "display_data"
    },
    {
     "name": "stdout",
     "output_type": "stream",
     "text": [
      "NQ 10 0.7096952908587257\n"
     ]
    }
   ],
   "source": [
    "for topk in [3, 5, 10]:\n",
    "    for name, dataset in zip([\"Trivia\", \"NQ\"], [trivia_dataset, nq_dataset]):\n",
    "        new_ctxs = dataset[\"ctxs\"].apply(lambda x: x[:topk])\n",
    "        has_answer = dataset[\"ctxs\"].apply(lambda x: any([c[\"hasanswer\"] for c in x[:topk]]))\n",
    "        dataset = dataset.copy().drop(columns=[\"ctxs\"], axis=1)\n",
    "        dataset[\"ctxs\"] = new_ctxs\n",
    "        dataset[\"has_answer\"] = has_answer\n",
    "        Dataset.from_pandas(dataset).push_to_hub(f\"{name}_missing_{topk}\")\n",
    "        print(f\"{name} {topk} {dataset.has_answer.mean()}\")"
   ]
  },
  {
   "cell_type": "code",
   "execution_count": 32,
   "metadata": {},
   "outputs": [],
   "source": [
    "trivia_dataset = pd.DataFrame(load_dataset(\"Seongill/trivia\", split=\"test\"))\n",
    "nq_dataset= pd.DataFrame(load_dataset(\"Seongill/nq\", split=\"test\"))"
   ]
  },
  {
   "cell_type": "code",
   "execution_count": 34,
   "metadata": {},
   "outputs": [],
   "source": [
    "nq_dataset[\"has_answer\"] = nq_dataset[\"ctxs\"].apply(lambda x: any([c[\"hasanswer\"] for c in x[:1]]))\n",
    "trivia_dataset[\"has_answer\"] = trivia_dataset[\"ctxs\"].apply(lambda x: any([c[\"hasanswer\"] for c in x[:1]]))"
   ]
  },
  {
   "cell_type": "code",
   "execution_count": 36,
   "metadata": {},
   "outputs": [
    {
     "data": {
      "text/plain": [
       "(0.35512465373961216, 0.4724653054008663)"
      ]
     },
     "execution_count": 36,
     "metadata": {},
     "output_type": "execute_result"
    }
   ],
   "source": [
    "nq_dataset.has_answer.mean(), trivia_dataset.has_answer.mean()"
   ]
  },
  {
   "cell_type": "code",
   "execution_count": 35,
   "metadata": {},
   "outputs": [
    {
     "name": "stdout",
     "output_type": "stream",
     "text": [
      "2328\n",
      "1282\n",
      "\n",
      "5968\n",
      "5345\n"
     ]
    }
   ],
   "source": [
    "print(len(nq_dataset) - nq_dataset.has_answer.sum())\n",
    "print(nq_dataset.has_answer.sum())\n",
    "print()\n",
    "print(len(trivia_dataset) - trivia_dataset.has_answer.sum())\n",
    "print(trivia_dataset.has_answer.sum())"
   ]
  },
  {
   "cell_type": "code",
   "execution_count": 46,
   "metadata": {},
   "outputs": [
    {
     "name": "stdout",
     "output_type": "stream",
     "text": [
      "CUTOFF 5968\n",
      "Trivia 7080\n",
      "Trivia 0.37417130734553167\n",
      "CUTOFF 2328\n",
      "NQ 2697\n",
      "NQ 0.2529085872576177\n"
     ]
    }
   ],
   "source": [
    "for name, dataset in zip([\"Trivia\", \"NQ\"], [trivia_dataset, nq_dataset]):\n",
    "    cutoff = len(dataset) - dataset.has_answer.sum()\n",
    "    print(f\"CUTOFF {cutoff}\")\n",
    "    new_dataset = dataset.copy()\n",
    "    subset = dataset[~dataset.has_answer]\n",
    "    new_ctxs = []\n",
    "    has_ans = []\n",
    "    for row_ in dataset.iterrows():\n",
    "        row = row_[1]\n",
    "        ctxs = row[\"ctxs\"]\n",
    "        has_answers = any([c[\"hasanswer\"] for c in ctxs[:5]])\n",
    "        if not has_answers:\n",
    "            new_ctxs.append(ctxs[:5])\n",
    "            has_ans.append(False)\n",
    "            cutoff -= 1\n",
    "        else:\n",
    "            if (sum([c[\"hasanswer\"] for c in ctxs]) <= 5) and (cutoff > 0):\n",
    "                new_ctx = [c for c in ctxs if not c[\"hasanswer\"]][:5]\n",
    "                new_ctxs.append(new_ctx)\n",
    "                has_ans.append(False)\n",
    "                cutoff -= 1\n",
    "            else:\n",
    "                new_ctxs.append(ctxs[:5])\n",
    "                has_ans.append(True)\n",
    "    new_dataset[\"ctxs\"] = new_ctxs\n",
    "    new_dataset[\"has_answer\"] = has_ans\n",
    "    print(f\"{name} {len(new_dataset) - new_dataset.has_answer.sum()}\")\n",
    "    print(f\"{name} {new_dataset.has_answer.mean()}\")\n",
    "    #Dataset.from_pandas(new_dataset).push_to_hub(f\"{name}_missing_5_double\")\n"
   ]
  },
  {
   "cell_type": "code",
   "execution_count": 24,
   "metadata": {},
   "outputs": [
    {
     "data": {
      "text/plain": [
       "6868"
      ]
     },
     "execution_count": 24,
     "metadata": {},
     "output_type": "execute_result"
    }
   ],
   "source": [
    "len(new_dataset) - new_dataset.has_answer.sum()"
   ]
  },
  {
   "cell_type": "code",
   "execution_count": 1,
   "metadata": {},
   "outputs": [],
   "source": [
    "from datasets import load_dataset\n",
    "\n",
    "dataset = load_dataset(\"Seongill/Trivia_missing_5\")[\"train\"]"
   ]
  },
  {
   "cell_type": "code",
   "execution_count": 2,
   "metadata": {},
   "outputs": [],
   "source": [
    "import pandas as pd\n",
    "df = pd.DataFrame(dataset)"
   ]
  },
  {
   "cell_type": "code",
   "execution_count": 5,
   "metadata": {},
   "outputs": [
    {
     "data": {
      "text/plain": [
       "['Who was the man behind The Chipmunks?',\n",
       " 'What star sign is Jamie Lee Curtis?']"
      ]
     },
     "execution_count": 5,
     "metadata": {},
     "output_type": "execute_result"
    }
   ],
   "source": [
    "df.iloc[[0,1]][\"question\"].tolist()"
   ]
  },
  {
   "cell_type": "code",
   "execution_count": 6,
   "metadata": {},
   "outputs": [
    {
     "data": {
      "text/plain": [
       "Dataset({\n",
       "    features: ['question', 'answers', 'ctxs', 'has_answer'],\n",
       "    num_rows: 3771\n",
       "})"
      ]
     },
     "execution_count": 6,
     "metadata": {},
     "output_type": "execute_result"
    }
   ],
   "source": [
    "dataset = dataset.shuffle(seed=42).select(range(len(dataset)//3))\n",
    "dataset"
   ]
  },
  {
   "cell_type": "code",
   "execution_count": 10,
   "metadata": {},
   "outputs": [
    {
     "data": {
      "text/plain": [
       "0.699814372845399"
      ]
     },
     "execution_count": 10,
     "metadata": {},
     "output_type": "execute_result"
    }
   ],
   "source": [
    "sum(dataset[\"has_answer\"]) / len(dataset)"
   ]
  },
  {
   "cell_type": "code",
   "execution_count": 11,
   "metadata": {},
   "outputs": [
    {
     "data": {
      "application/vnd.jupyter.widget-view+json": {
       "model_id": "a885f800156a492394b6ca76d5aa31ed",
       "version_major": 2,
       "version_minor": 0
      },
      "text/plain": [
       "Uploading the dataset shards:   0%|          | 0/1 [00:00<?, ?it/s]"
      ]
     },
     "metadata": {},
     "output_type": "display_data"
    },
    {
     "data": {
      "application/vnd.jupyter.widget-view+json": {
       "model_id": "57bf8edca45d4b7f9af979d420a14123",
       "version_major": 2,
       "version_minor": 0
      },
      "text/plain": [
       "Creating parquet from Arrow format:   0%|          | 0/4 [00:00<?, ?ba/s]"
      ]
     },
     "metadata": {},
     "output_type": "display_data"
    }
   ],
   "source": [
    "dataset.push_to_hub(\"Trivia_missing_5_small\")"
   ]
  },
  {
   "cell_type": "code",
   "execution_count": null,
   "metadata": {},
   "outputs": [],
   "source": []
  }
 ],
 "metadata": {
  "kernelspec": {
   "display_name": "exp",
   "language": "python",
   "name": "python3"
  },
  "language_info": {
   "codemirror_mode": {
    "name": "ipython",
    "version": 3
   },
   "file_extension": ".py",
   "mimetype": "text/x-python",
   "name": "python",
   "nbconvert_exporter": "python",
   "pygments_lexer": "ipython3",
   "version": "3.10.13"
  }
 },
 "nbformat": 4,
 "nbformat_minor": 2
}
