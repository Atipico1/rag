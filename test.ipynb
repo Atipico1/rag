{
 "cells": [
  {
   "cell_type": "code",
   "execution_count": 47,
   "metadata": {},
   "outputs": [],
   "source": [
    "from datasets import load_dataset\n",
    "\n",
    "dataset = load_dataset(\"squad\")"
   ]
  },
  {
   "cell_type": "code",
   "execution_count": 1,
   "metadata": {},
   "outputs": [
    {
     "name": "stderr",
     "output_type": "stream",
     "text": [
      "/Users/seongilpark/rag/.venv/lib/python3.11/site-packages/tqdm/auto.py:21: TqdmWarning: IProgress not found. Please update jupyter and ipywidgets. See https://ipywidgets.readthedocs.io/en/stable/user_install.html\n",
      "  from .autonotebook import tqdm as notebook_tqdm\n"
     ]
    }
   ],
   "source": [
    "import spacy\n",
    "nlp = spacy.load('en_core_web_trf')"
   ]
  },
  {
   "cell_type": "code",
   "execution_count": 129,
   "metadata": {},
   "outputs": [],
   "source": [
    "import json\n",
    "\n",
    "with open(\"nq-test.json\", \"r\") as f:\n",
    "    nq = json.load(f)"
   ]
  },
  {
   "cell_type": "code",
   "execution_count": 130,
   "metadata": {},
   "outputs": [],
   "source": [
    "nq_questions = [e['question'] for e in nq]"
   ]
  },
  {
   "cell_type": "code",
   "execution_count": 131,
   "metadata": {},
   "outputs": [],
   "source": [
    "docs = list(nlp.pipe(nq_questions,batch_size=128))"
   ]
  },
  {
   "cell_type": "code",
   "execution_count": 132,
   "metadata": {},
   "outputs": [],
   "source": [
    "def masking_entity(doc) -> str:\n",
    "    if not len(doc.ents):\n",
    "        return doc.text\n",
    "    \n",
    "    text_list =[]\n",
    "    for d in doc:\n",
    "        if d.pos_ == \"PUNCT\":\n",
    "            text_list.append(\"@\"+d.text)\n",
    "        elif d.pos_ == \"AUX\" and d.text == \"'s\":\n",
    "            text_list.append(\"@\"+d.text)\n",
    "        else:\n",
    "            text_list.append(d.text)\n",
    "\n",
    "    for ent in doc.ents:\n",
    "        text_list[ent.start:ent.end] = [\"[B]\"]* (ent.end - ent.start)\n",
    "        text_list[ent.start] = \"[BLANK]\"\n",
    "    return \" \".join(text_list).replace(\" [B]\", \"\").replace(\" @\", \"\")"
   ]
  },
  {
   "cell_type": "code",
   "execution_count": 133,
   "metadata": {},
   "outputs": [],
   "source": [
    "result = []\n",
    "for doc in docs:\n",
    "    try:\n",
    "        result.append(masking_entity(doc))\n",
    "    except:\n",
    "        print(doc)"
   ]
  },
  {
   "cell_type": "code",
   "execution_count": 134,
   "metadata": {},
   "outputs": [
    {
     "name": "stdout",
     "output_type": "stream",
     "text": [
      "3610\n",
      "3610\n"
     ]
    }
   ],
   "source": [
    "print(len(nq_questions))\n",
    "print(len(result))"
   ]
  },
  {
   "cell_type": "code",
   "execution_count": 136,
   "metadata": {},
   "outputs": [
    {
     "name": "stderr",
     "output_type": "stream",
     "text": [
      "100%|██████████| 113/113 [00:04<00:00, 26.24it/s]\n"
     ]
    }
   ],
   "source": [
    "from tqdm import tqdm\n",
    "\n",
    "emds = []\n",
    "for i in tqdm(range(0, len(result), 32)):\n",
    "    batch = result[i:i+32]\n",
    "    embeddings = model.encode(batch)\n",
    "    for idx, emb in enumerate(embeddings):\n",
    "        emds.append(emb)"
   ]
  },
  {
   "cell_type": "code",
   "execution_count": 140,
   "metadata": {},
   "outputs": [],
   "source": [
    "for q, r, e in zip(nq, result, emds):\n",
    "    q['masked_question'] = r\n",
    "    q['masked_question_embedding'] = e.tolist()\n",
    "with open(\"nq-test-with-embds.json\", \"w\") as f:\n",
    "    json.dump(nq, f)"
   ]
  },
  {
   "cell_type": "code",
   "execution_count": 142,
   "metadata": {},
   "outputs": [
    {
     "data": {
      "text/plain": [
       "[-0.050751253962516785,\n",
       " 0.0415990948677063,\n",
       " 0.004519982263445854,\n",
       " 0.11377488076686859,\n",
       " -0.025766627863049507,\n",
       " -0.00020134275837335736,\n",
       " 0.010921486653387547,\n",
       " 0.005758862942457199,\n",
       " 0.053729988634586334,\n",
       " -0.013639156706631184,\n",
       " 0.09257633239030838,\n",
       " -0.04823893681168556,\n",
       " -0.05879274010658264,\n",
       " -0.02404460869729519,\n",
       " -0.0478200763463974,\n",
       " 0.05612983927130699,\n",
       " -0.03818182274699211,\n",
       " 0.0011802057269960642,\n",
       " -0.08060953766107559,\n",
       " -0.04245540499687195,\n",
       " -0.008635022677481174,\n",
       " 0.04528072476387024,\n",
       " 0.024225464090704918,\n",
       " -0.02777707204222679,\n",
       " 0.048539645969867706,\n",
       " 0.04327670857310295,\n",
       " -0.0222444087266922,\n",
       " -0.045138731598854065,\n",
       " 0.06330950558185577,\n",
       " 0.01619591750204563,\n",
       " 0.02565889060497284,\n",
       " 0.026625975966453552,\n",
       " -0.004932265728712082,\n",
       " -0.03327135741710663,\n",
       " 0.051182471215724945,\n",
       " -0.007155284751206636,\n",
       " 0.07120928168296814,\n",
       " 0.023139819502830505,\n",
       " -0.019660739228129387,\n",
       " -0.0036644835490733385,\n",
       " -0.006209670100361109,\n",
       " -0.001931150909513235,\n",
       " 0.03564820811152458,\n",
       " 0.0966288223862648,\n",
       " 0.021788571029901505,\n",
       " 0.05854051932692528,\n",
       " 0.0354810431599617,\n",
       " -0.11573294550180435,\n",
       " 0.039350394159555435,\n",
       " -0.025781139731407166,\n",
       " -0.014193070121109486,\n",
       " -0.01862430013716221,\n",
       " -0.0420682393014431,\n",
       " 0.037788908928632736,\n",
       " 0.09477818012237549,\n",
       " 0.012015706859529018,\n",
       " 0.03400604426860809,\n",
       " -0.025536349043250084,\n",
       " -0.028379805386066437,\n",
       " -0.03997304290533066,\n",
       " 0.012669538147747517,\n",
       " 0.032158516347408295,\n",
       " -0.07592277228832245,\n",
       " 0.05974592640995979,\n",
       " 0.10917271673679352,\n",
       " -0.03831896930932999,\n",
       " -0.04194798693060875,\n",
       " -0.007019905839115381,\n",
       " 0.00010556730558164418,\n",
       " 0.06241557002067566,\n",
       " 0.06603585928678513,\n",
       " 0.05603240802884102,\n",
       " -0.03531888499855995,\n",
       " -0.00543771730735898,\n",
       " 0.049123089760541916,\n",
       " -0.06575567275285721,\n",
       " -0.014758532866835594,\n",
       " 0.022664180025458336,\n",
       " 0.10326792299747467,\n",
       " 0.13568852841854095,\n",
       " -0.005323666613548994,\n",
       " -0.12077874690294266,\n",
       " -0.1608601063489914,\n",
       " -0.030054505914449692,\n",
       " -0.03226786106824875,\n",
       " 0.0737733319401741,\n",
       " 0.009372997097671032,\n",
       " 0.016055583953857422,\n",
       " -0.010081257671117783,\n",
       " -0.06415335834026337,\n",
       " -0.060486260801553726,\n",
       " 0.001150174648500979,\n",
       " -0.04985868185758591,\n",
       " 0.04178863763809204,\n",
       " -0.027652908116579056,\n",
       " -0.012174281291663647,\n",
       " -0.04083358868956566,\n",
       " -0.012984293513000011,\n",
       " 0.014209733344614506,\n",
       " 0.07950601726770401,\n",
       " 0.025538690388202667,\n",
       " -0.03381109610199928,\n",
       " 0.00346119306050241,\n",
       " 0.18374565243721008,\n",
       " -0.06275446712970734,\n",
       " 0.006544702686369419,\n",
       " 0.04679820314049721,\n",
       " 0.02822667919099331,\n",
       " -0.005103131756186485,\n",
       " 0.07157440483570099,\n",
       " 0.1186642274260521,\n",
       " -0.04946229234337807,\n",
       " 0.04334830865263939,\n",
       " -0.023167070001363754,\n",
       " -0.12231133133172989,\n",
       " -0.020849192515015602,\n",
       " -0.03478720039129257,\n",
       " 0.03930887207388878,\n",
       " 0.02311806008219719,\n",
       " 0.04123775660991669,\n",
       " 0.029134906828403473,\n",
       " -0.028817495331168175,\n",
       " -0.009172284975647926,\n",
       " 0.02165880985558033,\n",
       " -0.027654362842440605,\n",
       " 0.00919106975197792,\n",
       " -0.0046921465545892715,\n",
       " -6.35590677110374e-33,\n",
       " 0.05221782624721527,\n",
       " 0.024496015161275864,\n",
       " 0.07848756015300751,\n",
       " 0.04757019877433777,\n",
       " 0.0585467629134655,\n",
       " -0.036087460815906525,\n",
       " -0.02165476232767105,\n",
       " 0.010597425512969494,\n",
       " 0.08787107467651367,\n",
       " 0.050127990543842316,\n",
       " -0.03433332219719887,\n",
       " 0.027109088376164436,\n",
       " 0.06234206259250641,\n",
       " 0.023067399859428406,\n",
       " -0.07132795453071594,\n",
       " 0.0026685164775699377,\n",
       " 0.007284434977918863,\n",
       " -0.03276480361819267,\n",
       " -0.0508364699780941,\n",
       " -0.02759031020104885,\n",
       " 0.048274967819452286,\n",
       " 0.09740470349788666,\n",
       " 0.019856799393892288,\n",
       " -0.010232464410364628,\n",
       " -0.05205490440130234,\n",
       " 0.04917465150356293,\n",
       " -0.02400246076285839,\n",
       " -0.04339366778731346,\n",
       " -0.022825803607702255,\n",
       " 0.03352218121290207,\n",
       " -0.05906040221452713,\n",
       " 0.023858023807406425,\n",
       " 0.005557605065405369,\n",
       " -0.01887214183807373,\n",
       " -0.04827365651726723,\n",
       " 0.030953608453273773,\n",
       " -0.03000820241868496,\n",
       " -0.11888127774000168,\n",
       " -0.04608489200472832,\n",
       " -0.02892894297838211,\n",
       " -0.021276773884892464,\n",
       " -0.01976661942899227,\n",
       " -0.020261941477656364,\n",
       " -0.02527466230094433,\n",
       " 0.02295849286019802,\n",
       " -0.04582780599594116,\n",
       " 0.045089349150657654,\n",
       " 0.057686686515808105,\n",
       " 0.0015696085756644607,\n",
       " 0.12181317806243896,\n",
       " -0.07536173611879349,\n",
       " -0.06120877340435982,\n",
       " 0.03602709248661995,\n",
       " -0.008833521977066994,\n",
       " 0.07427685707807541,\n",
       " -0.02009318396449089,\n",
       " 0.006330265663564205,\n",
       " -0.03011118434369564,\n",
       " -0.0854896828532219,\n",
       " -0.00024060517898760736,\n",
       " 0.01687900349497795,\n",
       " 0.10000547021627426,\n",
       " 0.037613995373249054,\n",
       " 0.013155169785022736,\n",
       " -0.0071030897088348866,\n",
       " 0.014042215421795845,\n",
       " -0.03158165141940117,\n",
       " -0.0859646275639534,\n",
       " 0.012697379104793072,\n",
       " -0.06809532642364502,\n",
       " -0.09980598092079163,\n",
       " 0.02019166573882103,\n",
       " -0.14127874374389648,\n",
       " -0.016782278195023537,\n",
       " 0.0543237142264843,\n",
       " -0.015086756087839603,\n",
       " -0.03134344890713692,\n",
       " -0.04081401228904724,\n",
       " 0.04333740845322609,\n",
       " -0.03378068655729294,\n",
       " 0.07132526487112045,\n",
       " -0.005577725823968649,\n",
       " -0.013571329414844513,\n",
       " -0.023075362667441368,\n",
       " -0.13970893621444702,\n",
       " -0.0112083051353693,\n",
       " -0.023181941360235214,\n",
       " 0.019771728664636612,\n",
       " -0.011331013403832912,\n",
       " -0.05578847974538803,\n",
       " -0.08764505386352539,\n",
       " -0.0790797770023346,\n",
       " -0.00220872531645,\n",
       " 0.0027162814512848854,\n",
       " 0.005176575854420662,\n",
       " 3.232686973920048e-33,\n",
       " -0.09916418045759201,\n",
       " 0.006242041010409594,\n",
       " -0.010463577695190907,\n",
       " 0.03418229520320892,\n",
       " -0.010048700496554375,\n",
       " 0.006353660020977259,\n",
       " 0.07152289897203445,\n",
       " -0.0900467187166214,\n",
       " 0.03352692350745201,\n",
       " 0.03614630550146103,\n",
       " 0.10440279543399811,\n",
       " -0.009889927692711353,\n",
       " -0.051233526319265366,\n",
       " -0.03591347113251686,\n",
       " 0.031772661954164505,\n",
       " 0.04088769853115082,\n",
       " -0.0771377831697464,\n",
       " -0.06136607378721237,\n",
       " -0.027682188898324966,\n",
       " 0.1191074326634407,\n",
       " 0.01599184051156044,\n",
       " -0.003195577533915639,\n",
       " -0.058163441717624664,\n",
       " -0.04172351211309433,\n",
       " 0.0821107029914856,\n",
       " 0.018264958634972572,\n",
       " 0.12998156249523163,\n",
       " -0.08361785113811493,\n",
       " -0.039544157683849335,\n",
       " 0.01813983917236328,\n",
       " 7.170921162469313e-05,\n",
       " -0.046406786888837814,\n",
       " -0.04106499254703522,\n",
       " 0.01235667522996664,\n",
       " -0.008707170374691486,\n",
       " 0.026623690500855446,\n",
       " 0.10267886519432068,\n",
       " 0.0544080026447773,\n",
       " 0.010314352810382843,\n",
       " -0.033420637249946594,\n",
       " -0.055194705724716187,\n",
       " 0.09199768304824829,\n",
       " 0.03972777724266052,\n",
       " 0.06112367659807205,\n",
       " -0.036008551716804504,\n",
       " -0.01221854705363512,\n",
       " -0.057285524904727936,\n",
       " 0.06337615102529526,\n",
       " -0.020184215158224106,\n",
       " -0.06285864859819412,\n",
       " -0.04082922637462616,\n",
       " -0.07302932441234589,\n",
       " -0.02379816770553589,\n",
       " -0.043052468448877335,\n",
       " -0.03243667632341385,\n",
       " 0.06357195973396301,\n",
       " -0.02658252976834774,\n",
       " 0.04550172761082649,\n",
       " 0.06281180679798126,\n",
       " -0.018620995804667473,\n",
       " -0.02059072256088257,\n",
       " -0.030491812154650688,\n",
       " -0.0104210888966918,\n",
       " 0.06357700377702713,\n",
       " -0.02114414982497692,\n",
       " 0.02148178406059742,\n",
       " -0.029919665306806564,\n",
       " 0.13694174587726593,\n",
       " -0.051969680935144424,\n",
       " -0.12155977636575699,\n",
       " -0.03215363994240761,\n",
       " -0.0022148529533296824,\n",
       " -0.01452245656400919,\n",
       " -0.08989851921796799,\n",
       " 0.04769895225763321,\n",
       " 0.0900769829750061,\n",
       " 0.027253175154328346,\n",
       " -0.07246986031532288,\n",
       " -0.03669563680887222,\n",
       " -0.012941867113113403,\n",
       " -0.0322374664247036,\n",
       " 0.01696816459298134,\n",
       " 0.03799695894122124,\n",
       " 0.049180131405591965,\n",
       " 0.035792119801044464,\n",
       " -0.022104449570178986,\n",
       " -0.029071718454360962,\n",
       " -0.06221736967563629,\n",
       " 0.01056757289916277,\n",
       " -0.004266805946826935,\n",
       " -0.018110956996679306,\n",
       " 0.059898730367422104,\n",
       " 0.07444320619106293,\n",
       " 0.047712404280900955,\n",
       " -0.07183840125799179,\n",
       " -1.909998736948637e-08,\n",
       " -0.03151405602693558,\n",
       " 0.04077858850359917,\n",
       " -0.009517264552414417,\n",
       " -0.0645066499710083,\n",
       " -0.028117720037698746,\n",
       " -0.014058790169656277,\n",
       " -0.005233633331954479,\n",
       " -0.058053936809301376,\n",
       " -0.0002503515570424497,\n",
       " 0.053199395537376404,\n",
       " -0.0712907612323761,\n",
       " 0.020020417869091034,\n",
       " -0.06544694304466248,\n",
       " -0.013451652601361275,\n",
       " 0.0673728734254837,\n",
       " 0.04196561127901077,\n",
       " -0.07228917628526688,\n",
       " 0.01953553780913353,\n",
       " -0.039960674941539764,\n",
       " -0.0423102080821991,\n",
       " 0.04753616452217102,\n",
       " 0.014498327858746052,\n",
       " 0.06013242155313492,\n",
       " -0.061152487993240356,\n",
       " 0.04047100991010666,\n",
       " 0.0379619225859642,\n",
       " -0.0014700101455673575,\n",
       " -0.03399425745010376,\n",
       " 0.05659104138612747,\n",
       " 0.00042665464570745826,\n",
       " 0.02393597550690174,\n",
       " 0.034350644797086716,\n",
       " 0.0496494397521019,\n",
       " -0.050153087824583054,\n",
       " -0.03987135365605354,\n",
       " 0.0674891248345375,\n",
       " 0.019965561106801033,\n",
       " 0.07378591597080231,\n",
       " -0.03462802246212959,\n",
       " 0.016380656510591507,\n",
       " -0.038055211305618286,\n",
       " -0.009966804645955563,\n",
       " 0.017979290336370468,\n",
       " 0.017683563753962517,\n",
       " -0.018452446907758713,\n",
       " 0.03959406539797783,\n",
       " -0.04604461044073105,\n",
       " -1.2058876563969534e-06,\n",
       " 0.030525529757142067,\n",
       " 0.021837253123521805,\n",
       " 0.007110706064850092,\n",
       " 0.04129171743988991,\n",
       " -0.08380230516195297,\n",
       " 0.011990117840468884,\n",
       " -0.042859409004449844,\n",
       " -0.038747429847717285,\n",
       " 0.014703154563903809,\n",
       " -0.009611326269805431,\n",
       " -0.06824173033237457,\n",
       " -0.014985181391239166,\n",
       " 0.08536310493946075,\n",
       " 0.026059098541736603,\n",
       " -0.02341015636920929,\n",
       " 0.05434734746813774]"
      ]
     },
     "execution_count": 142,
     "metadata": {},
     "output_type": "execute_result"
    }
   ],
   "source": [
    "nq[0]['masked_question_embedding']"
   ]
  },
  {
   "cell_type": "code",
   "execution_count": 118,
   "metadata": {},
   "outputs": [],
   "source": [
    "buffer = dict()\n",
    "result_idxs = []\n",
    "for idx, sent in enumerate(result):\n",
    "    if not buffer.get(sent):\n",
    "        buffer[sent] = 1\n",
    "        result_idxs.append(idx)"
   ]
  },
  {
   "cell_type": "code",
   "execution_count": 119,
   "metadata": {},
   "outputs": [],
   "source": [
    "temp = []\n",
    "for idx, t in enumerate(train):\n",
    "    if idx in result_idxs:\n",
    "        t['masked_question'] = result[idx]\n",
    "        temp.append(t)\n",
    "    else:\n",
    "        continue"
   ]
  },
  {
   "cell_type": "code",
   "execution_count": 120,
   "metadata": {},
   "outputs": [],
   "source": [
    "import json\n",
    "with open(\"masked_train.json\", \"w\") as f:\n",
    "    json.dump(temp, f)"
   ]
  },
  {
   "cell_type": "code",
   "execution_count": 109,
   "metadata": {},
   "outputs": [
    {
     "data": {
      "text/plain": [
       "False"
      ]
     },
     "execution_count": 109,
     "metadata": {},
     "output_type": "execute_result"
    }
   ],
   "source": [
    "not buffer.get('Which [BLANK] team represented the [BLANK] at [BLANK]?')"
   ]
  },
  {
   "cell_type": "code",
   "execution_count": 42,
   "metadata": {},
   "outputs": [],
   "source": [
    "import json"
   ]
  },
  {
   "cell_type": "code",
   "execution_count": 121,
   "metadata": {},
   "outputs": [
    {
     "data": {
      "text/plain": [
       "93544"
      ]
     },
     "execution_count": 121,
     "metadata": {},
     "output_type": "execute_result"
    }
   ],
   "source": [
    "with open(\"masked_train.json\", \"r\") as f:\n",
    "    train = json.load(f)\n",
    "with open(\"masked_test.json\", \"r\") as f:\n",
    "    test = json.load(f)\n",
    "total = train + test\n",
    "len(total)"
   ]
  },
  {
   "cell_type": "code",
   "execution_count": 122,
   "metadata": {},
   "outputs": [
    {
     "name": "stderr",
     "output_type": "stream",
     "text": [
      "Downloading (…)e9125/.gitattributes: 100%|██████████| 1.18k/1.18k [00:00<00:00, 4.18MB/s]\n",
      "Downloading (…)_Pooling/config.json: 100%|██████████| 190/190 [00:00<00:00, 945kB/s]\n",
      "Downloading (…)7e55de9125/README.md: 100%|██████████| 10.6k/10.6k [00:00<00:00, 30.5MB/s]\n",
      "Downloading (…)55de9125/config.json: 100%|██████████| 612/612 [00:00<00:00, 3.17MB/s]\n",
      "Downloading (…)ce_transformers.json: 100%|██████████| 116/116 [00:00<00:00, 544kB/s]\n",
      "Downloading (…)125/data_config.json: 100%|██████████| 39.3k/39.3k [00:00<00:00, 45.0MB/s]\n",
      "Downloading pytorch_model.bin: 100%|██████████| 90.9M/90.9M [00:07<00:00, 12.8MB/s]\n",
      "Downloading (…)nce_bert_config.json: 100%|██████████| 53.0/53.0 [00:00<00:00, 144kB/s]\n",
      "Downloading (…)cial_tokens_map.json: 100%|██████████| 112/112 [00:00<00:00, 450kB/s]\n",
      "Downloading (…)e9125/tokenizer.json: 100%|██████████| 466k/466k [00:00<00:00, 899kB/s]\n",
      "Downloading (…)okenizer_config.json: 100%|██████████| 350/350 [00:00<00:00, 1.95MB/s]\n",
      "Downloading (…)9125/train_script.py: 100%|██████████| 13.2k/13.2k [00:00<00:00, 30.2MB/s]\n",
      "Downloading (…)7e55de9125/vocab.txt: 100%|██████████| 232k/232k [00:00<00:00, 15.2MB/s]\n",
      "Downloading (…)5de9125/modules.json: 100%|██████████| 349/349 [00:00<00:00, 1.88MB/s]\n"
     ]
    }
   ],
   "source": [
    "from sentence_transformers import SentenceTransformer\n",
    "model = SentenceTransformer('all-MiniLM-L6-v2')"
   ]
  },
  {
   "cell_type": "code",
   "execution_count": 125,
   "metadata": {},
   "outputs": [
    {
     "name": "stderr",
     "output_type": "stream",
     "text": [
      "100%|██████████| 2924/2924 [01:55<00:00, 25.23it/s]\n"
     ]
    }
   ],
   "source": [
    "from tqdm import tqdm\n",
    "\n",
    "for i in tqdm(range(0, len(total), 32)):\n",
    "    batch = total[i:i+32]\n",
    "    sents = [b['masked_question'] for b in batch]\n",
    "    embeddings = model.encode(sents)\n",
    "    for idx, emb in enumerate(embeddings):\n",
    "        total[i+idx]['embedding'] = emb"
   ]
  },
  {
   "cell_type": "code",
   "execution_count": 126,
   "metadata": {},
   "outputs": [
    {
     "data": {
      "text/plain": [
       "['total_squad_with_embedding']"
      ]
     },
     "execution_count": 126,
     "metadata": {},
     "output_type": "execute_result"
    }
   ],
   "source": [
    "import joblib\n",
    "joblib.dump(total, \"total_squad_with_embedding\")"
   ]
  },
  {
   "cell_type": "code",
   "execution_count": 127,
   "metadata": {},
   "outputs": [
    {
     "data": {
      "text/plain": [
       "{'id': '5733be284776f41900661182',\n",
       " 'title': 'University_of_Notre_Dame',\n",
       " 'context': 'Architecturally, the school has a Catholic character. Atop the Main Building\\'s gold dome is a golden statue of the Virgin Mary. Immediately in front of the Main Building and facing it, is a copper statue of Christ with arms upraised with the legend \"Venite Ad Me Omnes\". Next to the Main Building is the Basilica of the Sacred Heart. Immediately behind the basilica is the Grotto, a Marian place of prayer and reflection. It is a replica of the grotto at Lourdes, France where the Virgin Mary reputedly appeared to Saint Bernadette Soubirous in 1858. At the end of the main drive (and in a direct line that connects through 3 statues and the Gold Dome), is a simple, modern stone statue of Mary.',\n",
       " 'question': 'To whom did the Virgin Mary allegedly appear in 1858 in Lourdes France?',\n",
       " 'answers': {'text': ['Saint Bernadette Soubirous'], 'answer_start': [515]},\n",
       " 'masked_question': 'To whom did [BLANK] allegedly appear in [BLANK] in [BLANK]?',\n",
       " 'embedding': array([ 1.05918786e-02,  4.44535688e-02,  1.54642807e-02,  4.83545437e-02,\n",
       "         1.18188160e-02,  3.70345563e-02,  2.35235430e-02, -2.38235593e-02,\n",
       "         5.97214885e-02, -2.38312371e-02,  2.87201703e-02, -3.10416496e-03,\n",
       "         7.20623359e-02, -7.84314349e-02, -9.87529382e-02,  8.66508782e-02,\n",
       "        -5.14096916e-02, -2.03498770e-02, -4.14015129e-02, -4.89975028e-02,\n",
       "        -2.26035342e-03,  4.34988998e-02,  2.47864313e-02, -8.83115679e-02,\n",
       "         3.50359045e-02,  4.52277958e-02, -4.09149267e-02, -7.59684816e-02,\n",
       "         3.12373005e-02,  5.61541170e-02, -1.36843072e-02,  3.29958200e-02,\n",
       "         5.75878285e-02, -3.70937819e-03,  8.54630247e-02,  5.99822868e-03,\n",
       "         1.33816108e-01,  6.03816733e-02,  2.97034867e-02, -2.27505174e-02,\n",
       "         4.03009281e-02,  5.06751835e-02, -2.14554537e-02,  6.53385520e-02,\n",
       "        -1.19813522e-02,  1.06598102e-02,  4.00346480e-02, -1.50520811e-02,\n",
       "        -5.25475964e-02, -3.17726657e-02, -3.73128951e-02, -8.06702953e-03,\n",
       "        -2.37940904e-02,  2.53703725e-02,  6.90159248e-03, -1.84649844e-02,\n",
       "         2.93681771e-02, -2.27627791e-02,  7.59682199e-03,  5.15730754e-02,\n",
       "        -3.50842439e-02,  7.30715096e-02, -5.85328043e-02,  7.17186183e-02,\n",
       "         7.61357695e-02, -7.33286962e-02, -2.59769186e-02, -6.75317124e-02,\n",
       "        -6.18530959e-02,  4.14114911e-03,  8.16238821e-02,  4.86484356e-02,\n",
       "         2.38283742e-02,  1.59826654e-03, -6.27924204e-02, -3.88141647e-02,\n",
       "         1.76644158e-02,  2.49121431e-02,  1.82016529e-02, -4.62745549e-03,\n",
       "         5.27850576e-02, -3.87599245e-02, -8.12750086e-02, -3.46919484e-02,\n",
       "        -2.96949092e-02,  3.06906141e-02, -8.76298454e-03, -7.04702809e-02,\n",
       "         2.68465816e-03,  3.38093415e-02, -6.83508143e-02,  6.38324674e-03,\n",
       "        -2.93259267e-02,  8.38218853e-02, -2.77720746e-02, -8.75685550e-03,\n",
       "         3.27621140e-02,  3.08209918e-02,  1.72270909e-02,  1.03901014e-01,\n",
       "        -2.09030565e-02, -1.25245275e-02, -1.26468465e-02,  7.93917403e-02,\n",
       "        -6.15878962e-02, -3.36659849e-02, -1.27675729e-02,  5.57069527e-03,\n",
       "        -5.44918105e-02, -2.00151862e-03,  1.13043033e-01, -4.14222851e-02,\n",
       "         2.43609641e-02, -2.06662025e-02, -8.35117400e-02, -3.92036736e-02,\n",
       "        -2.73388140e-02, -5.61034903e-02,  2.15958357e-02,  8.37763678e-03,\n",
       "         8.19495413e-03, -1.34138195e-02, -1.46704679e-02,  3.17266025e-02,\n",
       "        -2.48029567e-02,  5.19714057e-02, -1.13523304e-02, -4.22360300e-33,\n",
       "         7.17861131e-02,  8.00966695e-02,  2.60324758e-02,  1.43848713e-02,\n",
       "         4.75554056e-02,  3.10790539e-02, -1.50690870e-02,  3.04201543e-02,\n",
       "         3.93071324e-02,  2.02568993e-02,  9.09791887e-03, -6.41113296e-02,\n",
       "         4.77509946e-02,  8.76106136e-03, -8.62053707e-02,  5.81215248e-02,\n",
       "         2.40350291e-02,  1.76965613e-02, -7.30738714e-02, -1.61317475e-02,\n",
       "         3.83144654e-02,  1.30778328e-01, -2.72198506e-02, -1.14371469e-02,\n",
       "        -6.44420236e-02, -1.61102004e-02, -1.25667453e-02, -8.47202167e-02,\n",
       "         2.02758778e-02,  3.31255980e-02, -4.48927395e-02,  5.72602544e-03,\n",
       "         5.85625172e-02, -2.05694661e-02, -3.26839760e-02,  4.96926531e-02,\n",
       "        -1.17679993e-02, -8.98728371e-02, -4.93191481e-02,  2.31464114e-02,\n",
       "         1.38625745e-02, -5.68771968e-03,  3.84679995e-02, -4.20998856e-02,\n",
       "        -7.22706988e-02, -4.24639508e-02, -1.15927309e-02,  4.67978604e-02,\n",
       "         5.77605739e-02,  1.33079261e-01, -8.89109001e-02, -7.31246686e-03,\n",
       "         7.19113573e-02,  7.34254792e-02,  1.01561779e-02, -3.25311013e-02,\n",
       "        -3.11639719e-02, -8.00570026e-02, -4.20812219e-02, -3.94693352e-02,\n",
       "         4.12486717e-02,  9.50068757e-02, -1.30855972e-02,  3.75974178e-02,\n",
       "         1.97393075e-03, -3.93985808e-02,  2.80792899e-02, -1.03744976e-01,\n",
       "         9.66131873e-03, -7.92460144e-02, -7.94737265e-02,  3.97276320e-02,\n",
       "        -1.10412456e-01,  1.35591161e-02, -4.98663373e-02, -1.51829736e-03,\n",
       "         1.43216643e-02, -2.75098928e-03,  2.12798417e-02, -5.50107248e-02,\n",
       "         1.17107920e-01,  4.30894271e-02, -5.56581421e-03, -6.12774515e-04,\n",
       "        -1.22959591e-01,  4.14504576e-03, -4.02530767e-02, -1.14770392e-02,\n",
       "        -3.37506607e-02,  3.69971730e-02, -1.21019538e-02, -4.95709218e-02,\n",
       "        -7.80401006e-02, -5.29369208e-05, -6.13330938e-02,  1.08849969e-33,\n",
       "        -5.25512621e-02,  4.83443774e-03,  7.68143758e-02, -4.15317155e-02,\n",
       "        -4.60447855e-02, -7.76483044e-02,  6.87254444e-02, -3.96989211e-02,\n",
       "         8.77664536e-02,  2.95597855e-02,  5.48375808e-02, -2.78771482e-02,\n",
       "         1.91733409e-02,  3.26551311e-02,  2.60026921e-02,  2.75164377e-02,\n",
       "        -2.61118375e-02, -1.73822492e-02, -1.96488015e-02,  6.23124242e-02,\n",
       "        -2.53862003e-03, -1.87052470e-02, -7.56445006e-02, -5.09894341e-02,\n",
       "         5.82793690e-02,  3.14679556e-02,  2.32058153e-01,  7.40869017e-03,\n",
       "        -6.71458691e-02,  1.67309009e-02,  4.60668765e-02, -1.99750848e-02,\n",
       "        -8.77908543e-02,  1.94024798e-02, -3.55958380e-02,  6.31136522e-02,\n",
       "         6.11938089e-02,  5.16246706e-02,  1.13254413e-02,  1.81945004e-02,\n",
       "        -2.31919419e-02,  8.85939226e-02, -4.57581319e-02,  2.25739554e-02,\n",
       "        -5.94606847e-02, -1.26093323e-03, -9.92850885e-02,  1.31225465e-02,\n",
       "         5.74058220e-02, -8.09357911e-02, -7.17083141e-02, -1.23594264e-02,\n",
       "         4.14748350e-03, -7.91378878e-03, -2.13648118e-02,  3.09971347e-03,\n",
       "         1.51218064e-02,  5.44848852e-02,  1.39573485e-01, -4.49289754e-02,\n",
       "        -1.50857978e-02,  4.94902879e-02, -6.72957599e-02, -1.94856599e-02,\n",
       "        -3.37598776e-03,  3.22818905e-02, -2.52750665e-02,  9.39120948e-02,\n",
       "        -7.46490061e-02, -1.10834770e-01, -4.40952852e-02, -1.12637758e-01,\n",
       "        -3.37435193e-02, -6.26904294e-02,  1.09064288e-03,  1.29323155e-01,\n",
       "        -5.00680171e-02, -2.20854580e-02, -9.83909220e-02, -3.27367857e-02,\n",
       "         6.68557584e-02, -5.65645285e-02, -3.30887325e-02,  7.19362348e-02,\n",
       "         3.59037854e-02, -3.30156237e-02,  4.07958515e-02, -4.42867987e-02,\n",
       "        -2.23396439e-02,  2.02910565e-02,  3.66220833e-03,  3.46641876e-02,\n",
       "         6.46359697e-02,  7.78962451e-04, -9.51416269e-02, -2.35326745e-08,\n",
       "        -4.52111736e-02,  6.84563955e-03,  5.21708280e-03,  1.22297583e-02,\n",
       "        -2.98560467e-02, -4.05314043e-02,  8.81509334e-02, -8.06122646e-02,\n",
       "         1.84024014e-02,  4.77798246e-02, -7.22455755e-02,  9.13407467e-03,\n",
       "        -1.65948980e-02, -1.09732479e-01,  8.45974982e-02,  6.54039718e-03,\n",
       "        -8.91688168e-02, -2.90451031e-02, -5.00016920e-02, -1.70785170e-02,\n",
       "         1.28065124e-02,  2.78162472e-02, -2.07345765e-02, -3.60044427e-02,\n",
       "         4.95731179e-03,  1.58531535e-02,  1.96145363e-02,  1.70302074e-02,\n",
       "         2.52872258e-02,  1.93083454e-02,  2.35189628e-02,  6.56346753e-02,\n",
       "         4.64805849e-02, -8.63677934e-02, -1.79585423e-02,  5.28681949e-02,\n",
       "        -9.28791985e-03,  2.46337298e-02, -2.93958038e-02, -1.97381750e-02,\n",
       "        -4.86128079e-03, -5.46817183e-02, -1.87927503e-02, -1.73456734e-03,\n",
       "         2.87643243e-02, -1.02919256e-02,  2.71621905e-02, -2.59734951e-02,\n",
       "         3.74327227e-02, -3.56494933e-02, -6.77330047e-02, -4.07055998e-03,\n",
       "        -3.35510746e-02,  1.39548462e-02, -4.21944596e-02, -1.03898972e-01,\n",
       "         8.57107267e-02,  7.76864067e-02, -2.13710852e-02, -4.39336803e-03,\n",
       "         3.34617756e-02,  5.72725460e-02,  3.16032656e-02,  5.01368232e-02],\n",
       "       dtype=float32)}"
      ]
     },
     "execution_count": 127,
     "metadata": {},
     "output_type": "execute_result"
    }
   ],
   "source": [
    "total[0]"
   ]
  },
  {
   "cell_type": "code",
   "execution_count": 100,
   "metadata": {},
   "outputs": [],
   "source": [
    "from collections import Counter\n",
    "\n",
    "doc_count = Counter(result)"
   ]
  },
  {
   "cell_type": "code",
   "execution_count": 102,
   "metadata": {},
   "outputs": [
    {
     "data": {
      "text/plain": [
       "11"
      ]
     },
     "execution_count": 102,
     "metadata": {},
     "output_type": "execute_result"
    }
   ],
   "source": [
    "doc_count['Where is [BLANK] located?']"
   ]
  },
  {
   "cell_type": "code",
   "execution_count": 1,
   "metadata": {},
   "outputs": [],
   "source": [
    "from utils import evaluate_gpt\n",
    "import json\n",
    "with open(\"nq-test.json\", \"r\") as f:\n",
    "    data = json.load(f)"
   ]
  },
  {
   "cell_type": "code",
   "execution_count": 2,
   "metadata": {},
   "outputs": [
    {
     "name": "stderr",
     "output_type": "stream",
     "text": [
      "EM:  0.0%:   0%|          | 0/70 [00:00<?, ?it/s]"
     ]
    },
    {
     "name": "stdout",
     "output_type": "stream",
     "text": [
      "Sample :\n",
      " Answer these questions:\n",
      "Q: when is the publishers clearing house sweepstakes drawing?\n",
      "A: just after the Super Bowl\n",
      "Q: who got the first nobel prize in physics?\n",
      "A:\n"
     ]
    },
    {
     "name": "stderr",
     "output_type": "stream",
     "text": [
      "EM: 15.7%: 100%|██████████| 70/70 [00:38<00:00,  1.83it/s]"
     ]
    },
    {
     "name": "stdout",
     "output_type": "stream",
     "text": [
      "EM: 15.7%\n",
      "% of prompts with answer: 2.9%\n"
     ]
    },
    {
     "name": "stderr",
     "output_type": "stream",
     "text": [
      "\n"
     ]
    }
   ],
   "source": [
    "evaluate_gpt(data, num_docs=0, output_dir=\"result\",max_tokens_to_generate=60, is_test=True, max_test=70)"
   ]
  },
  {
   "cell_type": "code",
   "execution_count": 4,
   "metadata": {},
   "outputs": [],
   "source": [
    "import json\n",
    "import gzip\n",
    "\n",
    "# JSON 파일 로드\n",
    "with open('masked_test.json', 'r', encoding='utf-8') as f:\n",
    "    data1 = json.load(f)\n",
    "with open('masked_train.json', 'r', encoding='utf-8') as f:\n",
    "    data2 = json.load(f)\n",
    "data = data1 + data2\n",
    "del data1\n",
    "del data2\n",
    "# JSONL 형식으로 GZipped 파일로 저장\n",
    "with gzip.open('output.jsonl.gz', 'wt', encoding='utf-8') as f:\n",
    "    for item in data:\n",
    "        f.write(json.dumps(item) + '\\n')\n"
   ]
  },
  {
   "cell_type": "code",
   "execution_count": 10,
   "metadata": {},
   "outputs": [
    {
     "name": "stdout",
     "output_type": "stream",
     "text": [
      "{'id': '56be4db0acb8001400a502ee', 'title': 'Super_Bowl_50', 'context': 'Super Bowl 50 was an American football game to determine the champion of the National Football League (NFL) for the 2015 season. The American Football Conference (AFC) champion Denver Broncos defeated the National Football Conference (NFC) champion Carolina Panthers 24–10 to earn their third Super Bowl title. The game was played on February 7, 2016, at Levi\\'s Stadium in the San Francisco Bay Area at Santa Clara, California. As this was the 50th Super Bowl, the league emphasized the \"golden anniversary\" with various gold-themed initiatives, as well as temporarily suspending the tradition of naming each Super Bowl game with Roman numerals (under which the game would have been known as \"Super Bowl L\"), so that the logo could prominently feature the Arabic numerals 50.', 'question': 'Where did Super Bowl 50 take place?', 'answers': {'text': ['Santa Clara, California', \"Levi's Stadium\", \"Levi's Stadium in the San Francisco Bay Area at Santa Clara, California.\"], 'answer_start': [403, 355, 355]}, 'masked_question': 'Where did [BLANK] take place?'}\n",
      "{'id': '56be4db0acb8001400a502ec', 'title': 'Super_Bowl_50', 'context': 'Super Bowl 50 was an American football game to determine the champion of the National Football League (NFL) for the 2015 season. The American Football Conference (AFC) champion Denver Broncos defeated the National Football Conference (NFC) champion Carolina Panthers 24–10 to earn their third Super Bowl title. The game was played on February 7, 2016, at Levi\\'s Stadium in the San Francisco Bay Area at Santa Clara, California. As this was the 50th Super Bowl, the league emphasized the \"golden anniversary\" with various gold-themed initiatives, as well as temporarily suspending the tradition of naming each Super Bowl game with Roman numerals (under which the game would have been known as \"Super Bowl L\"), so that the logo could prominently feature the Arabic numerals 50.', 'question': 'Which NFL team represented the AFC at Super Bowl 50?', 'answers': {'text': ['Denver Broncos', 'Denver Broncos', 'Denver Broncos'], 'answer_start': [177, 177, 177]}, 'masked_question': 'Which [BLANK] team represented the [BLANK] at [BLANK]?'}\n"
     ]
    }
   ],
   "source": [
    "with gzip.open(\"/Users/seongilpark/rag/output.jsonl.gz\", \"rb\") as file_handle:\n",
    "    header = json.loads(file_handle.readline())            \n",
    "    for entry in file_handle:\n",
    "        entry = json.loads(entry)\n",
    "        print(entry)\n",
    "        break"
   ]
  },
  {
   "cell_type": "code",
   "execution_count": 11,
   "metadata": {},
   "outputs": [],
   "source": [
    "import spacy"
   ]
  },
  {
   "cell_type": "code",
   "execution_count": 12,
   "metadata": {},
   "outputs": [
    {
     "name": "stderr",
     "output_type": "stream",
     "text": [
      "/Users/seongilpark/rag/.venv/lib/python3.11/site-packages/tqdm/auto.py:21: TqdmWarning: IProgress not found. Please update jupyter and ipywidgets. See https://ipywidgets.readthedocs.io/en/stable/user_install.html\n",
      "  from .autonotebook import tqdm as notebook_tqdm\n"
     ]
    }
   ],
   "source": [
    "nlp = spacy.load(\"en_core_web_trf\")"
   ]
  },
  {
   "cell_type": "code",
   "execution_count": 8,
   "metadata": {},
   "outputs": [
    {
     "ename": "ModuleNotFoundError",
     "evalue": "No module named 'jsonlines'",
     "output_type": "error",
     "traceback": [
      "\u001b[0;31m---------------------------------------------------------------------------\u001b[0m",
      "\u001b[0;31mModuleNotFoundError\u001b[0m                       Traceback (most recent call last)",
      "\u001b[1;32m/home/seongilpark/rag/test.ipynb Cell 30\u001b[0m line \u001b[0;36m1\n\u001b[0;32m----> <a href='vscode-notebook-cell://ssh-remote%2B147.47.200.191/home/seongilpark/rag/test.ipynb#X41sdnNjb2RlLXJlbW90ZQ%3D%3D?line=0'>1</a>\u001b[0m \u001b[39mimport\u001b[39;00m \u001b[39mjsonlines\u001b[39;00m\n",
      "\u001b[0;31mModuleNotFoundError\u001b[0m: No module named 'jsonlines'"
     ]
    }
   ],
   "source": [
    "import jsonlines"
   ]
  },
  {
   "cell_type": "code",
   "execution_count": 2,
   "metadata": {},
   "outputs": [
    {
     "ename": "JSONDecodeError",
     "evalue": "Extra data: line 2 column 1 (char 48)",
     "output_type": "error",
     "traceback": [
      "\u001b[0;31m---------------------------------------------------------------------------\u001b[0m",
      "\u001b[0;31mJSONDecodeError\u001b[0m                           Traceback (most recent call last)",
      "Cell \u001b[0;32mIn[2], line 2\u001b[0m\n\u001b[1;32m      1\u001b[0m \u001b[38;5;28;01mwith\u001b[39;00m \u001b[38;5;28mopen\u001b[39m(\u001b[38;5;124m\"\u001b[39m\u001b[38;5;124m/home/seongilpark/rag/datasets/substitution-sets/SquadDataset_corpusSubstitution.jsonl\u001b[39m\u001b[38;5;124m\"\u001b[39m, \u001b[38;5;124m\"\u001b[39m\u001b[38;5;124mrb\u001b[39m\u001b[38;5;124m\"\u001b[39m) \u001b[38;5;28;01mas\u001b[39;00m f:\n\u001b[0;32m----> 2\u001b[0m     data \u001b[38;5;241m=\u001b[39m \u001b[43mjson\u001b[49m\u001b[38;5;241;43m.\u001b[39;49m\u001b[43mload\u001b[49m\u001b[43m(\u001b[49m\u001b[43mf\u001b[49m\u001b[43m)\u001b[49m\n",
      "File \u001b[0;32m/usr/lib/python3.8/json/__init__.py:293\u001b[0m, in \u001b[0;36mload\u001b[0;34m(fp, cls, object_hook, parse_float, parse_int, parse_constant, object_pairs_hook, **kw)\u001b[0m\n\u001b[1;32m    274\u001b[0m \u001b[38;5;28;01mdef\u001b[39;00m \u001b[38;5;21mload\u001b[39m(fp, \u001b[38;5;241m*\u001b[39m, \u001b[38;5;28mcls\u001b[39m\u001b[38;5;241m=\u001b[39m\u001b[38;5;28;01mNone\u001b[39;00m, object_hook\u001b[38;5;241m=\u001b[39m\u001b[38;5;28;01mNone\u001b[39;00m, parse_float\u001b[38;5;241m=\u001b[39m\u001b[38;5;28;01mNone\u001b[39;00m,\n\u001b[1;32m    275\u001b[0m         parse_int\u001b[38;5;241m=\u001b[39m\u001b[38;5;28;01mNone\u001b[39;00m, parse_constant\u001b[38;5;241m=\u001b[39m\u001b[38;5;28;01mNone\u001b[39;00m, object_pairs_hook\u001b[38;5;241m=\u001b[39m\u001b[38;5;28;01mNone\u001b[39;00m, \u001b[38;5;241m*\u001b[39m\u001b[38;5;241m*\u001b[39mkw):\n\u001b[1;32m    276\u001b[0m \u001b[38;5;250m    \u001b[39m\u001b[38;5;124;03m\"\"\"Deserialize ``fp`` (a ``.read()``-supporting file-like object containing\u001b[39;00m\n\u001b[1;32m    277\u001b[0m \u001b[38;5;124;03m    a JSON document) to a Python object.\u001b[39;00m\n\u001b[1;32m    278\u001b[0m \n\u001b[0;32m   (...)\u001b[0m\n\u001b[1;32m    291\u001b[0m \u001b[38;5;124;03m    kwarg; otherwise ``JSONDecoder`` is used.\u001b[39;00m\n\u001b[1;32m    292\u001b[0m \u001b[38;5;124;03m    \"\"\"\u001b[39;00m\n\u001b[0;32m--> 293\u001b[0m     \u001b[38;5;28;01mreturn\u001b[39;00m \u001b[43mloads\u001b[49m\u001b[43m(\u001b[49m\u001b[43mfp\u001b[49m\u001b[38;5;241;43m.\u001b[39;49m\u001b[43mread\u001b[49m\u001b[43m(\u001b[49m\u001b[43m)\u001b[49m\u001b[43m,\u001b[49m\n\u001b[1;32m    294\u001b[0m \u001b[43m        \u001b[49m\u001b[38;5;28;43mcls\u001b[39;49m\u001b[38;5;241;43m=\u001b[39;49m\u001b[38;5;28;43mcls\u001b[39;49m\u001b[43m,\u001b[49m\u001b[43m \u001b[49m\u001b[43mobject_hook\u001b[49m\u001b[38;5;241;43m=\u001b[39;49m\u001b[43mobject_hook\u001b[49m\u001b[43m,\u001b[49m\n\u001b[1;32m    295\u001b[0m \u001b[43m        \u001b[49m\u001b[43mparse_float\u001b[49m\u001b[38;5;241;43m=\u001b[39;49m\u001b[43mparse_float\u001b[49m\u001b[43m,\u001b[49m\u001b[43m \u001b[49m\u001b[43mparse_int\u001b[49m\u001b[38;5;241;43m=\u001b[39;49m\u001b[43mparse_int\u001b[49m\u001b[43m,\u001b[49m\n\u001b[1;32m    296\u001b[0m \u001b[43m        \u001b[49m\u001b[43mparse_constant\u001b[49m\u001b[38;5;241;43m=\u001b[39;49m\u001b[43mparse_constant\u001b[49m\u001b[43m,\u001b[49m\u001b[43m \u001b[49m\u001b[43mobject_pairs_hook\u001b[49m\u001b[38;5;241;43m=\u001b[39;49m\u001b[43mobject_pairs_hook\u001b[49m\u001b[43m,\u001b[49m\u001b[43m \u001b[49m\u001b[38;5;241;43m*\u001b[39;49m\u001b[38;5;241;43m*\u001b[39;49m\u001b[43mkw\u001b[49m\u001b[43m)\u001b[49m\n",
      "File \u001b[0;32m/usr/lib/python3.8/json/__init__.py:357\u001b[0m, in \u001b[0;36mloads\u001b[0;34m(s, cls, object_hook, parse_float, parse_int, parse_constant, object_pairs_hook, **kw)\u001b[0m\n\u001b[1;32m    352\u001b[0m     \u001b[38;5;28;01mdel\u001b[39;00m kw[\u001b[38;5;124m'\u001b[39m\u001b[38;5;124mencoding\u001b[39m\u001b[38;5;124m'\u001b[39m]\n\u001b[1;32m    354\u001b[0m \u001b[38;5;28;01mif\u001b[39;00m (\u001b[38;5;28mcls\u001b[39m \u001b[38;5;129;01mis\u001b[39;00m \u001b[38;5;28;01mNone\u001b[39;00m \u001b[38;5;129;01mand\u001b[39;00m object_hook \u001b[38;5;129;01mis\u001b[39;00m \u001b[38;5;28;01mNone\u001b[39;00m \u001b[38;5;129;01mand\u001b[39;00m\n\u001b[1;32m    355\u001b[0m         parse_int \u001b[38;5;129;01mis\u001b[39;00m \u001b[38;5;28;01mNone\u001b[39;00m \u001b[38;5;129;01mand\u001b[39;00m parse_float \u001b[38;5;129;01mis\u001b[39;00m \u001b[38;5;28;01mNone\u001b[39;00m \u001b[38;5;129;01mand\u001b[39;00m\n\u001b[1;32m    356\u001b[0m         parse_constant \u001b[38;5;129;01mis\u001b[39;00m \u001b[38;5;28;01mNone\u001b[39;00m \u001b[38;5;129;01mand\u001b[39;00m object_pairs_hook \u001b[38;5;129;01mis\u001b[39;00m \u001b[38;5;28;01mNone\u001b[39;00m \u001b[38;5;129;01mand\u001b[39;00m \u001b[38;5;129;01mnot\u001b[39;00m kw):\n\u001b[0;32m--> 357\u001b[0m     \u001b[38;5;28;01mreturn\u001b[39;00m \u001b[43m_default_decoder\u001b[49m\u001b[38;5;241;43m.\u001b[39;49m\u001b[43mdecode\u001b[49m\u001b[43m(\u001b[49m\u001b[43ms\u001b[49m\u001b[43m)\u001b[49m\n\u001b[1;32m    358\u001b[0m \u001b[38;5;28;01mif\u001b[39;00m \u001b[38;5;28mcls\u001b[39m \u001b[38;5;129;01mis\u001b[39;00m \u001b[38;5;28;01mNone\u001b[39;00m:\n\u001b[1;32m    359\u001b[0m     \u001b[38;5;28mcls\u001b[39m \u001b[38;5;241m=\u001b[39m JSONDecoder\n",
      "File \u001b[0;32m/usr/lib/python3.8/json/decoder.py:340\u001b[0m, in \u001b[0;36mJSONDecoder.decode\u001b[0;34m(self, s, _w)\u001b[0m\n\u001b[1;32m    338\u001b[0m end \u001b[38;5;241m=\u001b[39m _w(s, end)\u001b[38;5;241m.\u001b[39mend()\n\u001b[1;32m    339\u001b[0m \u001b[38;5;28;01mif\u001b[39;00m end \u001b[38;5;241m!=\u001b[39m \u001b[38;5;28mlen\u001b[39m(s):\n\u001b[0;32m--> 340\u001b[0m     \u001b[38;5;28;01mraise\u001b[39;00m JSONDecodeError(\u001b[38;5;124m\"\u001b[39m\u001b[38;5;124mExtra data\u001b[39m\u001b[38;5;124m\"\u001b[39m, s, end)\n\u001b[1;32m    341\u001b[0m \u001b[38;5;28;01mreturn\u001b[39;00m obj\n",
      "\u001b[0;31mJSONDecodeError\u001b[0m: Extra data: line 2 column 1 (char 48)"
     ]
    }
   ],
   "source": [
    "with open(\"/home/seongilpark/rag/datasets/substitution-sets/SquadDataset_corpusSubstitution.jsonl\", \"rb\") as f:\n",
    "    data = json.load(f)"
   ]
  },
  {
   "cell_type": "code",
   "execution_count": 6,
   "metadata": {},
   "outputs": [],
   "source": [
    "# id 정보를 모아서 저장하는 예시\n",
    "id_list = []\n",
    "\n",
    "# open 내의 디렉토리 및 파일 이름에 유의\n",
    "with jsonlines.open(\"/home/seongilpark/rag/datasets/substitution-sets/SquadDataset_corpusSubstitution.jsonl\") as f:\n",
    "    for line in f:\n",
    "    \tid_list.append(line)"
   ]
  },
  {
   "cell_type": "code",
   "execution_count": 9,
   "metadata": {},
   "outputs": [
    {
     "data": {
      "text/plain": [
       "{'uid': 'corpus-sub-0_56be8e613aeaaa14008c90d2',\n",
       " 'query': 'What day was the game played on?',\n",
       " 'context': 'Super Bowl 50 was an American football game to determine the champion of the National Football League (NFL) for the 2015 season. The American Football Conference (AFC) champion Denver Broncos defeated the National Football Conference (NFC) champion Carolina Panthers 24–10 to earn their third Super Bowl title. The game was played on 10th century, at Levi\\'s Stadium in the San Francisco Bay Area at Santa Clara, California. As this was the 50th Super Bowl, the league emphasized the \"golden anniversary\" with various gold-themed initiatives, as well as temporarily suspending the tradition of naming each Super Bowl game with Roman numerals (under which the game would have been known as \"Super Bowl L\"), so that the logo could prominently feature the Arabic numerals 50.',\n",
       " 'metadata': None,\n",
       " 'is_substitute': True,\n",
       " 'gold_answers': [{'text': '10th century',\n",
       "   'spans': None,\n",
       "   'ner_label': 'DATE',\n",
       "   'kb_id': 'Q8052',\n",
       "   'wikidata_label': '10th century',\n",
       "   'aliases': ['10th-century'],\n",
       "   'wikidata_types': ['q578'],\n",
       "   'wikipedia_page': '10th_century',\n",
       "   'popularity': 234,\n",
       "   'answer_type': 'DATE'}],\n",
       " 'original_example': {'uid': '56be8e613aeaaa14008c90d2',\n",
       "  'query': 'What day was the game played on?',\n",
       "  'context': 'Super Bowl 50 was an American football game to determine the champion of the National Football League (NFL) for the 2015 season. The American Football Conference (AFC) champion Denver Broncos defeated the National Football Conference (NFC) champion Carolina Panthers 24–10 to earn their third Super Bowl title. The game was played on February 7, 2016, at Levi\\'s Stadium in the San Francisco Bay Area at Santa Clara, California. As this was the 50th Super Bowl, the league emphasized the \"golden anniversary\" with various gold-themed initiatives, as well as temporarily suspending the tradition of naming each Super Bowl game with Roman numerals (under which the game would have been known as \"Super Bowl L\"), so that the logo could prominently feature the Arabic numerals 50.',\n",
       "  'metadata': None,\n",
       "  'is_substitute': False,\n",
       "  'gold_answers': [{'text': 'February 7, 2016',\n",
       "    'spans': [[334, 350]],\n",
       "    'ner_label': 'DATE',\n",
       "    'kb_id': None,\n",
       "    'wikidata_label': None,\n",
       "    'aliases': None,\n",
       "    'wikidata_types': None,\n",
       "    'wikipedia_page': None,\n",
       "    'popularity': None,\n",
       "    'answer_type': None},\n",
       "   {'text': 'February 7',\n",
       "    'spans': [[334, 344]],\n",
       "    'ner_label': 'DATE',\n",
       "    'kb_id': 'Q2322',\n",
       "    'wikidata_label': 'February 7',\n",
       "    'aliases': ['7 February', 'February 7th', '7th of February', 'Feb 7'],\n",
       "    'wikidata_types': ['q14795564'],\n",
       "    'wikipedia_page': 'February_7',\n",
       "    'popularity': 37,\n",
       "    'answer_type': 'DATE'},\n",
       "   {'text': 'February 7, 2016',\n",
       "    'spans': [[334, 350]],\n",
       "    'ner_label': 'DATE',\n",
       "    'kb_id': None,\n",
       "    'wikidata_label': None,\n",
       "    'aliases': None,\n",
       "    'wikidata_types': None,\n",
       "    'wikipedia_page': None,\n",
       "    'popularity': None,\n",
       "    'answer_type': None}],\n",
       "  'original_example': None}}"
      ]
     },
     "execution_count": 9,
     "metadata": {},
     "output_type": "execute_result"
    }
   ],
   "source": [
    "id_list[1]"
   ]
  },
  {
   "cell_type": "code",
   "execution_count": 1,
   "metadata": {},
   "outputs": [],
   "source": [
    "import json"
   ]
  },
  {
   "cell_type": "code",
   "execution_count": 2,
   "metadata": {},
   "outputs": [],
   "source": [
    "with open(\"nq-train.json\", \"r\") as f:\n",
    "    nq = json.load(f)"
   ]
  },
  {
   "cell_type": "code",
   "execution_count": 12,
   "metadata": {},
   "outputs": [
    {
     "name": "stdout",
     "output_type": "stream",
     "text": [
      "Knolwedge: on death row in the United States on January 1, 2013. Since 1977, the states of Texas (464), Virginia (108) and Oklahoma (94) have executed the most death row inmates. , California (683), Florida (390), Texas (330) and Pennsylvania (218) housed more than half of all inmates pending on death row. , the longest-serving prisoner on death row in the US who has been executed was Jack Alderman who served over 33 years. He was executed in Georgia in 2008. However, Alderman only holds the distinction of being the longest-serving \"executed\" inmate so far. A Florida inmate, Gary Alvord, arrived\n",
      "Question: total number of death row inmates in the us\n",
      "Answer: 2,718\n",
      "Knolwedge: for India's victory. During his innings of 53 Indian captain Virat Kohli became the fastest batsmen in terms of innings to reach 6000 career ODI runs. Yadav achieved his maiden 4-wicket haul in ODIs. The fourth match of the series became a one-man show. Rohit Sharma, playing his first international match after fracturing his finger against England in August 2014, scored a record-breaking 264 off 173 balls, as India scored 404 in their allocated 50 overs. The innings involved a 202 run partnership for the 3rd wicket between Sharma and captain Virat Kohli, and a 128 run partnership for the\n",
      "Question: which indian captain has won the maximum matches against sri lanka\n",
      "Answer: Virat Kohli\n",
      "Knolwedge: stylings of Marvel's most prominent artist, Jack Kirby, and combined with the humor and pathos of Lee's writing to lay the foundation for what became an enduring mythos. Most of Spider-Man's key villains and supporting characters were introduced during this time. Issue #1 (March 1963) featured the first appearances of J. Jonah Jameson and his astronaut son John Jameson, and the supervillain the Chameleon. It included the hero's first encounter with the superhero team the Fantastic Four. Issue #2 (May 1963) featured the first appearance of the Vulture and the Tinkerer as well as the beginning of Parker's freelance photography\n",
      "Question: when did spider man first appear in comics\n",
      "Answer: August 1962\n",
      "Knolwedge: Saba University School of Medicine Saba University School of Medicine is a medical school located on Saba, a special municipality of the Netherlands in the Caribbean. Saba University confers upon its graduates the Doctor of Medicine (MD) degree. Saba University School of Medicine was founded in 1992 as an international alternative to U.S. and Canadian medical schools. Since its founding, more than 2500 students have earned their medical degree at Saba. Class sizes are 80-100 students per matriculating class. Students complete the first 20 months (five semesters) of basic science medical education on the campus on Saba and return to\n",
      "Question: where is saba university school of medicine located\n",
      "Answer: Saba\n",
      "Knolwedge: are 45 calories in one cookie. Of these 45 calories, 27 come from carbohydrates, 16.5 come from fat, and only 1.5 calories are provided by protein. Different Oreo flavors have varying amounts of carbohydrate: the chocolate fudge Oreo contains 13g of total carbohydrates (4% of the recommended daily intake) and 9g of sugars per serving of 3 cookies, while mint Oreos contain 25g of total carbohydrates and 18g of sugars per serving. Vitamins, minerals and proteins are found in small amounts, however Oreos do not contain any vitamin A or vitamin C. In addition to their traditional design of two\n",
      "Question: how many calories does a cosmic brownie have\n",
      "Answer: 280\n",
      "Knolwedge: but that he would have been happy if Ricky Martin, who plays his role, got in contact to get some insight into his relationship with Versace. According to Ryan Murphy, Donatella Versace was very supportive that Penélope Cruz played her role. As Cruz and Versace are friends, Murphy explained that, when he offered her the role, Cruz asked the permission of Versace before agreeing to do it. He also revealed that, while Cruz was representing the series at the 75th Golden Globe Awards, Versace \"very graciously sent [her] a lovely and huge flower arrangement saying 'good luck.'\" The Assassination of\n",
      "Question: who played david in the assassination of versace\n",
      "Answer: Terry Sweeney\n",
      "Knolwedge: the dark side of the moon\", which became a famous metaphor of human irrationality, expresses that madness that is always present but invisible, waiting to be exposed. In Sigmund Freud's terms it would be the unconscious. Some releases of \"Dark Side of the Moon\", for example TC-SHVL. 804 (cassette, New Zealand release) and Q4SHVL 804(quad LP, UK release) have a different mix of \"Brain Damage\". During the closing instrumental, beginning at about 3:02, after the second chorus and leading into the final track, \"Eclipse\", only Peter Watts' \"lunatic laughing\" is heard, repeatedly, unlike other versions which have the speech sample\n",
      "Question: who laughs on dark side of the moon\n",
      "Answer: Peter Watts\n",
      "Knolwedge: and French revolutions. Today, the concept of common sense, and how it should best be used, remains linked to many of the most perennial topics in epistemology and ethics, with special focus often directed at the philosophy of the modern social sciences. The origin of the term is in the works of Aristotle. The best-known case is \"De Anima\" Book III, chapter 1, especially at line 425a27. The passage is about how the animal mind converts raw sense perceptions from the five specialized sense perceptions, into perceptions of real things moving and changing, which can be thought about. According to\n",
      "Question: where did the term common sense come from\n",
      "Answer: the works of Aristotle\n",
      "Knolwedge: League of Nations The League of Nations (abbreviated as LN or LoN in English, \"\" abbreviated as ' or ' in French) was an intergovernmental organisation founded on 10 January 1920 as a result of the Paris Peace Conference that ended the First World War. It was the first international organisation whose principal mission was to maintain world peace. Its primary goals, as stated in its Covenant, included preventing wars through collective security and disarmament and settling international disputes through negotiation and arbitration. Other issues in this and related treaties included labour conditions, just treatment of native inhabitants, human and\n",
      "Question: what is the main purpose of the league of nations\n",
      "Answer: maintain world peace\n",
      "Knolwedge: upon payment of a US$295 million settlement), and a voluntary agreement between De Beers and the European Commission. The latter agreement had been overturned upon appeal by the Russian mining company Alrosa, but the European Court of Justice then upheld the decision and the European Commission subsequently concluded its investigation with no more action being taken against De Beers. Today, annual global rough diamond production is estimated to be about , of which 92% is cut and polished in India, mostly in the city of Surat. Some 85% of the world's rough diamonds, 50% of cut diamonds, and 40% of\n",
      "Question: which country produces most of the worlds diamonds\n",
      "Answer: Russia\n",
      "Knolwedge: and its native planting programs on eastern Long Island. Billy Squier William Haislip Squier (, born May 12, 1950) is an American rock musician. Squier had a string of arena rock hits in the 1980s. He is best known for the song \"The Stroke\", from his 1981 album \"Don't Say No\". Other hits include \"My Kinda Lover\", \"In the Dark\", \"Rock Me Tonite\", \"Lonely Is the Night\", \"Everybody Wants You\" and \"Emotions in Motion\". Squier was born in Wellesley, Massachusetts. He is a 1968 graduate of Wellesley High School. While growing up, he began playing piano and guitar, but did\n",
      "Question: who sings the song stroke me stroke me\n",
      "Answer: American rock artist Billy Squier\n",
      "Knolwedge: I'm Gonna Make You Mine (Tanya Blount song) \"I'm Gonna Make You Mine\" is a song released in 1994 by American R&B singer Tanya Blount. It is the lead single from her debut album, \"Natural Thing\". The song peaked to No. 57 on the \"Billboard\" R&B Singles chart. The song bears no relation to the same-named 1969 Lou Christie hit. A contemporary review edited by Larry Flick in the \"NEW & NOTEWORTHY\" section of the \"Billboard\" Single Reviews reads, 'hip-swaying pop/funk jam ushers a promising new vocalist into the urban radio fold. Chunky beats click respectably, while Blount vamps with\n",
      "Question: who sang i 'm going to make you mine\n",
      "Answer: The Temptations\n",
      "Knolwedge: \"Bat Out of Hell\" before being rejected by the singer and Steinman in favor of Todd Rundgren, whom Meat Loaf initially found cocky but grew to like. Rundgren found the album hilarious, thinking it was a parody of Springsteen. The singer quotes him as saying: \"I've 'got' to do this album. It's just so 'out' there.\" They told the producer that they had previously been signed to RCA. Recording started in late 1975 in Bearsville Studios, Woodstock, New York. Roy Bittan and Max Weinberg, the pianist and drummer from Bruce Springsteen's E Street Band played on the album, in addition\n",
      "Question: who played piano on bat out of hell\n",
      "Answer: Roy Bittan\n",
      "Knolwedge: I Want You to Want Me \"I Want You to Want Me\" is a song by the American rock band Cheap Trick from their second album \"In Color\", released in September 1977. It was the first single released from that album, but it did not chart in the United States. \"I Want You to Want Me\" was a number-one single in Japan. Its success in Japan, as well as the success of its preceding single \"Clock Strikes Ten\" paved the way for Cheap Trick's concerts at Nippon Budokan in Tokyo in April 1978 that were recorded for the group's most\n",
      "Question: who sings i want you to love me\n",
      "Answer: Cheap Trick\n",
      "Knolwedge: Antiques Roadshow Antiques Roadshow is a British television programme in which antiques appraisers travel to various regions of the United Kingdom (and occasionally in other countries) to appraise antiques brought in by local people. It has been running since 1979, based on a 1977 documentary programme. The programme has spawned versions in other countries with the same TV format, including Canada and the United States. As of 2018 it is in its 40th series and is currently presented by Fiona Bruce. The programme began as a 1977 BBC documentary about a London auction house doing a tour of the West\n",
      "Question: who was the first host of antiques roadshow\n",
      "Answer: Chris Jussel\n",
      "Knolwedge: It Happened One Night It Happened One Night is a 1934 pre-Code American romantic comedy film with elements of screwball comedy directed and co-produced by Frank Capra, in collaboration with Harry Cohn, in which a pampered socialite (Claudette Colbert) tries to get out from under her father's thumb and falls in love with a roguish reporter (Clark Gable). The plot is based on the August 1933 short story \"Night Bus\" by Samuel Hopkins Adams, which provided the shooting title. Classified as a \"pre-Code\" production, the film is among the last romantic comedies created before the MPAA began rigidly enforcing the\n",
      "Question: who directed the screwball comedy classis it happened one night /\n",
      "Answer: Frank Capra\n",
      "Knolwedge: Noli Me Tángere (novel) Noli Me Tángere (Latin for \"Don't Touch Me\") is a novel written by José Rizal, one of the national heroes of the Philippines, during the colonization of the country by Spain to describe perceived inequities of the Spanish Catholic priests and the ruling government. Originally written in Spanish, the book is more commonly published and read in the Philippines in either Tagalog or English. Together with its sequel, \"El Filibusterismo\", the reading of \"Noli\" is obligatory for high school students throughout the country. The two novels are widely considered as the national epic of the Philippines\n",
      "Question: when did jose rizal wrote noli me tangere\n",
      "Answer: 1886\n",
      "Knolwedge: quits the musical and rejoins the glee club when she realizes that she would rather be in a group in which she has friends. She has a brief relationship with another glee club member, Puck (Mark Salling), who is also Jewish, and is a football player who used to bully her, but she breaks up with him due to her continuing feelings for Finn. She later discovers and reveals to Finn that Quinn's pregnancy was not caused by him, but that Puck is the father; furious, Finn attacks Puck, breaks up with Quinn, and drops out of New Directions. He\n",
      "Question: who did rachel have a baby with on friends\n",
      "Answer: Ross\n",
      "Knolwedge: episodes, titled , were screened at an event held at Odaiba Cinema Mediage theater in Tokyo on March 6, 2011, with only one of the episodes aired on TBS on April 8, 2011. Kämpfer Natsuru Senō attends a high school that separates the boys from the girls. He has a crush on school beauty Kaede Sakura, who has a peculiar collection of , stuffed animals styled in brutal ways of dying. One day, Natsuru discovers he has turned into a girl. His stuffed tiger named Harakiri Tora awakens and tells him that he has been chosen as a , a\n",
      "Question: who does natsuru end up with in kampfer\n",
      "Answer: varies for each medium\n",
      "Knolwedge: pay raises for government employees, and additional funding for the K–12 education system. Arizona's executive branch is headed by a governor, who is elected to a four-year term. The governor may serve any number of terms, though no more than two in a row. Arizona is one of the few states that does not maintain a governor's mansion. During office the governors reside within their private residence, and all executive offices are housed in the executive tower at the state capitol. The current governor of Arizona is Doug Ducey (R). Former Governor Jan Brewer assumed office after Janet Napolitano had\n",
      "Question: does arizona have a republican or democratic governor\n",
      "Answer: Republican\n",
      "Knolwedge: an absolute majority of states (currently 26 of 50). There have been two contingent presidential elections in the nation's history. A 73–73 electoral vote tie between Thomas Jefferson and fellow Democratic-Republican Aaron Burr in the election of 1800 necessitated the first. Conducted under the original procedure established by of the Constitution, which stipulates that if two or three persons received a majority vote and an equal vote, the House of Representatives would choose one of them for president; the runner up would become Vice President. On February 17, 1801, Jefferson was elected president on the 36th ballot, and Burr became\n",
      "Question: who was the oldest elected president of the united states of america\n",
      "Answer: Donald Trump\n",
      "Knolwedge: Ethel Merman and Ray Middleton. During the song, they argue playfully about who can, for example, sing softer, sing higher, sing sweeter, and hold a note for longer, and boast of their abilities and accomplishments, such as opening safes and living on bread and cheese, although Annie always seems to counter Frank's argument. Neither can \"bake a pie,\" though. Anything You Can Do (I Can Do Better) \"Anything You Can Do\" is a song composed by Irving Berlin for the 1946 Broadway musical \"Annie Get Your Gun\". The song is a duet, with one male singer and one female singer\n",
      "Question: who sang anything you can do i can do better\n",
      "Answer: Ethel Merman\n",
      "Knolwedge: The Fighter (Keith Urban song) \"The Fighter\" is a song co-written and recorded by New Zealand-born Australian country singer Keith Urban featuring Carrie Underwood as a duet. It was released on 6 February 2017 as the fifth and final single from Urban's 2016 album, \"Ripcord\". Urban co-wrote and co-produced this song with busbee. The song has entered the record charts of Australia, Canada, the United States, Belgium, and Scotland, where it became Urban's first song to enter the Scottish and Belgian charts. The song is set in the key of B minor with a main chord pattern of G7–A4–F7–Bm and\n",
      "Question: who wrote the song the fighter by keith urban\n",
      "Answer: Keith Urban\n",
      "Knolwedge: to switch from bicameralism to unicameralism was Sverdlovsk Oblast in 2012. During the 1930s, the Legislature of the State of Nebraska was reduced from bicameral to unicameral with the 43 members that once comprised that state's Senate. One of the arguments used to sell the idea at the time to Nebraska voters was that by adopting a unicameral system, the perceived evils of the \"conference committee\" process would be eliminated. A conference committee is appointed when the two chambers cannot agree on the same wording of a proposal, and consists of a small number of legislators from each chamber. This\n",
      "Question: all state legislatures throughout the united states are bicameral except this state\n",
      "Answer: Nebraska\n",
      "Knolwedge: a federal crime, as the Constitution permitted, starting January 1, 1808. The Constitution of the United States took effect in 1789 and included several provisions regarding slavery. Section 9 of Article I forbade the Federal government from preventing states from importing slaves before January 1, 1808. As a protection for slavery, the delegates approved Section 2 of Article IV, which prohibited states from freeing slaves who fled to them from another state, and required the return of chattel property to owners. In a section negotiated by James Madison of Virginia, Section 2 of Article I designated \"other persons\" (slaves) to\n",
      "Question: when was slavery defined in law and custom\n",
      "Answer: 1807\n",
      "Knolwedge: on Call\", funded by Pfizer, highlighting the work of large animal veterinarians. Peter Ostrum Peter Gardner Ostrum (; born November 1, 1957) is an American veterinarian and former child actor whose only film role was as Charlie Bucket in the 1971 motion picture \"Willy Wonka & the Chocolate Factory\". Ostrum was 12 years old when selected by talent agents for \"Willy Wonka\". Though he enjoyed the experience of shooting the film, he opted not to sign a three-film contract when it was over. After eschewing a career in film and theatre, Ostrum became reluctant to speak about his one starring\n",
      "Question: who plays charlie from charlie and the chocolate factory\n",
      "Answer: Peter Gardner Ostrum\n",
      "Knolwedge: the golden buzzer for 12-year-old singing ventriloquist Darci Lynne Farmer. In subsequent episodes, Simon Cowell pressed it for 29-year-old deaf singer-songwriter and ukeleleist, Mandy Harvey, Howie Mandel chose 16-year-old singer Christian Guardino, Tyra Banks pressed it for Light Balance dance crew, and Heidi Klum chose 13-year-old singer Angelina Green. On June 11, 2017, contestant Brandon Rogers died in an automobile accident. Rogers was an American physician who specialized in family medicine. Earlier in 2017, after seeing YouTube videos of Rogers singing, Boyz II Men invited him to sing with them as a guest in three of their Las Vegas shows.\n",
      "Question: who were the finalists in americas got talent 2017\n",
      "Answer: Evie Clair\n",
      "Knolwedge: teams in a single region (the South) advanced to the Sweet 16. Also, the tournament featured the first regional final matchup of a 9-seed (Kansas State) and an 11-seed (Loyola-Chicago). Villanova, Michigan, Kansas, and Loyola-Chicago, the “Cinderella team” of the tournament, reached the Final Four. Villanova defeated Michigan in the championship game, 79–62. Atlantic Sun Conference champion Lipscomb made its NCAA tournament debut. A total of 68 teams entered the 2018 tournament. 32 automatic bids were awarded, one to each program that won their conference tournament. The remaining 36 bids were \"at-large\", with selections extended by the NCAA Selection Committee.\n",
      "Question: who is in the 2018 mens final four\n",
      "Answer: Michigan\n",
      "Knolwedge: in 13 takes on 7 July 1969. John Lennon did not contribute to the song as he was recovering from a car crash. Towards the end of the session Harrison spent an hour re-recording his acoustic guitar part. He capoed his guitar on the 7th fret, resulting in the final key of A major (in fact, slightly above A major due to the track being varispeeded by less than a semitone). He also used the same technique on his 1965 song \"If I Needed Someone\", which shares a similar melodic pattern. The following day he taped his lead vocals, and\n",
      "Question: who played drums on here comes the sun\n",
      "Answer: Stuart Elliott\n",
      "Knolwedge: Brooklyn Nets The Brooklyn Nets are an American professional basketball team based in the borough of Brooklyn, in New York City. The Nets compete in the National Basketball Association (NBA) as a member of the Atlantic Division of the Eastern Conference. The team plays its home games at Barclays Center. They are one of two NBA teams located in New York City; the other is the New York Knicks. The team was established in 1967 as a charter franchise of the NBA's rival league, the American Basketball Association (ABA). They played in New Jersey as the New Jersey Americans during\n",
      "Question: where did the nets play in new jersey\n",
      "Answer: Teaneck , New Jersey\n",
      "Knolwedge: to transform an ordinary home into an instant restaurant complete with theme and table decorations for one pressure-cooker night. The current judging panel consists of celebrity chefs and hosts Pete Evans and Manu Feildel. Filling four spots at the Kitchen HQ judging table are local celebrity chef and former Masterchef NZ Winner, Nadia Lim; former Masterchef NZ judge, Ray McVinnie; 2016 Metropolitan Chef of the Year, Tom Hishon; and acclaimed restaurateur, Sean Connolly. Grouped into two, the teams initially are to compete in an instant restaurant round. Each episode focuses on one team's day of cooking, setting up their instant\n",
      "Question: who won my kitchen rules new zealand 2015\n",
      "Answer: Jess and Stella ,\n",
      "Knolwedge: iteration of the ESPY Awards, ceremonies were conducted in February of each year to honor achievements over the previous calendar year; awards presented thereafter are conferred in June and reflect performance from the June previous. Five athletes, American soccer player Mia Hamm, Swedish golfer Annika Sörenstam, American alpine skier Lindsey Vonn, American tennis player Serena Williams, and American mixed martial artist Ronda Rousey have won the award twice. Hamm was honored in 1998 and 2000, Sörenstam in 2005 and 2006, Vonn in 2010 and 2011, Williams in 2003 and 2013, and Rousey in 2014 and 2015. Sörenstam and Monica Seles\n",
      "Question: who won the espy for best female athlete\n",
      "Answer: Simone Biles\n",
      "Knolwedge: stabbing her. Poirot reveals what led him to his theory: the ink was contained in a bottle of nail polish he noticed in Linnet's cabin; Simon reloaded the gun with two spare cartridges before he disposed of it, as Poirot realized that three shots were fired that night; the stole was used to silence the gun when Simon shot his own leg; Poirot suspected pre-meditation for the murder, because he slept deeply through that night's events - he had been drugged through his wine that evening. As the steamer arrives back in Cairo and the passengers disembark, Jacqueline shoots herself\n",
      "Question: who did it in death on the nile\n",
      "Answer: Jacqueline and Simon\n",
      "Knolwedge: that party's primary elections. In 2014, the party expanded beyond New York by endorsing a slate of candidates in the District of Columbia's Democratic primary elections. The party's founder, Jimmy McMillan, put the party's trademarks up for sale on December 1, 2015, with intent to retire from politics. As its name implies, the central tenet of the Rent Is Too Damn High Party is that rents in the city of New York are \"too damn high.\" One of the taglines for the party is \"breakfast, lunch, and dinner\", indicating that the party seeks to end hunger and poverty in New\n",
      "Question: the rent is too damn high party website\n",
      "Answer: RentIsTooDamnHigh.org\n",
      "Knolwedge: Native Americans. The rise of the sugar industry came about because the Crown took the easiest sources of profit (brazilwood, spices, etc.), leaving settlers to come up with new revenue sources. The establishment of the sugar cane industry demanded intensive labor that would be met with Native American and, later, African slaves. Deeming the \"capitanias\" system ineffective, João III decided to centralize the government of the colony in order to \"give help and assistance\" to grantees. In 1548 he created the first General Government, sending in Tomé de Sousa as first governor and selecting a capital at the Bay of\n",
      "Question: what was the colonial holding in south america that was governed by portugal\n",
      "Answer: Brazil\n",
      "Knolwedge: Religion in South Korea Religion in South Korea is characterized by the fact that a majority of South Koreans (56.1%) as of the 2015 national census) have no formal affiliation with a religion. Among those who are members of a religious organisation, Protestantism represents (19.7%) of the total population, Buddhism (15.5%), and Catholicism (7.9%). A small percentage of South Koreans (0.8% in total) are members of other religions, including Won Buddhism, Confucianism, Cheondoism, Daesun Jinrihoe, Daejongism, Jeungsanism, and Orthodox Christianity. Buddhism was influential in ancient times and Christianity had influenced large segments of the population in the 18th and 19th\n",
      "Question: what is the main religion in south korea\n",
      "Answer: Christianity\n",
      "Knolwedge: a learning resource. For example, a project in Western Australia honed elementary school students storytelling skills by role-playing action scenes from the movies and later creating props and audio/visual scenery to enhance their performance. Others have used the films to encourage second-level students to integrate technology in the science classroom by making prototype lightsabers. Similarly, psychiatrists in New Zealand and the US have advocated their use in the university classroom to explain different types of psychopathology. Informational notes Citations Star Wars Star Wars is an American epic space opera franchise, created by George Lucas and centered around a film series\n",
      "Question: when did george lucas come up with the idea of star wars\n",
      "Answer: 1973\n",
      "Knolwedge: and was sentenced on 6 August 1996 to attend Alcoholics Anonymous meetings, sought counselling, and served 30 days community service on a graffiti-removal work crew. Rick Allen (drummer) Richard John Cyril Allen (born 1 November 1963) is an English drummer who has played for the hard rock band Def Leppard since 1978. He overcame the amputation of his left arm in 1985 and continued to play with the band, which subsequently went on to its most commercially successful phase. He is known as \"The Thunder God\" by fans. Rick Allen was born on November 1, 1963 in Dronfield, Derbyshire to\n",
      "Question: how did the drummer in def leppard lose his arm\n",
      "Answer: in a car accident\n",
      "Knolwedge: Proletcult Theatre Proletcult Theatre was the theatrical branch of the Soviet cultural movement Proletcult. It was concerned with the powerful expression of ideological content as political propaganda in the years following the revolution of 1917. Platon Kerzhentsev was one of its principal practitioners. It was used as a tool of political agitation that promoted a culture of the factory-floor and industrial motifs, but also folk singing and avant-garde. Plot was unimportant; its goal was to shock the audience with its style of performance, lighting techniques, props, radio broadcasts, blown-up newspaper headlines and slogans, projected films, circus elements, etc. The Proletcult\n",
      "Question: a highly politicised left his form of theatre which originated in 1920s europe\n",
      "Answer: agitprop theatre\n",
      "Knolwedge: drove a Mello Yello-sponsored car to victory in the Daytona 500, although the product name itself is never verbally mentioned in the movie. That livery went on to become a real NASCAR paint scheme the following year, when driver Kyle Petty drove with Mello Yello sponsorship in the Winston Cup Series. He ran four seasons (1991–1994) with the sponsor before switching over to Coors Light in 1995. Mello Yello was seen as a sponsor on die-cast toy and collectible cars for both the Days of Thunder #51 Chevrolet Lumina and Kyle Petty's #42 Pontiac Grand Prix. Mello Yello also sponsored\n",
      "Question: who drove the mellow yellow car in nascar\n",
      "Answer: Kyle Petty\n",
      "Knolwedge: Rose Garden (Lynn Anderson song) \"Rose Garden\" (also known and covered as \"(I Never Promised You A) Rose Garden\") is a song written by Joe South, best known as recorded by country music singer Lynn Anderson, and first released by Billy Joe Royal in 1967. Anderson's October 1970 release topped the U.S. \"Billboard\" country chart for five weeks, reached No. 3 on the U.S. \"Billboard\" Hot 100 pop chart, and hit No. 1 on both \"Cash Box\"s and \"Record World\"s pop and country singles charts. The song was also a major pop hit internationally, topping the charts in Australia, Canada,\n",
      "Question: who sang i never promised a rose garden\n",
      "Answer: Lynn Anderson\n",
      "Knolwedge: marry Lydia, who he quickly ceases to love. Although he had almost seduced Georgiana Darcy, and then paid attention to Mary King with her 10,000 pounds a year, Wickham runs off with Lydia and is bribed to marry her. It seems that he often runs away from his marriage to \"enjoy himself in London or Bath\", which critic Susannah Fullerton regards as being what Wickham deserves. But he does not have the stature of his predecessor, Lovelace, nor is he as thorough a villain. His rank of ensign in the regular army was the lowest and could be held by\n",
      "Question: who does wickham marry in pride and prejudice\n",
      "Answer: Lydia Bennet\n",
      "Knolwedge: held by the Milwaukee Bucks, on December 26, 1978. The NBA single-game assist individual record is 30, held by Scott Skiles of the Orlando Magic on December 30, 1990. The NBA record for most career assists is held by John Stockton, with 15,806, Stockton also holds the NBA single season assist per game record with 14.5 during the 1989-1990 regular season. The highest career assist per game average in NBA history is held by Magic Johnson, with 11.2 assist per game. Assist (basketball) In basketball, an assist is attributed to a player who passes the ball to a teammate in\n",
      "Question: who had the most assists in a game\n",
      "Answer: Scott Skiles\n",
      "Knolwedge: In 2009 Canada signed the Copenhagen Accord, which, unlike the Kyoto Accord, is a non-binding agreement. Canada agreed to reduce its GHG emissions by 17% from its 2005 levels by 2020, which translates to a reduction of 124 Megatonnes (Mt). In December 2011, Ministry of the Environment (Canada) Peter Kent announced Canada's withdrawal from the Kyoto Accord one day after negotiators from nearly 200 countries meeting in Durban, South Africa at the 2011 United Nations Climate Change Conference (November 28 – December 11), completed a marathon of climate talks to establish a new treaty to limit carbon emissions.[1]) The Durban\n",
      "Question: when did canada withdraw from the kyoto protocol\n",
      "Answer: December 2011\n",
      "Knolwedge: Championship) and the top three Associate Member teams earned One Day International (ODI) status until 2022. Following the conclusion of the group stage, Afghanistan, Ireland, Scotland, United Arab Emirates, West Indies and Zimbabwe had all progressed to the Super Sixes, with a chance to qualify for the 2019 Cricket World Cup. Hong Kong, Nepal, Netherlands and Papua New Guinea did not qualify for the Super Sixes, but advanced to the playoffs to determine their final rankings in positions seven to ten. Both Scotland and the United Arab Emirates kept their ODI status until 2022, after reaching the Super Sixes. Hong\n",
      "Question: who has qualified for next round world cup\n",
      "Answer: Afghanistan\n",
      "Knolwedge: was reintroduced in 2008 due to increased popularity of the 250 cc class. The XT250 is branded the SEROW 250 in Japan. In 2013, the USA XT250 received a fuel-injected engine. Yamaha XT250 The Yamaha XT250 is a motorcycle made by Yamaha Motor Company. Released in 1980, this dual-sport motorcycle has been a staple of back roads and farms. One was ridden by Rambo in the 1982 movie \"First Blood\". It also featured in Season 4 of Knight Rider, as Reginald Cornelius III/RC3's bike. Starting in 1984, this model had its top-end output reduced to 17 hp @ 7,500 rpm\n",
      "Question: when did the yamaha xt250 get fuel injection\n",
      "Answer: 2013\n",
      "Knolwedge: still serious—adventure show. However, Dozier, who had never before read comic books, concluded, after reading several Batman comics for research, that the only way to make the show work was to do it as a pop-art campy comedy. Originally, espionage novelist Eric Ambler was to have scripted a TV movie that would launch the television series, but he dropped out after learning of Dozier's campy comedy approach. Eventually, two sets of screen tests were filmed, one with Adam West and Burt Ward and the other with Lyle Waggoner and Peter Deyell, with West and Ward winning the roles. Lorenzo Semple\n",
      "Question: who played the joker in the tv series batman\n",
      "Answer: Cesar Romero\n",
      "Knolwedge: Blue Bloods (season 8) The eighth season of \"Blue Bloods\", a police procedural drama series created by Robin Green and Mitchell Burgess, premiered on CBS on September 29, 2017. The season contained 22 episodes and concluded on May 11, 2018. Donnie Wahlberg (Danny Reagan), Bridget Moynahan (Erin Reagan), Will Estes (Jamie Reagan), and Len Cariou (Henry Reagan) are first credited. Sami Gayle (Nicky Reagan-Boyle) is credited next, marking the fourth season she has been included in the opening credits. Tom Selleck (Frank Reagan) receives an \"and\" billing at the close of the main title sequence. Amy Carlson (Linda Reagan) left\n",
      "Question: how many episodes of season 8 blue bloods\n",
      "Answer: 22\n",
      "Knolwedge: the only concourse located within the North Terminal, and is a linear concourse long with a capacity of 30 million passengers annually. Concourse D has one bus station and 51 gates: D1–D12, D14–D17, D19–D34, D36–D51, D53, D55, D60. American operates two Admirals Clubs within the concourse; one located near Gate D30, and another near Gate D15. American Eagle uses Gates D53, D55, and D60. The Central Terminal consists of three concourses, labeled E, F, and G, with a combined total of 52 gates. The Miami-Dade Aviation Department began a three-year, $657 million renovation of the terminal in November 2015, to\n",
      "Question: how many gates does miami international airport have\n",
      "Answer: 131\n",
      "Knolwedge: Gun laws in Montana Gun laws in Montana regulate the sale, possession, and use of firearms and ammunition in the state of Montana in the United States. <onlyinclude> </onlyinclude> Montana has some of the most permissive gun laws in the United States. It is a \"shall issue\" state for concealed carry. The county sheriff shall issue a concealed weapons permit to a qualified applicant within 60 days. Concealed carry is not allowed in government buildings, financial institutions, or any place where alcoholic beverages are served. Carrying a concealed weapon while intoxicated is prohibited. No weapons, concealed or otherwise, are allowed\n",
      "Question: what 's the legal drinking age in montana\n",
      "Answer: 21\n",
      "Knolwedge: He Ain't Heavy, He's My Brother \"He Ain't Heavy, He's My Brother\" is a ballad written by Bobby Scott and Bob Russell. Originally recorded by Kelly Gordon in 1969, the song became a worldwide hit for The Hollies later that year and again for Neil Diamond in 1970. It has been recorded by many artists in subsequent years. The Hollies' and Rufus Wainwright's versions of the song were featured in the film \"Zoolander\". Scott and Russell had been introduced to each other by Johnny Mercer, at a California nightclub. Although Russell was dying of lymphoma and the pair met in\n",
      "Question: who wrote he aint heavy he 's my brother\n",
      "Answer: Bobby Scott\n",
      "Knolwedge: Sanjay National Park. Chhota Nagpur plateau is a store house of minerals like mica, bauxite, copper, limestone, iron ore and coal. The Damodar valley is rich in coal and it is considered as the prime centre of coking coal in the country. Massive coal deposits are found in the central basin spreading over . The important coalfields in the basin are Jharia, Raniganj, West Bokaro, East Bokaro, Ramgarh, South Karanpura and North Karanpura. Chota Nagpur Plateau The Chhota Nagpur Plateau is a plateau in eastern India, which covers much of Jharkhand state as well as adjacent parts of Odisha, West\n",
      "Question: give an account of minerals found in jharkhand\n",
      "Answer: limestone\n",
      "Knolwedge: The Teapot \"The Teapot\" (Danish: \"Theepotten\") is a literary fairy tale by Danish poet and author Hans Christian Andersen about a teapot and her adventures. The tale was first published 1863 and demonstrates the Andersen's talent for investing ordinary household objects with life, character, and personality. A porcelain teapot rules the tea table. She is very proud of her handle and spout, but not quite so proud of her lid (which is cracked). She is very proud of holding the tea leaves and of being the one to pour forth her contents for thirsty humankind. One day, the teapot is\n",
      "Question: what 's the name of the teapot in beauty and the beast\n",
      "Answer: Mrs. Potts\n",
      "Knolwedge: seven terms (a total of 14 years), with the most recent being the 2011–12 term. India is a member of G4, group of nations who back each other in seeking a permanent seat on the Security Council and advocate in favour of the reformation of the UNSC. India is also part of the G-77. India is a charter member of the United Nations and participates in all of its specialised agencies and organizations. India has contributed troops to United Nations peacekeeping efforts in Korea, Egypt and the Congo in its earlier years and in Somalia, Angola, Haiti, Liberia, Lebanon and\n",
      "Question: how many times has india been a member of un security council\n",
      "Answer: 1944 October\n",
      "Knolwedge: record is 73, set by Barry Bonds in 2001. Other notable single season records were achieved by Babe Ruth who hit 60 in 1927, Roger Maris, with 61 home runs in 1961, and Mark McGwire, who hit 70 in 1998. Negro League slugger Josh Gibson's Baseball Hall of Fame plaque says he hit \"almost 800\" home runs in his career. The \"Guinness Book of World Records\" lists Gibson's lifetime home run total at 800. Ken Burns' award-winning series, \"Baseball\", states that his actual total may have been as high as 950. Gibson's true total is not known, in part due\n",
      "Question: most hits in an mlb game by one player\n",
      "Answer: seven\n",
      "Knolwedge: theory of atoms was popularized in France by the physician François Bernier (1620–1688) and in England by the natural philosopher Walter Charleton (1619–1707). The chemist Robert Boyle (1627–1691) and the physicist Isaac Newton (1642–1727) both defended atomism and, by the end of the seventeenth century, it had become accepted by portions of the scientific community. In the early 1800s, John Dalton used the concept of atoms to explain why elements always react in ratios of small whole numbers (the law of multiple proportions). For instance, there are two types of tin oxide: one is 88.1% tin and 11.9% oxygen and\n",
      "Question: who was the first one to proposed the idea about atom\n",
      "Answer: Democritus\n",
      "Knolwedge: securing the greatest amount of the national popular vote, such as during the 1824, 1876, 1888, 2000 and 2016 elections. In theory, it is possible to secure the necessary 270 electoral votes from only the eleven most populous states and then ignore the rest of the country. In 1844, Representative Samuel F. Vinton of Ohio proposed an amendment to the constitution that would replace the electoral college system with a lot system. The Joint Resolution called for each state to elect, by a simple majority, a presidential candidate of said state. Each state would notify Congress of the presidential election\n",
      "Question: who won the most states in a presidential election\n",
      "Answer: Ronald Reagan\n",
      "Knolwedge: \"senior senator\" is Bill Cassidy of Louisiana, who was sworn in January 3, 2015, and is currently 79th in seniority, ahead of senator John Neely Kennedy who was sworn in January 3, 2017, and is currently 95th in seniority. With the 116th Congress, Kyrsten Sinema of Arizona, who will be sworn in on January 3, 2019, will become the most-junior \"senior senator\", ahead of Martha McSally, who was appointed to replace retiring Jon Kyl . McSally will be sworn in after Sinema on January 3, 2019 . The Senate may expel a senator by a two-thirds vote. Fifteen senators have\n",
      "Question: who is the top ranking member in the senate\n",
      "Answer: Patrick Leahy\n",
      "Knolwedge: support and 9.1% were not sure or gave no answer. Texas has a long history with secession. It was originally a Spanish province, which in 1821 seceded from Spain and helped form the First Mexican Empire. In 1824 Texas became a state in the new Mexican republic. In 1835 Antonio López de Santa Anna assumed dictatorial control over the state and several states openly rebelled against the changes: Coahuila y Tejas (the northern part of which would become the Republic of Texas), San Luis Potosí, Querétaro, Durango, Guanajuato, Michoacán, Yucatán, Jalisco, Nuevo León, Tamaulipas, and Zacatecas. Several of these states\n",
      "Question: the most prominent political leaders during the republic of texas years were\n",
      "Answer: Sam Houston\n",
      "Knolwedge: stunt driving necessitated by the final chase and wrecked in said process, while the other was kept intact for all external \"beauty shots.\" The latter car was also used for all but two interior shots. Both 1971 Mustang Sportsroofs used in the film (neither car has been proven to be a Mach 1, as often assumed) were bought in 1971, but - as it was three years before Halicki could raise sufficient funds to start filming - each car was facelifted with 1973 grilles for the film. Both cars retain their 1971 front bumper and valance panels, as retrofitting the\n",
      "Question: what type of car is eleanor in gone in 60 seconds\n",
      "Answer: 1971 Ford Mustang Sportsroof\n",
      "Knolwedge: Guard, supported by volunteers, restored order by force. Press reaction both locally and nationally described the strike as Bolshevik-inspired and directed at the destruction of civil society. The strikers were called \"deserters\" and \"agents of Lenin.\" Samuel Gompers of the AFL recognized that the strike was damaging the cause of labor in the public mind and advised the strikers to return to work. Commissioner Curtis refused to re-hire the striking policemen. He was supported by Massachusetts Governor Calvin Coolidge, whose rebuke of Gompers earned him a national reputation. Nine were killed in several days of civil unrest and the threat\n",
      "Question: who took a firm stand in the boston police strike\n",
      "Answer: Police Commissioner Edwin Upton Curtis\n",
      "Knolwedge: 2017 SEC Championship Game The 2017 SEC Championship Game was played on December 2, 2017 at Mercedes-Benz Stadium in Atlanta, Georgia, and determined the 2017 football champion of the Southeastern Conference (SEC). This was the first SEC Conference football championship at the Mercedes-Benz Stadium. The game featured the Eastern Division Champion, 2017 Georgia Bulldogs football team against the Western Division Co-Champion, the 2017 Auburn Tigers football team. This championship game was a rematch of their rivalry game, played on November 11, 2017. In that earlier game, Auburn beat Georgia by a score of 40-17. In this rematch, Georgia won the\n",
      "Question: who played in the sec championship game this year\n",
      "Answer: Georgia Bulldogs\n",
      "Knolwedge: Death Note (2017 film) Death Note is a 2017 American neo-noir supernatural thriller film loosely adapted from the Japanese manga of the same name created by Tsugumi Ohba and Takeshi Obata. The film is directed by Adam Wingard and written by Charles Parlapanides, Vlas Parlapanides and Jeremy Slater. The film stars Nat Wolff, Lakeith Stanfield, Margaret Qualley, Shea Whigham, Paul Nakauchi, Jason Liles and Willem Dafoe, and follows the story of an introverted Seattle high school student named Light Turner, who finds a mysterious supernatural notebook known as the \"Death Note\" and after being intrigued with it's god-like abilites, eventually\n",
      "Question: who played light in the death note movie\n",
      "Answer: Nat Wolff\n",
      "Knolwedge: executions were carried out in the United Kingdom for any of these offences after the abolition of the death penalty for murder. Nevertheless, there remained a working gallows at HMP Wandsworth, London, until 1994, which was tested every six months until 1992. This gallows is now housed in the Galleries of Justice in Nottingham. England and in the United Kingdom: on 13 August 1964, Peter Anthony Allen, at Walton Prison in Liverpool, and Gwynne Owen Evans, at Strangeways Prison in Manchester, were executed for the murder of John Alan West on 7 April that year. Scotland: Henry John Burnett, 21,\n",
      "Question: when was the last public hanging in england\n",
      "Answer: 26 May 1868\n",
      "Knolwedge: many of the \"Jastas\" still flew Albatros D types at the time of the armistice. The rotary engined Fokker D.VIII and Siemens-Schuckert D.IV, as well as surviving Fokker Triplanes, suffered from poor reliability and shortened engine life due to the Voltol-based oil that was used to replace scarce castor oil – captured and salvaged Allied aircraft (especially Sopwith Camels) were scrounged, not only for engines and equipment, but even for their lubricants. Nonetheless, by September casualties in the RFC had reached the highest level since \"Bloody April\" – and the Allies were maintaining air superiority by weight of numbers rather\n",
      "Question: what accounted for british military superiority in the first years of the war\n",
      "Answer: weight of numbers\n",
      "Knolwedge: Purple Rain (film) Purple Rain is a 1984 American rock musical drama film directed by Albert Magnoli, written by Magnoli and William Blinn, and produced by Robert Cavallo, Joseph Ruffalo and Steven Fargnoli. The film stars Prince in his acting debut playing \"The Kid\", a quasi-biographical character. \"Purple Rain\" was developed to showcase Prince's talents, and the film contains several concert sequences. The film grossed more than $68 million at the box office in the United States and over $80 million worldwide, thus making a large profit on its $7.2 million budget. The film won an Academy Award for Best\n",
      "Question: who played prince 's father in purple rain\n",
      "Answer: Clarence Williams III\n",
      "Knolwedge: named by Time magazine as one of the most influential teens of 2017 and of 2018. In 2018, \"The Hollywood Reporter\" named Brown among Hollywood's top thirty stars under age eighteen. Millie Bobby Brown Millie Bobby Brown (born 19 February 2004) is an English actress and model. She earned worldwide fame for her role as Eleven in the Netflix science fiction horror series \"Stranger Things\", for which she received a Primetime Emmy Award nomination for Outstanding Supporting Actress in a Drama Series at the age of 13, becoming one of the youngest Emmy Award nominees of all time. She is\n",
      "Question: who is the girl who plays 11 in stranger things\n",
      "Answer: Millie Bobby Brown\n",
      "Knolwedge: 2017 Little League World Series The 2017 Little League World Series was held from August 17 to 27. Eight teams from the United States and eight teams from around the world competed in the 71st edition of the tournament. Tokyo Kitasuna Little League of Tokyo, Japan, defeated Lufkin Little League of Lufkin, Texas, in the championship game by a 12–2 score. It was the 11th time that a team from Japan won the tournament. Tokyo Kitasuna became the first league to win the tournament four times. Regional qualifying tournaments were held between June and August 2017. The draw to determine\n",
      "Question: who won the spain vs canada little league game\n",
      "Answer: Canada\n",
      "Knolwedge: Telomere A telomere ( or ) is a region of repetitive nucleotide sequences at each end of a chromosome, which protects the end of the chromosome from deterioration or from fusion with neighboring chromosomes. Its name is derived from the Greek nouns telos (\"τέλος\") \"end\" and merοs (\"μέρος\", root: \"μερ-\") \"part\". For vertebrates, the sequence of nucleotides in telomeres is AGGGTT, with the complementary DNA strand being TCCCAA, with a single-stranded TTAGGG overhang. This sequence of TTAGGG is repeated approximately 2,500 times in humans. In humans, average telomere length declines from about 11 kilobases at birth to less than 4\n",
      "Question: where are telomeres located in a normal chromosome\n",
      "Answer: each end of a chromosome\n",
      "Knolwedge: outstanding young player at the FIFA World Cup. Players must be at most 21 years old to receive the award; for the 2014 FIFA World Cup, they must be born on or after 1 January 1993. On 11 July 2014, the FIFA Technical Study Group announced the three-player shortlist for the Young Player award. The FIFA Fair Play Award is given to the team with the tournament’s best disciplinary record. Only teams that reach the knockout phase are eligible. The Budweiser Man of the Match was given to the best player of each match. It was decided by popular voting\n",
      "Question: who won the best young player in fifa 2014 world cup\n",
      "Answer: Paul Pogba\n",
      "Knolwedge: Boggess played her final performance as Rosalie Mullins. She was replaced by Jennifer Gambatese. On April 13, 2017, it was announced that Alex Brightman would return to the cast as Dewey Finn from April 14 to April 30, while Eric Petersen was on vacation leave. The Broadway production is expected to close on January 20, 2019, after 31 previews and 1,307 regular performances. On 7 December 2015, following the show's Broadway opening, it was announced by Andrew Lloyd Webber that the show will transfer to London's West End in autumn 2016, with the intention to open at the London Palladium.\n",
      "Question: who plays dewey finn in school of rock broadway\n",
      "Answer: Alex Brightman\n",
      "Knolwedge: the KRLA radio program, \"The Credibility Gap\", which released some of his songs, including \"Soul in Ice\", on their record \"An Album Of Political Pornography\". At KRLA he also wrote and recorded the short theme song \"The Chronicles of Pop\" for the Pop Chronicles radio program. In the early 1970s, he formed the Alternative Chorus-Songwriters Showcase to promote new talent. He moved to Los Angeles in the mid-1970s. Len Chandlers' song \"Keep On Keepin' On\" of 1964 was used by Martin Luther King Jr. in a speech after King's secretary saw the song in New York Broadside issue 34. Len\n",
      "Question: who said the hits just keep on coming\n",
      "Answer: Michael Nesmith\n",
      "Knolwedge: Jyoti Basu Jyotirindra Basu (8 July 1914 – 17 January 2010); known as Jyoti Basu was an Indian Marxist ideologue, theorist and statesman belonging to the Communist Party of India (Marxist) from West Bengal, India. He served as the Chief Minister of West Bengal state from 1977 to 2000. Basu was a member of the CPI(M) Politburo from the time of the party's founding (The CPI(M) was formed at the Seventh Congress of the Communist Party of India held in Calcutta from 31 October to 7 November 1964) in 1964 until 2008. From 2008 until his death in 2010 he\n",
      "Question: who has held the office of chief minister the longest in india\n",
      "Answer: Jyoti Basu\n",
      "Knolwedge: with the remaining Confederate forces in North Carolina, the Army of Tennessee under Gen. Joseph E. Johnston. Union infantry and cavalry forces under Gen. Philip Sheridan pursued and cut off the Confederates' retreat at the central Virginia village of Appomattox Court House. Lee launched a last-ditch attack to break through the Union forces to his front, assuming the Union force consisted entirely of lightly armed cavalry. When he realized that the cavalry was now backed up by two corps of Federal infantry, he had no choice but to surrender with his further avenue of retreat and escape now cut off.\n",
      "Question: who won the battle of appomattox in the civil war\n",
      "Answer: the United States\n",
      "Knolwedge: of Hyderabad in 1723 shortly after its foundation. In 1737, Marathas defeated the Mughals and the Nawab of Bhopal in the Battle of Bhopal, and started collecting tribute from the state. After the defeat of the Marathas in the Third Anglo-Maratha War, Bhopal became a British princely state in 1818. Bhopal State was the second largest state in pre-independence India, with a Muslim leadership, first being Hyderabad State. The state was merged into the Union of India in 1949 as Bhopal. The State of Bhopal was established by Dost Mohammad Khan (1672–1728), an pashtun soldier in the Mughal Army. After\n",
      "Question: when was bhopal state merged in the indian union\n",
      "Answer: in 1949\n",
      "Knolwedge: Republics within the Union of Soviet Socialist Republics. Germany effectively gave Moscow a free hand in much of these territories in the Molotov–Ribbentrop Pact of 1939, signed before Germany invaded the Soviet Union in 1941. Other Soviet-annexed territories included: Between 1945 and 1949 the Soviets converted the following areas into Soviet satellite states: Soviet-installed governments ruled the Eastern Bloc countries, with the exception of the Socialist Federal Republic of Yugoslavia, which retained its full independence. The majority of European states to the east of the Iron Curtain developed their own international economic and military alliances, such as COMECON and the\n",
      "Question: which soviet-controlled countries made up the iron curtain\n",
      "Answer: The Hungarian People 's Republic\n",
      "Knolwedge: the nationally syndicated radio show \"Mancow's Morning Madhouse\" for a number of years. She was a regular on \"The Late Late Show with Craig Ferguson\" in 2012 as Beth the CBS executive. DeLorenzo graduated from Chicago's DePaul University in 2005 with a degree in Media Communications. Dana DeLorenzo Dana Rose DeLorenzo (born January 1, 1983) is an American actress and former radio personality and producer. She is best known for her starring role as Kelly Maxwell in the Starz horror-comedy series \"Ash vs Evil Dead\" (2015–2018). DeLorenzo began acting as a child in radio commercials for a clothing store owned\n",
      "Question: who plays kelly in ash vs the evil dead\n",
      "Answer: Dana DeLorenzo\n",
      "Knolwedge: wanted the show to not feel like comedy. \"The National Anthem\" stars Rory Kinnear as Prime Minister Michael Callow, with Lindsay Duncan playing Home Secretary Alex Cairns. \"Fifteen Million Merits\" features Daniel Kaluuya as Bing, Jessica Brown Findlay as Abi and Rupert Everett, Julia Davis, Ashley Thomas as Judges Hope, Charity and Wraith. In \"The Entire History of You\", Toby Kebbell and Jodie Whittaker star as married couple Liam and Ffion. The first series was popular and critically well-received, though viewing figures decreased throughout the series. The show was expensive for Channel 4, as the anthology format meant there were\n",
      "Question: who plays liam in season 1 of black mirror\n",
      "Answer: Toby Kebbell\n",
      "Knolwedge: Love Is in the Air (song) \"Love Is in the Air\" is a 1977 disco song sung by John Paul Young. The song was written by George Young and Harry Vanda and it became a worldwide hit in 1978, peaking at No. 3 on the Australian charts and No. 5 in the UK Singles Chart. In the United States, the song peaked at No. 7 on the pop chart and spent two weeks at No. 1 on the adult contemporary chart, his only US top 40 hit. The song was released as the lead single from Young's fourth studio album,\n",
      "Question: who wrote the song love is in the air\n",
      "Answer: Harry Vanda\n",
      "Knolwedge: Toronto Blue Jays on August 12. On August 13, the Athletics began their then-AL-record 20-game win streak. The streak's first win came courtesy of Barry Zito, who allowed three runs (one earned) over eight innings in a 5-4 victory over the Jays. Over the next several weeks, stellar pitching, hitting, and defense all played a significant role in the Athletics' surge. Most notable were the efforts of fourth starter Cory Lidle. During August, Lidle went 5-0 while posting a scant 0.20 earned run average (he allowed one run his final start of the month); three of his five winning decisions\n",
      "Question: who ended the oakland a 's winning streak in 2002\n",
      "Answer: Toronto Blue Jays\n",
      "Knolwedge: Jeanine Mason (\"So You Think You Can Dance\") as Sam, Alex Blue Davis as Casey, Rushi Kota as Vik, Jaicy Elliot as Taryn, Sophia Ali as Dahlia, and Jake Borelli as Levi. On October 26, 2017, it was announced that Martin Henderson's appearance in the fifth episode titled \"Danger Zone\" would be his last. On January 31, 2018, it was announced that Candis Cayne would be joining the show as Dr. Michelle Velez for a multi-episode arc revolving around a transgender character receiving a ground breaking surgery. On March 8, 2018, it was announced that both Jessica Capshaw and Sarah\n",
      "Question: who is returning to season 14 of grey 's anatomy\n",
      "Answer: Jessica Capshaw\n",
      "Knolwedge: the backs of uniforms by the New York Yankees and the Cleveland Indians. By 1932, all major league baseball teams had numbers on their players' uniforms. The Brooklyn Dodgers, in 1952, became the first baseball team to add numbers to the fronts of their uniforms. In 1960, the Chicago White Sox were the first team to place players' names on the back of their jerseys, doing so on their road jerseys; within a few years, this practice became almost universal in MLB, though to this day the Yankees only wear names on their uniforms for Players Weekend, a yearly event\n",
      "Question: first baseball team to put names on jerseys\n",
      "Answer: Chicago White Sox\n",
      "Knolwedge: 2017 Miami Dolphins season The 2017 Miami Dolphins season was the franchise's 48th season in the National Football League, the 52nd overall and the second under head coach Adam Gase. The team came off from a 10–6 record and a playoff appearance for the first time since 2008. They were seen as potential playoff contenders and looked to make consecutive playoff seasons for the first time since the 2000 and 2001 seasons. However, the team was affected by the loss of starting quarterback Ryan Tannehill, who tore his ACL during practice and was ruled out for the season. The team\n",
      "Question: who is the starting quarterback for the miami dolphins this year\n",
      "Answer: Jay Cutler\n",
      "Knolwedge: is also playable in \"Lego Dimensions\", with archive audio of Ralph Fiennes's portrayal in the films used for his voiceovers. In \"The Lego Batman Movie\" pack for the game, Voldemort is voiced by Liam O'Brien\". A 2018 Italian fan film titled \"\" depicts the story of Tom Riddle's rise to power. Lord Voldemort Lord Voldemort (, in the films; born Tom Marvolo Riddle) is a fictional character and the main antagonist in J. K. Rowling's series of \"Harry Potter\" novels. Voldemort first appeared in \"Harry Potter and the Philosopher's Stone\", which was released in 1997. Voldemort appears either in person\n",
      "Question: who is the actor who plays lord voldemort\n",
      "Answer: Ralph Fiennes ,\n",
      "Knolwedge: Parnell, Spencer Grammer and Sarah Chalke voicing the rest of the family. The series originated from an animated short parody film of \"Back to the Future\", \"The Real Animated Adventures of Doc and Mharti,\" created by Roiland for Channel 101, a short film festival co-founded by Harmon. When Adult Swim approached Harmon for television show ideas, he and Roiland decided to develop a program based on the short. The series has received universal acclaim for its originality, creativity and humor. The show revolves around the adventures of the members of the Smith household, which consists of parents Jerry and Beth,\n",
      "Question: who does the voice of morty in rick and morty\n",
      "Answer: Justin Roiland\n",
      "Knolwedge: Battle of Takur Ghar The Battle of Takur Ghar was a short but intense military engagement between United States special operations forces and al-Qaeda insurgents fought in March 2002, atop Takur Ghar mountain in Afghanistan. For the U.S. side, the battle proved the deadliest entanglement of Operation Anaconda, an effort early in the war in Afghanistan to rout al-Qaeda forces from the Shahi-Kot Valley and Arma Mountains. The battle saw three helicopter landings by the U.S. on the mountain top, each greeted by direct assault from al-Qaeda forces. Although Takur Ghar was eventually taken, seven U.S. service members were killed\n",
      "Question: where did the battle of roberts ridge take place\n",
      "Answer: Takur Ghar mountain in Afghanistan\n",
      "Knolwedge: it was announced that Elizabeth Banks would portray Rita Repulsa. Four months later, Bryan Cranston, who voiced Twin Man and Snizard in the original series, announced he was cast as Zordon. Cranston revealed that he would perform motion-capture and CGI. In September 2016, Walter Emanuel Jones, the actor who played Zack in the original series, stated none of the original cast would cameo in the film. Towards the end of the month, comedian Bill Hader was cast as Alpha 5. In March 2017, it was reported that Amy Jo Johnson and Jason David Frank, who played Kimberly and Tommy in\n",
      "Question: who plays the red ranger in the new power rangers movie\n",
      "Answer: Dacre Montgomery\n",
      "Knolwedge: the convention and received all 5 delegates. Historically, Colorado has been one of the most Republican states in the nation, having been one of the few states to vote against Franklin D. Roosevelt during the New Deal during the 1940 and the 1944 presidential elections. No Republican had won a presidential election without winning Colorado from 1908 through 2012: before 2008, Colorado had not voted Democrat in any presidential election with the exception of 1992 (where Bill Clinton won by a plurality) and 1964 (When Lyndon B. Johnson won in a landslide). However, increasing urbanization in the Front Range Urban\n",
      "Question: who won the state of colorado in the presidential election\n",
      "Answer: Hillary Clinton\n",
      "Knolwedge: Crown, to give aid and counsel. Their composition, however, as well as their effective powers, varied greatly at different times. In their primitive form in the 14th and the first half of the 15th centuries, the Estates General had only a limited elective element. The lay lords and the ecclesiastical lords (bishops and other high clergy) who made up the Estates General were not elected by their peers, but directly chosen and summoned by the king. In the order of the clergy, however, since certain ecclesiastical bodies, e.g. abbeys and chapters of cathedrals, were also summoned to the assembly, and\n",
      "Question: what was the composition of the estate general of france\n",
      "Answer: commoners\n",
      "Knolwedge: film in the role of the manager to Cooper's character, though he ultimately was not involved. On March 17, 2017, Sam Elliott joined the film, with Andrew Dice Clay entering negotiations to play Lorenzo, the father of Lady Gaga's character. Clay was selected over Robert De Niro, John Turturro and John Travolta. In April 2017, Rafi Gavron, Michael Harney, and Rebecca Field also joined the cast. Filming began on April 17, 2017. In May, Dave Chappelle was cast in the film. In April 2018, it was announced that Halsey would have a small role. After seeing him perform at Desert\n",
      "Question: who is noodles in a star is born\n",
      "Answer: Dave Chappelle\n",
      "Knolwedge: Money in the Bank (2017) Money in the Bank (2017) was a professional wrestling pay-per-view (PPV) event and WWE Network event produced by WWE for the SmackDown brand. It took place on June 18, 2017, at the Scottrade Center in St. Louis, Missouri. It was the eighth event under the Money in the Bank chronology and the first to feature a Women's Money in the Bank ladder match. Seven matches were contested at the event, including one on the pre-show and two Money in the Bank ladder matches on the main card. In the main event, Baron Corbin won the\n",
      "Question: who won the money in the bank 2017\n",
      "Answer: Baron Corbin\n",
      "Knolwedge: Republic of Doyle Republic of Doyle is a Canadian comedy-drama television series set in St. John's, Newfoundland and Labrador which aired on CBC Television from January 6, 2010 to December 10, 2014. The show stars Allan Hawco as private investigator and former police officer Jake Doyle and Seán McGinley as his father, retired police officer Malachy Doyle. They partner as private investigators with Rose Doyle, Malachy's second wife, played by Lynda Boyd, in St. John's. Krystin Pellerin stars as Constable/Sergeant Leslie Bennett, with Mark O'Brien as Desmond \"Des\" Courtney, who works with the Doyles, and Marthe Bernard as Katrina \"Tinny\"\n",
      "Question: where is the republic of doyle filmed at\n",
      "Answer: Newfoundland\n",
      "Knolwedge: do, however, use a collegiate squad to cheer at home games. Super Bowl XLV between the Steelers and the Packers in February 2011 was the first time a Super Bowl featured no cheerleaders. The Browns and the Giants are the only NFL teams that have never had cheerleaders, while the other aforementioned teams have had cheer squads in the past. However, there are reports that the Browns did have cheerleaders in 1971, but no records exist. The Buffalo Bills endorsed the officially independent Buffalo Jills from 1966 to 2013; when several cheerleaders sued both the Bills and the Bills organizations,\n",
      "Question: what nfl teams do n 't have cheerleaders 2017\n",
      "Answer: Green Bay Packers\n",
      "Knolwedge: Robert Romanus Robert Romanus (born July 17, 1956), also billed as Bob Romanus, is an American actor and musician who has starred in film and television. He is perhaps best known for his role in the 1982 comedy \"Fast Times at Ridgemont High\", as Italian-American ticket scalper Mike Damone, and as Natalie Green's boyfriend Snake on \"The Facts of Life\". He also starred in the 1985 film \"Bad Medicine\". Romanus is the son of Eileen (née Maloof) and Dr. Raymond Romanos, and is the brother of actor Richard Romanus. He grew up in West Hartford, Connecticut and went to Conard\n",
      "Question: who plays mike in fast times at ridgemont high\n",
      "Answer: Robert Romanus\n",
      "Knolwedge: Lana Parrilla Lana Maria Parrilla (born July 15, 1977) is an American actress. Parrilla is best known for her roles on television and radio. She was a regular cast member in the fifth season of the ABC sitcom \"Spin City\" from 2000 to 2001. She later starred in \"Boomtown\" (2002-2003), \"Windfall\" (2006), \"Swingtown\" (2008) and as Dr. Eva Zambrano in the short-lived medical drama \"Miami Medical\" (2010). She also played the role of Sarah Gavin during the fourth season of the Fox series \"24\" in 2005. In 2011, Parrilla began starring as The Evil Queen/Regina Mills in the ABC fantasy\n",
      "Question: who played regina in once upon a time\n",
      "Answer: Lana Maria Parrilla\n",
      "Knolwedge: were historically kept for display in the menageries of Ancient Egypt, China, Greece, and Rome. The Romans in particular pitted them against humans and other animals in gladiator events. In the modern era, elephants have traditionally been a major part of zoos and circuses around the world. In circuses, they are trained to perform tricks. The most famous circus elephant was probably Jumbo (1861 – 15 September 1885), who was a major attraction in the Barnum & Bailey Circus. These animals do not reproduce well in captivity, due to the difficulty of handling musth bulls and limited understanding of female\n",
      "Question: when were elephants first used in the circus\n",
      "Answer: early eighteenth century\n",
      "Knolwedge: independent discovery\". Robert K. Merton defined such \"multiples\" as instances in which similar discoveries are made by scientists working independently of each other. Merton contrasted a \"multiple\" with a \"singleton\"—a discovery that has been made uniquely by a single scientist or group of scientists working together. As Merton said, \"Sometimes the discoveries are simultaneous or almost so; sometimes a scientist will make a new discovery which, unknown to him, somebody else has made years before.\" Commonly cited examples of multiple independent discovery are the 17th-century independent formulation of calculus by Isaac Newton, Gottfried Wilhelm Leibniz and others, described by A.\n",
      "Question: what do you call more than one hypothesis\n",
      "Answer: hypotheses\n",
      "Knolwedge: and shame for trying to push Jason's father into the oil business. Jason and the guide are captured there and taken hostage by militants for several weeks, until Jason manages to ensure their escape. He returns to America and discovers that Emily's condition has deteriorated, so he arranges for Gus the ranch-hand to host a belated Christmas celebration at his home for them. Upon completing his twelve tasks, Jason is given a sum of $100-million to do with whatever he pleases, and all of his property is returned to him. His former girlfriend, knowing that he has regained his wealth,\n",
      "Question: the gift of money in the ultimate gift\n",
      "Answer: over $2 - billion\n",
      "Knolwedge: debris. The first man made nuclear explosion occurred on July 16, 1945 at 5:50 am on the Trinity Test Site near Alamogordo, New Mexico in the United States, an area now known as the White Sands Missile Range. The event involved the full-scale testing of an implosion-type fission atomic bomb. In a memorandum to the U.S. Secretary of War, General Leslie Groves describes the yield as equivalent to 15,000 to 20,000 tons of TNT. Following this test, a uranium-gun type nuclear bomb (Little Boy) was dropped on the Japanese city of Hiroshima on August 6, 1945, with a blast yield\n",
      "Question: when was the first nuclear bomb set off\n",
      "Answer: July 16 , 1945\n",
      "Knolwedge: on October 29, 2009 and passed on November 7, during the 1st Session of the 111th Congress. Its primary sponsor was the Dean of the House, John Dingell of Michigan. The bill is a revised version of an earlier measure, the proposed America's Affordable Health Choices Act of 2009 (HR 3200 ). The revisions included refinements designed to meet the goals outlined in the President's address to a joint session of Congress in September, 2009 concerning health care reform. In 1989 the idea for the \"individual mandate\" that every household obtain adequate health care was proposed by the Heritage Foundation\n",
      "Question: who came up with the affordable care act\n",
      "Answer: United States House of Representatives\n"
     ]
    }
   ],
   "source": [
    "for i in nq[:10000:100]:\n",
    "    print(\"Knolwedge:\", i[\"ctxs\"][0][\"text\"])\n",
    "    print(\"Question:\", i[\"question\"])\n",
    "    print(\"Answer:\", i[\"answers\"][0])"
   ]
  },
  {
   "cell_type": "code",
   "execution_count": 13,
   "metadata": {},
   "outputs": [],
   "source": [
    "with open(\"datasets/format_prompt.txt\", \"r\") as f:\n",
    "    lines = f.readlines()"
   ]
  },
  {
   "cell_type": "code",
   "execution_count": 14,
   "metadata": {},
   "outputs": [
    {
     "name": "stdout",
     "output_type": "stream",
     "text": [
      "['Knolwedge: on death row in the United States on January 1, 2013. Since 1977, the states of Texas (464), Virginia (108) and Oklahoma (94) have executed the most death row inmates. , California (683), Florida (390), Texas (330) and Pennsylvania (218) housed more than half of all inmates pending on death row. , the longest-serving prisoner on death row in the US who has been executed was Jack Alderman who served over 33 years. He was executed in Georgia in 2008. However, Alderman only holds the distinction of being the longest-serving \"executed\" inmate so far. A Florida inmate, Gary Alvord, arrived\\n', 'Question: total number of death row inmates in the us\\n', 'Answer: 2,718\\n', \"Knolwedge: for India's victory. During his innings of 53 Indian captain Virat Kohli became the fastest batsmen in terms of innings to reach 6000 career ODI runs. Yadav achieved his maiden 4-wicket haul in ODIs. The fourth match of the series became a one-man show. Rohit Sharma, playing his first international match after fracturing his finger against England in August 2014, scored a record-breaking 264 off 173 balls, as India scored 404 in their allocated 50 overs. The innings involved a 202 run partnership for the 3rd wicket between Sharma and captain Virat Kohli, and a 128 run partnership for the\\n\", 'Question: which indian captain has won the maximum matches against sri lanka\\n', 'Answer: Virat Kohli\\n', \"Knolwedge: stylings of Marvel's most prominent artist, Jack Kirby, and combined with the humor and pathos of Lee's writing to lay the foundation for what became an enduring mythos. Most of Spider-Man's key villains and supporting characters were introduced during this time. Issue #1 (March 1963) featured the first appearances of J. Jonah Jameson and his astronaut son John Jameson, and the supervillain the Chameleon. It included the hero's first encounter with the superhero team the Fantastic Four. Issue #2 (May 1963) featured the first appearance of the Vulture and the Tinkerer as well as the beginning of Parker's freelance photography\\n\", 'Question: when did spider man first appear in comics\\n', 'Answer: August 1962\\n', 'Knolwedge: Saba University School of Medicine Saba University School of Medicine is a medical school located on Saba, a special municipality of the Netherlands in the Caribbean. Saba University confers upon its graduates the Doctor of Medicine (MD) degree. Saba University School of Medicine was founded in 1992 as an international alternative to U.S. and Canadian medical schools. Since its founding, more than 2500 students have earned their medical degree at Saba. Class sizes are 80-100 students per matriculating class. Students complete the first 20 months (five semesters) of basic science medical education on the campus on Saba and return to\\n', 'Question: where is saba university school of medicine located\\n', 'Answer: Saba\\n', 'Knolwedge: are 45 calories in one cookie. Of these 45 calories, 27 come from carbohydrates, 16.5 come from fat, and only 1.5 calories are provided by protein. Different Oreo flavors have varying amounts of carbohydrate: the chocolate fudge Oreo contains 13g of total carbohydrates (4% of the recommended daily intake) and 9g of sugars per serving of 3 cookies, while mint Oreos contain 25g of total carbohydrates and 18g of sugars per serving. Vitamins, minerals and proteins are found in small amounts, however Oreos do not contain any vitamin A or vitamin C. In addition to their traditional design of two\\n', 'Question: how many calories does a cosmic brownie have\\n', 'Answer: 280\\n', 'Knolwedge: but that he would have been happy if Ricky Martin, who plays his role, got in contact to get some insight into his relationship with Versace. According to Ryan Murphy, Donatella Versace was very supportive that Penélope Cruz played her role. As Cruz and Versace are friends, Murphy explained that, when he offered her the role, Cruz asked the permission of Versace before agreeing to do it. He also revealed that, while Cruz was representing the series at the 75th Golden Globe Awards, Versace \"very graciously sent [her] a lovely and huge flower arrangement saying \\'good luck.\\'\" The Assassination of\\n', 'Question: who played david in the assassination of versace\\n', 'Answer: Terry Sweeney\\n', 'Knolwedge: the dark side of the moon\", which became a famous metaphor of human irrationality, expresses that madness that is always present but invisible, waiting to be exposed. In Sigmund Freud\\'s terms it would be the unconscious. Some releases of \"Dark Side of the Moon\", for example TC-SHVL. 804 (cassette, New Zealand release) and Q4SHVL 804(quad LP, UK release) have a different mix of \"Brain Damage\". During the closing instrumental, beginning at about 3:02, after the second chorus and leading into the final track, \"Eclipse\", only Peter Watts\\' \"lunatic laughing\" is heard, repeatedly, unlike other versions which have the speech sample\\n', 'Question: who laughs on dark side of the moon\\n', 'Answer: Peter Watts\\n', 'Knolwedge: and French revolutions. Today, the concept of common sense, and how it should best be used, remains linked to many of the most perennial topics in epistemology and ethics, with special focus often directed at the philosophy of the modern social sciences. The origin of the term is in the works of Aristotle. The best-known case is \"De Anima\" Book III, chapter 1, especially at line 425a27. The passage is about how the animal mind converts raw sense perceptions from the five specialized sense perceptions, into perceptions of real things moving and changing, which can be thought about. According to\\n', 'Question: where did the term common sense come from\\n', 'Answer: the works of Aristotle\\n', 'Knolwedge: League of Nations The League of Nations (abbreviated as LN or LoN in English, \"\" abbreviated as \\' or \\' in French) was an intergovernmental organisation founded on 10 January 1920 as a result of the Paris Peace Conference that ended the First World War. It was the first international organisation whose principal mission was to maintain world peace. Its primary goals, as stated in its Covenant, included preventing wars through collective security and disarmament and settling international disputes through negotiation and arbitration. Other issues in this and related treaties included labour conditions, just treatment of native inhabitants, human and\\n', 'Question: what is the main purpose of the league of nations\\n', 'Answer: maintain world peace\\n', \"Knolwedge: upon payment of a US$295 million settlement), and a voluntary agreement between De Beers and the European Commission. The latter agreement had been overturned upon appeal by the Russian mining company Alrosa, but the European Court of Justice then upheld the decision and the European Commission subsequently concluded its investigation with no more action being taken against De Beers. Today, annual global rough diamond production is estimated to be about , of which 92% is cut and polished in India, mostly in the city of Surat. Some 85% of the world's rough diamonds, 50% of cut diamonds, and 40% of\\n\", 'Question: which country produces most of the worlds diamonds\\n', 'Answer: Russia\\n', 'Knolwedge: and its native planting programs on eastern Long Island. Billy Squier William Haislip Squier (, born May 12, 1950) is an American rock musician. Squier had a string of arena rock hits in the 1980s. He is best known for the song \"The Stroke\", from his 1981 album \"Don\\'t Say No\". Other hits include \"My Kinda Lover\", \"In the Dark\", \"Rock Me Tonite\", \"Lonely Is the Night\", \"Everybody Wants You\" and \"Emotions in Motion\". Squier was born in Wellesley, Massachusetts. He is a 1968 graduate of Wellesley High School. While growing up, he began playing piano and guitar, but did\\n', 'Question: who sings the song stroke me stroke me\\n', 'Answer: American rock artist Billy Squier\\n', 'Knolwedge: I\\'m Gonna Make You Mine (Tanya Blount song) \"I\\'m Gonna Make You Mine\" is a song released in 1994 by American R&B singer Tanya Blount. It is the lead single from her debut album, \"Natural Thing\". The song peaked to No. 57 on the \"Billboard\" R&B Singles chart. The song bears no relation to the same-named 1969 Lou Christie hit. A contemporary review edited by Larry Flick in the \"NEW & NOTEWORTHY\" section of the \"Billboard\" Single Reviews reads, \\'hip-swaying pop/funk jam ushers a promising new vocalist into the urban radio fold. Chunky beats click respectably, while Blount vamps with\\n', \"Question: who sang i 'm going to make you mine\\n\", 'Answer: The Temptations\\n', 'Knolwedge: \"Bat Out of Hell\" before being rejected by the singer and Steinman in favor of Todd Rundgren, whom Meat Loaf initially found cocky but grew to like. Rundgren found the album hilarious, thinking it was a parody of Springsteen. The singer quotes him as saying: \"I\\'ve \\'got\\' to do this album. It\\'s just so \\'out\\' there.\" They told the producer that they had previously been signed to RCA. Recording started in late 1975 in Bearsville Studios, Woodstock, New York. Roy Bittan and Max Weinberg, the pianist and drummer from Bruce Springsteen\\'s E Street Band played on the album, in addition\\n', 'Question: who played piano on bat out of hell\\n', 'Answer: Roy Bittan\\n', 'Knolwedge: I Want You to Want Me \"I Want You to Want Me\" is a song by the American rock band Cheap Trick from their second album \"In Color\", released in September 1977. It was the first single released from that album, but it did not chart in the United States. \"I Want You to Want Me\" was a number-one single in Japan. Its success in Japan, as well as the success of its preceding single \"Clock Strikes Ten\" paved the way for Cheap Trick\\'s concerts at Nippon Budokan in Tokyo in April 1978 that were recorded for the group\\'s most\\n', 'Question: who sings i want you to love me\\n', 'Answer: Cheap Trick\\n', 'Knolwedge: Antiques Roadshow Antiques Roadshow is a British television programme in which antiques appraisers travel to various regions of the United Kingdom (and occasionally in other countries) to appraise antiques brought in by local people. It has been running since 1979, based on a 1977 documentary programme. The programme has spawned versions in other countries with the same TV format, including Canada and the United States. As of 2018 it is in its 40th series and is currently presented by Fiona Bruce. The programme began as a 1977 BBC documentary about a London auction house doing a tour of the West\\n', 'Question: who was the first host of antiques roadshow\\n', 'Answer: Chris Jussel\\n', 'Knolwedge: It Happened One Night It Happened One Night is a 1934 pre-Code American romantic comedy film with elements of screwball comedy directed and co-produced by Frank Capra, in collaboration with Harry Cohn, in which a pampered socialite (Claudette Colbert) tries to get out from under her father\\'s thumb and falls in love with a roguish reporter (Clark Gable). The plot is based on the August 1933 short story \"Night Bus\" by Samuel Hopkins Adams, which provided the shooting title. Classified as a \"pre-Code\" production, the film is among the last romantic comedies created before the MPAA began rigidly enforcing the\\n', 'Question: who directed the screwball comedy classis it happened one night /\\n', 'Answer: Frank Capra\\n', 'Knolwedge: Noli Me Tángere (novel) Noli Me Tángere (Latin for \"Don\\'t Touch Me\") is a novel written by José Rizal, one of the national heroes of the Philippines, during the colonization of the country by Spain to describe perceived inequities of the Spanish Catholic priests and the ruling government. Originally written in Spanish, the book is more commonly published and read in the Philippines in either Tagalog or English. Together with its sequel, \"El Filibusterismo\", the reading of \"Noli\" is obligatory for high school students throughout the country. The two novels are widely considered as the national epic of the Philippines\\n', 'Question: when did jose rizal wrote noli me tangere\\n', 'Answer: 1886\\n', \"Knolwedge: quits the musical and rejoins the glee club when she realizes that she would rather be in a group in which she has friends. She has a brief relationship with another glee club member, Puck (Mark Salling), who is also Jewish, and is a football player who used to bully her, but she breaks up with him due to her continuing feelings for Finn. She later discovers and reveals to Finn that Quinn's pregnancy was not caused by him, but that Puck is the father; furious, Finn attacks Puck, breaks up with Quinn, and drops out of New Directions. He\\n\", 'Question: who did rachel have a baby with on friends\\n', 'Answer: Ross\\n', 'Knolwedge: episodes, titled , were screened at an event held at Odaiba Cinema Mediage theater in Tokyo on March 6, 2011, with only one of the episodes aired on TBS on April 8, 2011. Kämpfer Natsuru Senō attends a high school that separates the boys from the girls. He has a crush on school beauty Kaede Sakura, who has a peculiar collection of , stuffed animals styled in brutal ways of dying. One day, Natsuru discovers he has turned into a girl. His stuffed tiger named Harakiri Tora awakens and tells him that he has been chosen as a , a\\n', 'Question: who does natsuru end up with in kampfer\\n', 'Answer: varies for each medium\\n', \"Knolwedge: pay raises for government employees, and additional funding for the K–12 education system. Arizona's executive branch is headed by a governor, who is elected to a four-year term. The governor may serve any number of terms, though no more than two in a row. Arizona is one of the few states that does not maintain a governor's mansion. During office the governors reside within their private residence, and all executive offices are housed in the executive tower at the state capitol. The current governor of Arizona is Doug Ducey (R). Former Governor Jan Brewer assumed office after Janet Napolitano had\\n\", 'Question: does arizona have a republican or democratic governor\\n', 'Answer: Republican\\n', \"Knolwedge: an absolute majority of states (currently 26 of 50). There have been two contingent presidential elections in the nation's history. A 73–73 electoral vote tie between Thomas Jefferson and fellow Democratic-Republican Aaron Burr in the election of 1800 necessitated the first. Conducted under the original procedure established by of the Constitution, which stipulates that if two or three persons received a majority vote and an equal vote, the House of Representatives would choose one of them for president; the runner up would become Vice President. On February 17, 1801, Jefferson was elected president on the 36th ballot, and Burr became\\n\", 'Question: who was the oldest elected president of the united states of america\\n', 'Answer: Donald Trump\\n', 'Knolwedge: Ethel Merman and Ray Middleton. During the song, they argue playfully about who can, for example, sing softer, sing higher, sing sweeter, and hold a note for longer, and boast of their abilities and accomplishments, such as opening safes and living on bread and cheese, although Annie always seems to counter Frank\\'s argument. Neither can \"bake a pie,\" though. Anything You Can Do (I Can Do Better) \"Anything You Can Do\" is a song composed by Irving Berlin for the 1946 Broadway musical \"Annie Get Your Gun\". The song is a duet, with one male singer and one female singer\\n', 'Question: who sang anything you can do i can do better\\n', 'Answer: Ethel Merman\\n', 'Knolwedge: The Fighter (Keith Urban song) \"The Fighter\" is a song co-written and recorded by New Zealand-born Australian country singer Keith Urban featuring Carrie Underwood as a duet. It was released on 6 February 2017 as the fifth and final single from Urban\\'s 2016 album, \"Ripcord\". Urban co-wrote and co-produced this song with busbee. The song has entered the record charts of Australia, Canada, the United States, Belgium, and Scotland, where it became Urban\\'s first song to enter the Scottish and Belgian charts. The song is set in the key of B minor with a main chord pattern of G7–A4–F7–Bm and\\n', 'Question: who wrote the song the fighter by keith urban\\n', 'Answer: Keith Urban\\n', 'Knolwedge: to switch from bicameralism to unicameralism was Sverdlovsk Oblast in 2012. During the 1930s, the Legislature of the State of Nebraska was reduced from bicameral to unicameral with the 43 members that once comprised that state\\'s Senate. One of the arguments used to sell the idea at the time to Nebraska voters was that by adopting a unicameral system, the perceived evils of the \"conference committee\" process would be eliminated. A conference committee is appointed when the two chambers cannot agree on the same wording of a proposal, and consists of a small number of legislators from each chamber. This\\n', 'Question: all state legislatures throughout the united states are bicameral except this state\\n', 'Answer: Nebraska\\n', 'Knolwedge: a federal crime, as the Constitution permitted, starting January 1, 1808. The Constitution of the United States took effect in 1789 and included several provisions regarding slavery. Section 9 of Article I forbade the Federal government from preventing states from importing slaves before January 1, 1808. As a protection for slavery, the delegates approved Section 2 of Article IV, which prohibited states from freeing slaves who fled to them from another state, and required the return of chattel property to owners. In a section negotiated by James Madison of Virginia, Section 2 of Article I designated \"other persons\" (slaves) to\\n', 'Question: when was slavery defined in law and custom\\n', 'Answer: 1807\\n', 'Knolwedge: on Call\", funded by Pfizer, highlighting the work of large animal veterinarians. Peter Ostrum Peter Gardner Ostrum (; born November 1, 1957) is an American veterinarian and former child actor whose only film role was as Charlie Bucket in the 1971 motion picture \"Willy Wonka & the Chocolate Factory\". Ostrum was 12 years old when selected by talent agents for \"Willy Wonka\". Though he enjoyed the experience of shooting the film, he opted not to sign a three-film contract when it was over. After eschewing a career in film and theatre, Ostrum became reluctant to speak about his one starring\\n', 'Question: who plays charlie from charlie and the chocolate factory\\n', 'Answer: Peter Gardner Ostrum\\n', 'Knolwedge: the golden buzzer for 12-year-old singing ventriloquist Darci Lynne Farmer. In subsequent episodes, Simon Cowell pressed it for 29-year-old deaf singer-songwriter and ukeleleist, Mandy Harvey, Howie Mandel chose 16-year-old singer Christian Guardino, Tyra Banks pressed it for Light Balance dance crew, and Heidi Klum chose 13-year-old singer Angelina Green. On June 11, 2017, contestant Brandon Rogers died in an automobile accident. Rogers was an American physician who specialized in family medicine. Earlier in 2017, after seeing YouTube videos of Rogers singing, Boyz II Men invited him to sing with them as a guest in three of their Las Vegas shows.\\n', 'Question: who were the finalists in americas got talent 2017\\n', 'Answer: Evie Clair\\n', 'Knolwedge: teams in a single region (the South) advanced to the Sweet 16. Also, the tournament featured the first regional final matchup of a 9-seed (Kansas State) and an 11-seed (Loyola-Chicago). Villanova, Michigan, Kansas, and Loyola-Chicago, the “Cinderella team” of the tournament, reached the Final Four. Villanova defeated Michigan in the championship game, 79–62. Atlantic Sun Conference champion Lipscomb made its NCAA tournament debut. A total of 68 teams entered the 2018 tournament. 32 automatic bids were awarded, one to each program that won their conference tournament. The remaining 36 bids were \"at-large\", with selections extended by the NCAA Selection Committee.\\n', 'Question: who is in the 2018 mens final four\\n', 'Answer: Michigan\\n', 'Knolwedge: in 13 takes on 7 July 1969. John Lennon did not contribute to the song as he was recovering from a car crash. Towards the end of the session Harrison spent an hour re-recording his acoustic guitar part. He capoed his guitar on the 7th fret, resulting in the final key of A major (in fact, slightly above A major due to the track being varispeeded by less than a semitone). He also used the same technique on his 1965 song \"If I Needed Someone\", which shares a similar melodic pattern. The following day he taped his lead vocals, and\\n', 'Question: who played drums on here comes the sun\\n', 'Answer: Stuart Elliott\\n', \"Knolwedge: Brooklyn Nets The Brooklyn Nets are an American professional basketball team based in the borough of Brooklyn, in New York City. The Nets compete in the National Basketball Association (NBA) as a member of the Atlantic Division of the Eastern Conference. The team plays its home games at Barclays Center. They are one of two NBA teams located in New York City; the other is the New York Knicks. The team was established in 1967 as a charter franchise of the NBA's rival league, the American Basketball Association (ABA). They played in New Jersey as the New Jersey Americans during\\n\", 'Question: where did the nets play in new jersey\\n', 'Answer: Teaneck , New Jersey\\n', \"Knolwedge: to transform an ordinary home into an instant restaurant complete with theme and table decorations for one pressure-cooker night. The current judging panel consists of celebrity chefs and hosts Pete Evans and Manu Feildel. Filling four spots at the Kitchen HQ judging table are local celebrity chef and former Masterchef NZ Winner, Nadia Lim; former Masterchef NZ judge, Ray McVinnie; 2016 Metropolitan Chef of the Year, Tom Hishon; and acclaimed restaurateur, Sean Connolly. Grouped into two, the teams initially are to compete in an instant restaurant round. Each episode focuses on one team's day of cooking, setting up their instant\\n\", 'Question: who won my kitchen rules new zealand 2015\\n', 'Answer: Jess and Stella ,\\n', 'Knolwedge: iteration of the ESPY Awards, ceremonies were conducted in February of each year to honor achievements over the previous calendar year; awards presented thereafter are conferred in June and reflect performance from the June previous. Five athletes, American soccer player Mia Hamm, Swedish golfer Annika Sörenstam, American alpine skier Lindsey Vonn, American tennis player Serena Williams, and American mixed martial artist Ronda Rousey have won the award twice. Hamm was honored in 1998 and 2000, Sörenstam in 2005 and 2006, Vonn in 2010 and 2011, Williams in 2003 and 2013, and Rousey in 2014 and 2015. Sörenstam and Monica Seles\\n', 'Question: who won the espy for best female athlete\\n', 'Answer: Simone Biles\\n', \"Knolwedge: stabbing her. Poirot reveals what led him to his theory: the ink was contained in a bottle of nail polish he noticed in Linnet's cabin; Simon reloaded the gun with two spare cartridges before he disposed of it, as Poirot realized that three shots were fired that night; the stole was used to silence the gun when Simon shot his own leg; Poirot suspected pre-meditation for the murder, because he slept deeply through that night's events - he had been drugged through his wine that evening. As the steamer arrives back in Cairo and the passengers disembark, Jacqueline shoots herself\\n\", 'Question: who did it in death on the nile\\n', 'Answer: Jacqueline and Simon\\n', 'Knolwedge: that party\\'s primary elections. In 2014, the party expanded beyond New York by endorsing a slate of candidates in the District of Columbia\\'s Democratic primary elections. The party\\'s founder, Jimmy McMillan, put the party\\'s trademarks up for sale on December 1, 2015, with intent to retire from politics. As its name implies, the central tenet of the Rent Is Too Damn High Party is that rents in the city of New York are \"too damn high.\" One of the taglines for the party is \"breakfast, lunch, and dinner\", indicating that the party seeks to end hunger and poverty in New\\n', 'Question: the rent is too damn high party website\\n', 'Answer: RentIsTooDamnHigh.org\\n', 'Knolwedge: Native Americans. The rise of the sugar industry came about because the Crown took the easiest sources of profit (brazilwood, spices, etc.), leaving settlers to come up with new revenue sources. The establishment of the sugar cane industry demanded intensive labor that would be met with Native American and, later, African slaves. Deeming the \"capitanias\" system ineffective, João III decided to centralize the government of the colony in order to \"give help and assistance\" to grantees. In 1548 he created the first General Government, sending in Tomé de Sousa as first governor and selecting a capital at the Bay of\\n', 'Question: what was the colonial holding in south america that was governed by portugal\\n', 'Answer: Brazil\\n', 'Knolwedge: Religion in South Korea Religion in South Korea is characterized by the fact that a majority of South Koreans (56.1%) as of the 2015 national census) have no formal affiliation with a religion. Among those who are members of a religious organisation, Protestantism represents (19.7%) of the total population, Buddhism (15.5%), and Catholicism (7.9%). A small percentage of South Koreans (0.8% in total) are members of other religions, including Won Buddhism, Confucianism, Cheondoism, Daesun Jinrihoe, Daejongism, Jeungsanism, and Orthodox Christianity. Buddhism was influential in ancient times and Christianity had influenced large segments of the population in the 18th and 19th\\n', 'Question: what is the main religion in south korea\\n', 'Answer: Christianity\\n', 'Knolwedge: a learning resource. For example, a project in Western Australia honed elementary school students storytelling skills by role-playing action scenes from the movies and later creating props and audio/visual scenery to enhance their performance. Others have used the films to encourage second-level students to integrate technology in the science classroom by making prototype lightsabers. Similarly, psychiatrists in New Zealand and the US have advocated their use in the university classroom to explain different types of psychopathology. Informational notes Citations Star Wars Star Wars is an American epic space opera franchise, created by George Lucas and centered around a film series\\n', 'Question: when did george lucas come up with the idea of star wars\\n', 'Answer: 1973\\n', 'Knolwedge: and was sentenced on 6 August 1996 to attend Alcoholics Anonymous meetings, sought counselling, and served 30 days community service on a graffiti-removal work crew. Rick Allen (drummer) Richard John Cyril Allen (born 1 November 1963) is an English drummer who has played for the hard rock band Def Leppard since 1978. He overcame the amputation of his left arm in 1985 and continued to play with the band, which subsequently went on to its most commercially successful phase. He is known as \"The Thunder God\" by fans. Rick Allen was born on November 1, 1963 in Dronfield, Derbyshire to\\n', 'Question: how did the drummer in def leppard lose his arm\\n', 'Answer: in a car accident\\n', 'Knolwedge: Proletcult Theatre Proletcult Theatre was the theatrical branch of the Soviet cultural movement Proletcult. It was concerned with the powerful expression of ideological content as political propaganda in the years following the revolution of 1917. Platon Kerzhentsev was one of its principal practitioners. It was used as a tool of political agitation that promoted a culture of the factory-floor and industrial motifs, but also folk singing and avant-garde. Plot was unimportant; its goal was to shock the audience with its style of performance, lighting techniques, props, radio broadcasts, blown-up newspaper headlines and slogans, projected films, circus elements, etc. The Proletcult\\n', 'Question: a highly politicised left his form of theatre which originated in 1920s europe\\n', 'Answer: agitprop theatre\\n', \"Knolwedge: drove a Mello Yello-sponsored car to victory in the Daytona 500, although the product name itself is never verbally mentioned in the movie. That livery went on to become a real NASCAR paint scheme the following year, when driver Kyle Petty drove with Mello Yello sponsorship in the Winston Cup Series. He ran four seasons (1991–1994) with the sponsor before switching over to Coors Light in 1995. Mello Yello was seen as a sponsor on die-cast toy and collectible cars for both the Days of Thunder #51 Chevrolet Lumina and Kyle Petty's #42 Pontiac Grand Prix. Mello Yello also sponsored\\n\", 'Question: who drove the mellow yellow car in nascar\\n', 'Answer: Kyle Petty\\n', 'Knolwedge: Rose Garden (Lynn Anderson song) \"Rose Garden\" (also known and covered as \"(I Never Promised You A) Rose Garden\") is a song written by Joe South, best known as recorded by country music singer Lynn Anderson, and first released by Billy Joe Royal in 1967. Anderson\\'s October 1970 release topped the U.S. \"Billboard\" country chart for five weeks, reached No. 3 on the U.S. \"Billboard\" Hot 100 pop chart, and hit No. 1 on both \"Cash Box\"s and \"Record World\"s pop and country singles charts. The song was also a major pop hit internationally, topping the charts in Australia, Canada,\\n', 'Question: who sang i never promised a rose garden\\n', 'Answer: Lynn Anderson\\n', 'Knolwedge: marry Lydia, who he quickly ceases to love. Although he had almost seduced Georgiana Darcy, and then paid attention to Mary King with her 10,000 pounds a year, Wickham runs off with Lydia and is bribed to marry her. It seems that he often runs away from his marriage to \"enjoy himself in London or Bath\", which critic Susannah Fullerton regards as being what Wickham deserves. But he does not have the stature of his predecessor, Lovelace, nor is he as thorough a villain. His rank of ensign in the regular army was the lowest and could be held by\\n', 'Question: who does wickham marry in pride and prejudice\\n', 'Answer: Lydia Bennet\\n', 'Knolwedge: held by the Milwaukee Bucks, on December 26, 1978. The NBA single-game assist individual record is 30, held by Scott Skiles of the Orlando Magic on December 30, 1990. The NBA record for most career assists is held by John Stockton, with 15,806, Stockton also holds the NBA single season assist per game record with 14.5 during the 1989-1990 regular season. The highest career assist per game average in NBA history is held by Magic Johnson, with 11.2 assist per game. Assist (basketball) In basketball, an assist is attributed to a player who passes the ball to a teammate in\\n', 'Question: who had the most assists in a game\\n', 'Answer: Scott Skiles\\n', \"Knolwedge: In 2009 Canada signed the Copenhagen Accord, which, unlike the Kyoto Accord, is a non-binding agreement. Canada agreed to reduce its GHG emissions by 17% from its 2005 levels by 2020, which translates to a reduction of 124 Megatonnes (Mt). In December 2011, Ministry of the Environment (Canada) Peter Kent announced Canada's withdrawal from the Kyoto Accord one day after negotiators from nearly 200 countries meeting in Durban, South Africa at the 2011 United Nations Climate Change Conference (November 28 – December 11), completed a marathon of climate talks to establish a new treaty to limit carbon emissions.[1]) The Durban\\n\", 'Question: when did canada withdraw from the kyoto protocol\\n', 'Answer: December 2011\\n', 'Knolwedge: Championship) and the top three Associate Member teams earned One Day International (ODI) status until 2022. Following the conclusion of the group stage, Afghanistan, Ireland, Scotland, United Arab Emirates, West Indies and Zimbabwe had all progressed to the Super Sixes, with a chance to qualify for the 2019 Cricket World Cup. Hong Kong, Nepal, Netherlands and Papua New Guinea did not qualify for the Super Sixes, but advanced to the playoffs to determine their final rankings in positions seven to ten. Both Scotland and the United Arab Emirates kept their ODI status until 2022, after reaching the Super Sixes. Hong\\n', 'Question: who has qualified for next round world cup\\n', 'Answer: Afghanistan\\n', 'Knolwedge: was reintroduced in 2008 due to increased popularity of the 250 cc class. The XT250 is branded the SEROW 250 in Japan. In 2013, the USA XT250 received a fuel-injected engine. Yamaha XT250 The Yamaha XT250 is a motorcycle made by Yamaha Motor Company. Released in 1980, this dual-sport motorcycle has been a staple of back roads and farms. One was ridden by Rambo in the 1982 movie \"First Blood\". It also featured in Season 4 of Knight Rider, as Reginald Cornelius III/RC3\\'s bike. Starting in 1984, this model had its top-end output reduced to 17 hp @ 7,500 rpm\\n', 'Question: when did the yamaha xt250 get fuel injection\\n', 'Answer: 2013\\n', \"Knolwedge: still serious—adventure show. However, Dozier, who had never before read comic books, concluded, after reading several Batman comics for research, that the only way to make the show work was to do it as a pop-art campy comedy. Originally, espionage novelist Eric Ambler was to have scripted a TV movie that would launch the television series, but he dropped out after learning of Dozier's campy comedy approach. Eventually, two sets of screen tests were filmed, one with Adam West and Burt Ward and the other with Lyle Waggoner and Peter Deyell, with West and Ward winning the roles. Lorenzo Semple\\n\", 'Question: who played the joker in the tv series batman\\n', 'Answer: Cesar Romero\\n', 'Knolwedge: Blue Bloods (season 8) The eighth season of \"Blue Bloods\", a police procedural drama series created by Robin Green and Mitchell Burgess, premiered on CBS on September 29, 2017. The season contained 22 episodes and concluded on May 11, 2018. Donnie Wahlberg (Danny Reagan), Bridget Moynahan (Erin Reagan), Will Estes (Jamie Reagan), and Len Cariou (Henry Reagan) are first credited. Sami Gayle (Nicky Reagan-Boyle) is credited next, marking the fourth season she has been included in the opening credits. Tom Selleck (Frank Reagan) receives an \"and\" billing at the close of the main title sequence. Amy Carlson (Linda Reagan) left\\n', 'Question: how many episodes of season 8 blue bloods\\n', 'Answer: 22\\n', 'Knolwedge: the only concourse located within the North Terminal, and is a linear concourse long with a capacity of 30 million passengers annually. Concourse D has one bus station and 51 gates: D1–D12, D14–D17, D19–D34, D36–D51, D53, D55, D60. American operates two Admirals Clubs within the concourse; one located near Gate D30, and another near Gate D15. American Eagle uses Gates D53, D55, and D60. The Central Terminal consists of three concourses, labeled E, F, and G, with a combined total of 52 gates. The Miami-Dade Aviation Department began a three-year, $657 million renovation of the terminal in November 2015, to\\n', 'Question: how many gates does miami international airport have\\n', 'Answer: 131\\n', 'Knolwedge: Gun laws in Montana Gun laws in Montana regulate the sale, possession, and use of firearms and ammunition in the state of Montana in the United States. <onlyinclude> </onlyinclude> Montana has some of the most permissive gun laws in the United States. It is a \"shall issue\" state for concealed carry. The county sheriff shall issue a concealed weapons permit to a qualified applicant within 60 days. Concealed carry is not allowed in government buildings, financial institutions, or any place where alcoholic beverages are served. Carrying a concealed weapon while intoxicated is prohibited. No weapons, concealed or otherwise, are allowed\\n', \"Question: what 's the legal drinking age in montana\\n\", 'Answer: 21\\n', 'Knolwedge: He Ain\\'t Heavy, He\\'s My Brother \"He Ain\\'t Heavy, He\\'s My Brother\" is a ballad written by Bobby Scott and Bob Russell. Originally recorded by Kelly Gordon in 1969, the song became a worldwide hit for The Hollies later that year and again for Neil Diamond in 1970. It has been recorded by many artists in subsequent years. The Hollies\\' and Rufus Wainwright\\'s versions of the song were featured in the film \"Zoolander\". Scott and Russell had been introduced to each other by Johnny Mercer, at a California nightclub. Although Russell was dying of lymphoma and the pair met in\\n', \"Question: who wrote he aint heavy he 's my brother\\n\", 'Answer: Bobby Scott\\n', 'Knolwedge: Sanjay National Park. Chhota Nagpur plateau is a store house of minerals like mica, bauxite, copper, limestone, iron ore and coal. The Damodar valley is rich in coal and it is considered as the prime centre of coking coal in the country. Massive coal deposits are found in the central basin spreading over . The important coalfields in the basin are Jharia, Raniganj, West Bokaro, East Bokaro, Ramgarh, South Karanpura and North Karanpura. Chota Nagpur Plateau The Chhota Nagpur Plateau is a plateau in eastern India, which covers much of Jharkhand state as well as adjacent parts of Odisha, West\\n', 'Question: give an account of minerals found in jharkhand\\n', 'Answer: limestone\\n', 'Knolwedge: The Teapot \"The Teapot\" (Danish: \"Theepotten\") is a literary fairy tale by Danish poet and author Hans Christian Andersen about a teapot and her adventures. The tale was first published 1863 and demonstrates the Andersen\\'s talent for investing ordinary household objects with life, character, and personality. A porcelain teapot rules the tea table. She is very proud of her handle and spout, but not quite so proud of her lid (which is cracked). She is very proud of holding the tea leaves and of being the one to pour forth her contents for thirsty humankind. One day, the teapot is\\n', \"Question: what 's the name of the teapot in beauty and the beast\\n\", 'Answer: Mrs. Potts\\n', 'Knolwedge: seven terms (a total of 14 years), with the most recent being the 2011–12 term. India is a member of G4, group of nations who back each other in seeking a permanent seat on the Security Council and advocate in favour of the reformation of the UNSC. India is also part of the G-77. India is a charter member of the United Nations and participates in all of its specialised agencies and organizations. India has contributed troops to United Nations peacekeeping efforts in Korea, Egypt and the Congo in its earlier years and in Somalia, Angola, Haiti, Liberia, Lebanon and\\n', 'Question: how many times has india been a member of un security council\\n', 'Answer: 1944 October\\n', 'Knolwedge: record is 73, set by Barry Bonds in 2001. Other notable single season records were achieved by Babe Ruth who hit 60 in 1927, Roger Maris, with 61 home runs in 1961, and Mark McGwire, who hit 70 in 1998. Negro League slugger Josh Gibson\\'s Baseball Hall of Fame plaque says he hit \"almost 800\" home runs in his career. The \"Guinness Book of World Records\" lists Gibson\\'s lifetime home run total at 800. Ken Burns\\' award-winning series, \"Baseball\", states that his actual total may have been as high as 950. Gibson\\'s true total is not known, in part due\\n', 'Question: most hits in an mlb game by one player\\n', 'Answer: seven\\n', 'Knolwedge: theory of atoms was popularized in France by the physician François Bernier (1620–1688) and in England by the natural philosopher Walter Charleton (1619–1707). The chemist Robert Boyle (1627–1691) and the physicist Isaac Newton (1642–1727) both defended atomism and, by the end of the seventeenth century, it had become accepted by portions of the scientific community. In the early 1800s, John Dalton used the concept of atoms to explain why elements always react in ratios of small whole numbers (the law of multiple proportions). For instance, there are two types of tin oxide: one is 88.1% tin and 11.9% oxygen and\\n', 'Question: who was the first one to proposed the idea about atom\\n', 'Answer: Democritus\\n', 'Knolwedge: securing the greatest amount of the national popular vote, such as during the 1824, 1876, 1888, 2000 and 2016 elections. In theory, it is possible to secure the necessary 270 electoral votes from only the eleven most populous states and then ignore the rest of the country. In 1844, Representative Samuel F. Vinton of Ohio proposed an amendment to the constitution that would replace the electoral college system with a lot system. The Joint Resolution called for each state to elect, by a simple majority, a presidential candidate of said state. Each state would notify Congress of the presidential election\\n', 'Question: who won the most states in a presidential election\\n', 'Answer: Ronald Reagan\\n', 'Knolwedge: \"senior senator\" is Bill Cassidy of Louisiana, who was sworn in January 3, 2015, and is currently 79th in seniority, ahead of senator John Neely Kennedy who was sworn in January 3, 2017, and is currently 95th in seniority. With the 116th Congress, Kyrsten Sinema of Arizona, who will be sworn in on January 3, 2019, will become the most-junior \"senior senator\", ahead of Martha McSally, who was appointed to replace retiring Jon Kyl . McSally will be sworn in after Sinema on January 3, 2019 . The Senate may expel a senator by a two-thirds vote. Fifteen senators have\\n', 'Question: who is the top ranking member in the senate\\n', 'Answer: Patrick Leahy\\n', 'Knolwedge: support and 9.1% were not sure or gave no answer. Texas has a long history with secession. It was originally a Spanish province, which in 1821 seceded from Spain and helped form the First Mexican Empire. In 1824 Texas became a state in the new Mexican republic. In 1835 Antonio López de Santa Anna assumed dictatorial control over the state and several states openly rebelled against the changes: Coahuila y Tejas (the northern part of which would become the Republic of Texas), San Luis Potosí, Querétaro, Durango, Guanajuato, Michoacán, Yucatán, Jalisco, Nuevo León, Tamaulipas, and Zacatecas. Several of these states\\n', 'Question: the most prominent political leaders during the republic of texas years were\\n', 'Answer: Sam Houston\\n', 'Knolwedge: stunt driving necessitated by the final chase and wrecked in said process, while the other was kept intact for all external \"beauty shots.\" The latter car was also used for all but two interior shots. Both 1971 Mustang Sportsroofs used in the film (neither car has been proven to be a Mach 1, as often assumed) were bought in 1971, but - as it was three years before Halicki could raise sufficient funds to start filming - each car was facelifted with 1973 grilles for the film. Both cars retain their 1971 front bumper and valance panels, as retrofitting the\\n', 'Question: what type of car is eleanor in gone in 60 seconds\\n', 'Answer: 1971 Ford Mustang Sportsroof\\n', 'Knolwedge: Guard, supported by volunteers, restored order by force. Press reaction both locally and nationally described the strike as Bolshevik-inspired and directed at the destruction of civil society. The strikers were called \"deserters\" and \"agents of Lenin.\" Samuel Gompers of the AFL recognized that the strike was damaging the cause of labor in the public mind and advised the strikers to return to work. Commissioner Curtis refused to re-hire the striking policemen. He was supported by Massachusetts Governor Calvin Coolidge, whose rebuke of Gompers earned him a national reputation. Nine were killed in several days of civil unrest and the threat\\n', 'Question: who took a firm stand in the boston police strike\\n', 'Answer: Police Commissioner Edwin Upton Curtis\\n', 'Knolwedge: 2017 SEC Championship Game The 2017 SEC Championship Game was played on December 2, 2017 at Mercedes-Benz Stadium in Atlanta, Georgia, and determined the 2017 football champion of the Southeastern Conference (SEC). This was the first SEC Conference football championship at the Mercedes-Benz Stadium. The game featured the Eastern Division Champion, 2017 Georgia Bulldogs football team against the Western Division Co-Champion, the 2017 Auburn Tigers football team. This championship game was a rematch of their rivalry game, played on November 11, 2017. In that earlier game, Auburn beat Georgia by a score of 40-17. In this rematch, Georgia won the\\n', 'Question: who played in the sec championship game this year\\n', 'Answer: Georgia Bulldogs\\n', 'Knolwedge: Death Note (2017 film) Death Note is a 2017 American neo-noir supernatural thriller film loosely adapted from the Japanese manga of the same name created by Tsugumi Ohba and Takeshi Obata. The film is directed by Adam Wingard and written by Charles Parlapanides, Vlas Parlapanides and Jeremy Slater. The film stars Nat Wolff, Lakeith Stanfield, Margaret Qualley, Shea Whigham, Paul Nakauchi, Jason Liles and Willem Dafoe, and follows the story of an introverted Seattle high school student named Light Turner, who finds a mysterious supernatural notebook known as the \"Death Note\" and after being intrigued with it\\'s god-like abilites, eventually\\n', 'Question: who played light in the death note movie\\n', 'Answer: Nat Wolff\\n', 'Knolwedge: executions were carried out in the United Kingdom for any of these offences after the abolition of the death penalty for murder. Nevertheless, there remained a working gallows at HMP Wandsworth, London, until 1994, which was tested every six months until 1992. This gallows is now housed in the Galleries of Justice in Nottingham. England and in the United Kingdom: on 13 August 1964, Peter Anthony Allen, at Walton Prison in Liverpool, and Gwynne Owen Evans, at Strangeways Prison in Manchester, were executed for the murder of John Alan West on 7 April that year. Scotland: Henry John Burnett, 21,\\n', 'Question: when was the last public hanging in england\\n', 'Answer: 26 May 1868\\n', 'Knolwedge: many of the \"Jastas\" still flew Albatros D types at the time of the armistice. The rotary engined Fokker D.VIII and Siemens-Schuckert D.IV, as well as surviving Fokker Triplanes, suffered from poor reliability and shortened engine life due to the Voltol-based oil that was used to replace scarce castor oil – captured and salvaged Allied aircraft (especially Sopwith Camels) were scrounged, not only for engines and equipment, but even for their lubricants. Nonetheless, by September casualties in the RFC had reached the highest level since \"Bloody April\" – and the Allies were maintaining air superiority by weight of numbers rather\\n', 'Question: what accounted for british military superiority in the first years of the war\\n', 'Answer: weight of numbers\\n', 'Knolwedge: Purple Rain (film) Purple Rain is a 1984 American rock musical drama film directed by Albert Magnoli, written by Magnoli and William Blinn, and produced by Robert Cavallo, Joseph Ruffalo and Steven Fargnoli. The film stars Prince in his acting debut playing \"The Kid\", a quasi-biographical character. \"Purple Rain\" was developed to showcase Prince\\'s talents, and the film contains several concert sequences. The film grossed more than $68 million at the box office in the United States and over $80 million worldwide, thus making a large profit on its $7.2 million budget. The film won an Academy Award for Best\\n', \"Question: who played prince 's father in purple rain\\n\", 'Answer: Clarence Williams III\\n', 'Knolwedge: named by Time magazine as one of the most influential teens of 2017 and of 2018. In 2018, \"The Hollywood Reporter\" named Brown among Hollywood\\'s top thirty stars under age eighteen. Millie Bobby Brown Millie Bobby Brown (born 19 February 2004) is an English actress and model. She earned worldwide fame for her role as Eleven in the Netflix science fiction horror series \"Stranger Things\", for which she received a Primetime Emmy Award nomination for Outstanding Supporting Actress in a Drama Series at the age of 13, becoming one of the youngest Emmy Award nominees of all time. She is\\n', 'Question: who is the girl who plays 11 in stranger things\\n', 'Answer: Millie Bobby Brown\\n', 'Knolwedge: 2017 Little League World Series The 2017 Little League World Series was held from August 17 to 27. Eight teams from the United States and eight teams from around the world competed in the 71st edition of the tournament. Tokyo Kitasuna Little League of Tokyo, Japan, defeated Lufkin Little League of Lufkin, Texas, in the championship game by a 12–2 score. It was the 11th time that a team from Japan won the tournament. Tokyo Kitasuna became the first league to win the tournament four times. Regional qualifying tournaments were held between June and August 2017. The draw to determine\\n', 'Question: who won the spain vs canada little league game\\n', 'Answer: Canada\\n', 'Knolwedge: Telomere A telomere ( or ) is a region of repetitive nucleotide sequences at each end of a chromosome, which protects the end of the chromosome from deterioration or from fusion with neighboring chromosomes. Its name is derived from the Greek nouns telos (\"τέλος\") \"end\" and merοs (\"μέρος\", root: \"μερ-\") \"part\". For vertebrates, the sequence of nucleotides in telomeres is AGGGTT, with the complementary DNA strand being TCCCAA, with a single-stranded TTAGGG overhang. This sequence of TTAGGG is repeated approximately 2,500 times in humans. In humans, average telomere length declines from about 11 kilobases at birth to less than 4\\n', 'Question: where are telomeres located in a normal chromosome\\n', 'Answer: each end of a chromosome\\n', 'Knolwedge: outstanding young player at the FIFA World Cup. Players must be at most 21 years old to receive the award; for the 2014 FIFA World Cup, they must be born on or after 1 January 1993. On 11 July 2014, the FIFA Technical Study Group announced the three-player shortlist for the Young Player award. The FIFA Fair Play Award is given to the team with the tournament’s best disciplinary record. Only teams that reach the knockout phase are eligible. The Budweiser Man of the Match was given to the best player of each match. It was decided by popular voting\\n', 'Question: who won the best young player in fifa 2014 world cup\\n', 'Answer: Paul Pogba\\n', \"Knolwedge: Boggess played her final performance as Rosalie Mullins. She was replaced by Jennifer Gambatese. On April 13, 2017, it was announced that Alex Brightman would return to the cast as Dewey Finn from April 14 to April 30, while Eric Petersen was on vacation leave. The Broadway production is expected to close on January 20, 2019, after 31 previews and 1,307 regular performances. On 7 December 2015, following the show's Broadway opening, it was announced by Andrew Lloyd Webber that the show will transfer to London's West End in autumn 2016, with the intention to open at the London Palladium.\\n\", 'Question: who plays dewey finn in school of rock broadway\\n', 'Answer: Alex Brightman\\n', 'Knolwedge: the KRLA radio program, \"The Credibility Gap\", which released some of his songs, including \"Soul in Ice\", on their record \"An Album Of Political Pornography\". At KRLA he also wrote and recorded the short theme song \"The Chronicles of Pop\" for the Pop Chronicles radio program. In the early 1970s, he formed the Alternative Chorus-Songwriters Showcase to promote new talent. He moved to Los Angeles in the mid-1970s. Len Chandlers\\' song \"Keep On Keepin\\' On\" of 1964 was used by Martin Luther King Jr. in a speech after King\\'s secretary saw the song in New York Broadside issue 34. Len\\n', 'Question: who said the hits just keep on coming\\n', 'Answer: Michael Nesmith\\n', \"Knolwedge: Jyoti Basu Jyotirindra Basu (8 July 1914 – 17 January 2010); known as Jyoti Basu was an Indian Marxist ideologue, theorist and statesman belonging to the Communist Party of India (Marxist) from West Bengal, India. He served as the Chief Minister of West Bengal state from 1977 to 2000. Basu was a member of the CPI(M) Politburo from the time of the party's founding (The CPI(M) was formed at the Seventh Congress of the Communist Party of India held in Calcutta from 31 October to 7 November 1964) in 1964 until 2008. From 2008 until his death in 2010 he\\n\", 'Question: who has held the office of chief minister the longest in india\\n', 'Answer: Jyoti Basu\\n', \"Knolwedge: with the remaining Confederate forces in North Carolina, the Army of Tennessee under Gen. Joseph E. Johnston. Union infantry and cavalry forces under Gen. Philip Sheridan pursued and cut off the Confederates' retreat at the central Virginia village of Appomattox Court House. Lee launched a last-ditch attack to break through the Union forces to his front, assuming the Union force consisted entirely of lightly armed cavalry. When he realized that the cavalry was now backed up by two corps of Federal infantry, he had no choice but to surrender with his further avenue of retreat and escape now cut off.\\n\", 'Question: who won the battle of appomattox in the civil war\\n', 'Answer: the United States\\n', 'Knolwedge: of Hyderabad in 1723 shortly after its foundation. In 1737, Marathas defeated the Mughals and the Nawab of Bhopal in the Battle of Bhopal, and started collecting tribute from the state. After the defeat of the Marathas in the Third Anglo-Maratha War, Bhopal became a British princely state in 1818. Bhopal State was the second largest state in pre-independence India, with a Muslim leadership, first being Hyderabad State. The state was merged into the Union of India in 1949 as Bhopal. The State of Bhopal was established by Dost Mohammad Khan (1672–1728), an pashtun soldier in the Mughal Army. After\\n', 'Question: when was bhopal state merged in the indian union\\n', 'Answer: in 1949\\n', 'Knolwedge: Republics within the Union of Soviet Socialist Republics. Germany effectively gave Moscow a free hand in much of these territories in the Molotov–Ribbentrop Pact of 1939, signed before Germany invaded the Soviet Union in 1941. Other Soviet-annexed territories included: Between 1945 and 1949 the Soviets converted the following areas into Soviet satellite states: Soviet-installed governments ruled the Eastern Bloc countries, with the exception of the Socialist Federal Republic of Yugoslavia, which retained its full independence. The majority of European states to the east of the Iron Curtain developed their own international economic and military alliances, such as COMECON and the\\n', 'Question: which soviet-controlled countries made up the iron curtain\\n', \"Answer: The Hungarian People 's Republic\\n\", 'Knolwedge: the nationally syndicated radio show \"Mancow\\'s Morning Madhouse\" for a number of years. She was a regular on \"The Late Late Show with Craig Ferguson\" in 2012 as Beth the CBS executive. DeLorenzo graduated from Chicago\\'s DePaul University in 2005 with a degree in Media Communications. Dana DeLorenzo Dana Rose DeLorenzo (born January 1, 1983) is an American actress and former radio personality and producer. She is best known for her starring role as Kelly Maxwell in the Starz horror-comedy series \"Ash vs Evil Dead\" (2015–2018). DeLorenzo began acting as a child in radio commercials for a clothing store owned\\n', 'Question: who plays kelly in ash vs the evil dead\\n', 'Answer: Dana DeLorenzo\\n', 'Knolwedge: wanted the show to not feel like comedy. \"The National Anthem\" stars Rory Kinnear as Prime Minister Michael Callow, with Lindsay Duncan playing Home Secretary Alex Cairns. \"Fifteen Million Merits\" features Daniel Kaluuya as Bing, Jessica Brown Findlay as Abi and Rupert Everett, Julia Davis, Ashley Thomas as Judges Hope, Charity and Wraith. In \"The Entire History of You\", Toby Kebbell and Jodie Whittaker star as married couple Liam and Ffion. The first series was popular and critically well-received, though viewing figures decreased throughout the series. The show was expensive for Channel 4, as the anthology format meant there were\\n', 'Question: who plays liam in season 1 of black mirror\\n', 'Answer: Toby Kebbell\\n', 'Knolwedge: Love Is in the Air (song) \"Love Is in the Air\" is a 1977 disco song sung by John Paul Young. The song was written by George Young and Harry Vanda and it became a worldwide hit in 1978, peaking at No. 3 on the Australian charts and No. 5 in the UK Singles Chart. In the United States, the song peaked at No. 7 on the pop chart and spent two weeks at No. 1 on the adult contemporary chart, his only US top 40 hit. The song was released as the lead single from Young\\'s fourth studio album,\\n', 'Question: who wrote the song love is in the air\\n', 'Answer: Harry Vanda\\n', \"Knolwedge: Toronto Blue Jays on August 12. On August 13, the Athletics began their then-AL-record 20-game win streak. The streak's first win came courtesy of Barry Zito, who allowed three runs (one earned) over eight innings in a 5-4 victory over the Jays. Over the next several weeks, stellar pitching, hitting, and defense all played a significant role in the Athletics' surge. Most notable were the efforts of fourth starter Cory Lidle. During August, Lidle went 5-0 while posting a scant 0.20 earned run average (he allowed one run his final start of the month); three of his five winning decisions\\n\", \"Question: who ended the oakland a 's winning streak in 2002\\n\", 'Answer: Toronto Blue Jays\\n', 'Knolwedge: Jeanine Mason (\"So You Think You Can Dance\") as Sam, Alex Blue Davis as Casey, Rushi Kota as Vik, Jaicy Elliot as Taryn, Sophia Ali as Dahlia, and Jake Borelli as Levi. On October 26, 2017, it was announced that Martin Henderson\\'s appearance in the fifth episode titled \"Danger Zone\" would be his last. On January 31, 2018, it was announced that Candis Cayne would be joining the show as Dr. Michelle Velez for a multi-episode arc revolving around a transgender character receiving a ground breaking surgery. On March 8, 2018, it was announced that both Jessica Capshaw and Sarah\\n', \"Question: who is returning to season 14 of grey 's anatomy\\n\", 'Answer: Jessica Capshaw\\n', \"Knolwedge: the backs of uniforms by the New York Yankees and the Cleveland Indians. By 1932, all major league baseball teams had numbers on their players' uniforms. The Brooklyn Dodgers, in 1952, became the first baseball team to add numbers to the fronts of their uniforms. In 1960, the Chicago White Sox were the first team to place players' names on the back of their jerseys, doing so on their road jerseys; within a few years, this practice became almost universal in MLB, though to this day the Yankees only wear names on their uniforms for Players Weekend, a yearly event\\n\", 'Question: first baseball team to put names on jerseys\\n', 'Answer: Chicago White Sox\\n', \"Knolwedge: 2017 Miami Dolphins season The 2017 Miami Dolphins season was the franchise's 48th season in the National Football League, the 52nd overall and the second under head coach Adam Gase. The team came off from a 10–6 record and a playoff appearance for the first time since 2008. They were seen as potential playoff contenders and looked to make consecutive playoff seasons for the first time since the 2000 and 2001 seasons. However, the team was affected by the loss of starting quarterback Ryan Tannehill, who tore his ACL during practice and was ruled out for the season. The team\\n\", 'Question: who is the starting quarterback for the miami dolphins this year\\n', 'Answer: Jay Cutler\\n', 'Knolwedge: is also playable in \"Lego Dimensions\", with archive audio of Ralph Fiennes\\'s portrayal in the films used for his voiceovers. In \"The Lego Batman Movie\" pack for the game, Voldemort is voiced by Liam O\\'Brien\". A 2018 Italian fan film titled \"\" depicts the story of Tom Riddle\\'s rise to power. Lord Voldemort Lord Voldemort (, in the films; born Tom Marvolo Riddle) is a fictional character and the main antagonist in J. K. Rowling\\'s series of \"Harry Potter\" novels. Voldemort first appeared in \"Harry Potter and the Philosopher\\'s Stone\", which was released in 1997. Voldemort appears either in person\\n', 'Question: who is the actor who plays lord voldemort\\n', 'Answer: Ralph Fiennes ,\\n', 'Knolwedge: Parnell, Spencer Grammer and Sarah Chalke voicing the rest of the family. The series originated from an animated short parody film of \"Back to the Future\", \"The Real Animated Adventures of Doc and Mharti,\" created by Roiland for Channel 101, a short film festival co-founded by Harmon. When Adult Swim approached Harmon for television show ideas, he and Roiland decided to develop a program based on the short. The series has received universal acclaim for its originality, creativity and humor. The show revolves around the adventures of the members of the Smith household, which consists of parents Jerry and Beth,\\n', 'Question: who does the voice of morty in rick and morty\\n', 'Answer: Justin Roiland\\n', 'Knolwedge: Battle of Takur Ghar The Battle of Takur Ghar was a short but intense military engagement between United States special operations forces and al-Qaeda insurgents fought in March 2002, atop Takur Ghar mountain in Afghanistan. For the U.S. side, the battle proved the deadliest entanglement of Operation Anaconda, an effort early in the war in Afghanistan to rout al-Qaeda forces from the Shahi-Kot Valley and Arma Mountains. The battle saw three helicopter landings by the U.S. on the mountain top, each greeted by direct assault from al-Qaeda forces. Although Takur Ghar was eventually taken, seven U.S. service members were killed\\n', 'Question: where did the battle of roberts ridge take place\\n', 'Answer: Takur Ghar mountain in Afghanistan\\n', 'Knolwedge: it was announced that Elizabeth Banks would portray Rita Repulsa. Four months later, Bryan Cranston, who voiced Twin Man and Snizard in the original series, announced he was cast as Zordon. Cranston revealed that he would perform motion-capture and CGI. In September 2016, Walter Emanuel Jones, the actor who played Zack in the original series, stated none of the original cast would cameo in the film. Towards the end of the month, comedian Bill Hader was cast as Alpha 5. In March 2017, it was reported that Amy Jo Johnson and Jason David Frank, who played Kimberly and Tommy in\\n', 'Question: who plays the red ranger in the new power rangers movie\\n', 'Answer: Dacre Montgomery\\n', 'Knolwedge: the convention and received all 5 delegates. Historically, Colorado has been one of the most Republican states in the nation, having been one of the few states to vote against Franklin D. Roosevelt during the New Deal during the 1940 and the 1944 presidential elections. No Republican had won a presidential election without winning Colorado from 1908 through 2012: before 2008, Colorado had not voted Democrat in any presidential election with the exception of 1992 (where Bill Clinton won by a plurality) and 1964 (When Lyndon B. Johnson won in a landslide). However, increasing urbanization in the Front Range Urban\\n', 'Question: who won the state of colorado in the presidential election\\n', 'Answer: Hillary Clinton\\n', 'Knolwedge: Crown, to give aid and counsel. Their composition, however, as well as their effective powers, varied greatly at different times. In their primitive form in the 14th and the first half of the 15th centuries, the Estates General had only a limited elective element. The lay lords and the ecclesiastical lords (bishops and other high clergy) who made up the Estates General were not elected by their peers, but directly chosen and summoned by the king. In the order of the clergy, however, since certain ecclesiastical bodies, e.g. abbeys and chapters of cathedrals, were also summoned to the assembly, and\\n', 'Question: what was the composition of the estate general of france\\n', 'Answer: commoners\\n', \"Knolwedge: film in the role of the manager to Cooper's character, though he ultimately was not involved. On March 17, 2017, Sam Elliott joined the film, with Andrew Dice Clay entering negotiations to play Lorenzo, the father of Lady Gaga's character. Clay was selected over Robert De Niro, John Turturro and John Travolta. In April 2017, Rafi Gavron, Michael Harney, and Rebecca Field also joined the cast. Filming began on April 17, 2017. In May, Dave Chappelle was cast in the film. In April 2018, it was announced that Halsey would have a small role. After seeing him perform at Desert\\n\", 'Question: who is noodles in a star is born\\n', 'Answer: Dave Chappelle\\n', \"Knolwedge: Money in the Bank (2017) Money in the Bank (2017) was a professional wrestling pay-per-view (PPV) event and WWE Network event produced by WWE for the SmackDown brand. It took place on June 18, 2017, at the Scottrade Center in St. Louis, Missouri. It was the eighth event under the Money in the Bank chronology and the first to feature a Women's Money in the Bank ladder match. Seven matches were contested at the event, including one on the pre-show and two Money in the Bank ladder matches on the main card. In the main event, Baron Corbin won the\\n\", 'Question: who won the money in the bank 2017\\n', 'Answer: Baron Corbin\\n', 'Knolwedge: Republic of Doyle Republic of Doyle is a Canadian comedy-drama television series set in St. John\\'s, Newfoundland and Labrador which aired on CBC Television from January 6, 2010 to December 10, 2014. The show stars Allan Hawco as private investigator and former police officer Jake Doyle and Seán McGinley as his father, retired police officer Malachy Doyle. They partner as private investigators with Rose Doyle, Malachy\\'s second wife, played by Lynda Boyd, in St. John\\'s. Krystin Pellerin stars as Constable/Sergeant Leslie Bennett, with Mark O\\'Brien as Desmond \"Des\" Courtney, who works with the Doyles, and Marthe Bernard as Katrina \"Tinny\"\\n', 'Question: where is the republic of doyle filmed at\\n', 'Answer: Newfoundland\\n', 'Knolwedge: do, however, use a collegiate squad to cheer at home games. Super Bowl XLV between the Steelers and the Packers in February 2011 was the first time a Super Bowl featured no cheerleaders. The Browns and the Giants are the only NFL teams that have never had cheerleaders, while the other aforementioned teams have had cheer squads in the past. However, there are reports that the Browns did have cheerleaders in 1971, but no records exist. The Buffalo Bills endorsed the officially independent Buffalo Jills from 1966 to 2013; when several cheerleaders sued both the Bills and the Bills organizations,\\n', \"Question: what nfl teams do n 't have cheerleaders 2017\\n\", 'Answer: Green Bay Packers\\n', 'Knolwedge: Robert Romanus Robert Romanus (born July 17, 1956), also billed as Bob Romanus, is an American actor and musician who has starred in film and television. He is perhaps best known for his role in the 1982 comedy \"Fast Times at Ridgemont High\", as Italian-American ticket scalper Mike Damone, and as Natalie Green\\'s boyfriend Snake on \"The Facts of Life\". He also starred in the 1985 film \"Bad Medicine\". Romanus is the son of Eileen (née Maloof) and Dr. Raymond Romanos, and is the brother of actor Richard Romanus. He grew up in West Hartford, Connecticut and went to Conard\\n', 'Question: who plays mike in fast times at ridgemont high\\n', 'Answer: Robert Romanus\\n', 'Knolwedge: Lana Parrilla Lana Maria Parrilla (born July 15, 1977) is an American actress. Parrilla is best known for her roles on television and radio. She was a regular cast member in the fifth season of the ABC sitcom \"Spin City\" from 2000 to 2001. She later starred in \"Boomtown\" (2002-2003), \"Windfall\" (2006), \"Swingtown\" (2008) and as Dr. Eva Zambrano in the short-lived medical drama \"Miami Medical\" (2010). She also played the role of Sarah Gavin during the fourth season of the Fox series \"24\" in 2005. In 2011, Parrilla began starring as The Evil Queen/Regina Mills in the ABC fantasy\\n', 'Question: who played regina in once upon a time\\n', 'Answer: Lana Maria Parrilla\\n', 'Knolwedge: were historically kept for display in the menageries of Ancient Egypt, China, Greece, and Rome. The Romans in particular pitted them against humans and other animals in gladiator events. In the modern era, elephants have traditionally been a major part of zoos and circuses around the world. In circuses, they are trained to perform tricks. The most famous circus elephant was probably Jumbo (1861 – 15 September 1885), who was a major attraction in the Barnum & Bailey Circus. These animals do not reproduce well in captivity, due to the difficulty of handling musth bulls and limited understanding of female\\n', 'Question: when were elephants first used in the circus\\n', 'Answer: early eighteenth century\\n', 'Knolwedge: independent discovery\". Robert K. Merton defined such \"multiples\" as instances in which similar discoveries are made by scientists working independently of each other. Merton contrasted a \"multiple\" with a \"singleton\"—a discovery that has been made uniquely by a single scientist or group of scientists working together. As Merton said, \"Sometimes the discoveries are simultaneous or almost so; sometimes a scientist will make a new discovery which, unknown to him, somebody else has made years before.\" Commonly cited examples of multiple independent discovery are the 17th-century independent formulation of calculus by Isaac Newton, Gottfried Wilhelm Leibniz and others, described by A.\\n', 'Question: what do you call more than one hypothesis\\n', 'Answer: hypotheses\\n', \"Knolwedge: and shame for trying to push Jason's father into the oil business. Jason and the guide are captured there and taken hostage by militants for several weeks, until Jason manages to ensure their escape. He returns to America and discovers that Emily's condition has deteriorated, so he arranges for Gus the ranch-hand to host a belated Christmas celebration at his home for them. Upon completing his twelve tasks, Jason is given a sum of $100-million to do with whatever he pleases, and all of his property is returned to him. His former girlfriend, knowing that he has regained his wealth,\\n\", 'Question: the gift of money in the ultimate gift\\n', 'Answer: over $2 - billion\\n', 'Knolwedge: debris. The first man made nuclear explosion occurred on July 16, 1945 at 5:50 am on the Trinity Test Site near Alamogordo, New Mexico in the United States, an area now known as the White Sands Missile Range. The event involved the full-scale testing of an implosion-type fission atomic bomb. In a memorandum to the U.S. Secretary of War, General Leslie Groves describes the yield as equivalent to 15,000 to 20,000 tons of TNT. Following this test, a uranium-gun type nuclear bomb (Little Boy) was dropped on the Japanese city of Hiroshima on August 6, 1945, with a blast yield\\n', 'Question: when was the first nuclear bomb set off\\n', 'Answer: July 16 , 1945\\n', 'Knolwedge: on October 29, 2009 and passed on November 7, during the 1st Session of the 111th Congress. Its primary sponsor was the Dean of the House, John Dingell of Michigan. The bill is a revised version of an earlier measure, the proposed America\\'s Affordable Health Choices Act of 2009 (HR 3200 ). The revisions included refinements designed to meet the goals outlined in the President\\'s address to a joint session of Congress in September, 2009 concerning health care reform. In 1989 the idea for the \"individual mandate\" that every household obtain adequate health care was proposed by the Heritage Foundation\\n', 'Question: who came up with the affordable care act\\n', 'Answer: United States House of Representatives']\n"
     ]
    }
   ],
   "source": [
    "print(lines)"
   ]
  },
  {
   "cell_type": "code",
   "execution_count": 20,
   "metadata": {},
   "outputs": [
    {
     "name": "stdout",
     "output_type": "stream",
     "text": [
      "Knolwedge: on death row in the United States on January 1, 2013. Since 1977, the states of Texas (464), Virginia (108) and Oklahoma (94) have executed the most death row inmates. , California (683), Florida (390), Texas (330) and Pennsylvania (218) housed more than half of all inmates pending on death row. , the longest-serving prisoner on death row in the US who has been executed was Jack Alderman who served over 33 years. He was executed in Georgia in 2008. However, Alderman only holds the distinction of being the longest-serving \"executed\" inmate so far. A Florida inmate, Gary Alvord, arrived\n",
      "Question: total number of death row inmates in the us\n",
      "Answer: 2,718\n",
      "Knolwedge: for India's victory. During his innings of 53 Indian captain Virat Kohli became the fastest batsmen in terms of innings to reach 6000 career ODI runs. Yadav achieved his maiden 4-wicket haul in ODIs. The fourth match of the series became a one-man show. Rohit Sharma, playing his first international match after fracturing his finger against England in August 2014, scored a record-breaking 264 off 173 balls, as India scored 404 in their allocated 50 overs. The innings involved a 202 run partnership for the 3rd wicket between Sharma and captain Virat Kohli, and a 128 run partnership for the\n",
      "Question: which indian captain has won the maximum matches against sri lanka\n",
      "Answer: Virat Kohli\n",
      "\n",
      "a\n"
     ]
    }
   ],
   "source": [
    "output = \"\"\n",
    "with open(\"datasets/format_prompt.txt\", \"r\") as f:\n",
    "    lines = f.readlines()\n",
    "for i in range(2*3):\n",
    "    output += lines[i]\n",
    "print(output)\n",
    "print(\"a\")"
   ]
  },
  {
   "cell_type": "code",
   "execution_count": 21,
   "metadata": {},
   "outputs": [],
   "source": [
    "a = {1:2, 3:4}\n",
    "a.update({4:5})"
   ]
  },
  {
   "cell_type": "code",
   "execution_count": 22,
   "metadata": {},
   "outputs": [
    {
     "data": {
      "text/plain": [
       "{1: 2, 3: 4, 4: 5}"
      ]
     },
     "execution_count": 22,
     "metadata": {},
     "output_type": "execute_result"
    }
   ],
   "source": [
    "a"
   ]
  },
  {
   "cell_type": "code",
   "execution_count": null,
   "metadata": {},
   "outputs": [],
   "source": []
  }
 ],
 "metadata": {
  "kernelspec": {
   "display_name": "Python 3 (ipykernel)",
   "language": "python",
   "name": "python3"
  },
  "language_info": {
   "codemirror_mode": {
    "name": "ipython",
    "version": 3
   },
   "file_extension": ".py",
   "mimetype": "text/x-python",
   "name": "python",
   "nbconvert_exporter": "python",
   "pygments_lexer": "ipython3",
   "version": "3.8.10"
  }
 },
 "nbformat": 4,
 "nbformat_minor": 4
}
