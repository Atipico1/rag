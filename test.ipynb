{
 "cells": [
  {
   "cell_type": "code",
   "execution_count": 2,
   "metadata": {},
   "outputs": [],
   "source": [
    "import joblib"
   ]
  },
  {
   "cell_type": "code",
   "execution_count": 20,
   "metadata": {},
   "outputs": [],
   "source": [
    "data = joblib.load(\"/home/seongilpark/rag/datasets/TotalPromptSet-all_ex_20.joblib\")"
   ]
  },
  {
   "cell_type": "code",
   "execution_count": 21,
   "metadata": {},
   "outputs": [],
   "source": [
    "from utils import normalize_question\n",
    "import pandas as pd\n",
    "df = pd.read_csv(\"baseline.csv\")"
   ]
  },
  {
   "cell_type": "code",
   "execution_count": 22,
   "metadata": {},
   "outputs": [],
   "source": [
    "correct_qs = df[df.is_accurate == 1].question.values\n",
    "incorrect_qs = df[df.is_accurate == 0].question.values"
   ]
  },
  {
   "cell_type": "code",
   "execution_count": 23,
   "metadata": {},
   "outputs": [],
   "source": [
    "promptset = data[\"promptset\"]"
   ]
  },
  {
   "cell_type": "code",
   "execution_count": 24,
   "metadata": {},
   "outputs": [],
   "source": [
    "correct, incorrect = [], []\n",
    "for prompt in promptset.prompt_sets:\n",
    "    if prompt.query in correct_qs:\n",
    "        correct.append(prompt)\n",
    "    elif prompt.query in incorrect_qs:\n",
    "        incorrect.append(prompt)"
   ]
  },
  {
   "cell_type": "code",
   "execution_count": 25,
   "metadata": {},
   "outputs": [
    {
     "data": {
      "text/plain": [
       "['datasets/TotalPromptSet-all_ex_20_incorrect.joblib']"
      ]
     },
     "execution_count": 25,
     "metadata": {},
     "output_type": "execute_result"
    }
   ],
   "source": [
    "data[\"promptset\"].prompt_sets = correct\n",
    "joblib.dump(data, \"datasets/TotalPromptSet-all_ex_20_correct.joblib\")\n",
    "data[\"promptset\"].prompt_sets = incorrect\n",
    "joblib.dump(data, \"datasets/TotalPromptSet-all_ex_20_incorrect.joblib\")"
   ]
  },
  {
   "cell_type": "code",
   "execution_count": 26,
   "metadata": {},
   "outputs": [
    {
     "name": "stdout",
     "output_type": "stream",
     "text": [
      "1875\n",
      "1735\n"
     ]
    }
   ],
   "source": [
    "correct_data = joblib.load(\"datasets/TotalPromptSet-all_ex_20_correct.joblib\")\n",
    "incorrect_data = joblib.load(\"datasets/TotalPromptSet-all_ex_20_incorrect.joblib\")\n",
    "\n",
    "print(len(correct_data[\"promptset\"].prompt_sets))\n",
    "print(len(incorrect_data[\"promptset\"].prompt_sets))"
   ]
  },
  {
   "cell_type": "code",
   "execution_count": 14,
   "metadata": {},
   "outputs": [
    {
     "data": {
      "text/plain": [
       "(1875, 1735)"
      ]
     },
     "execution_count": 14,
     "metadata": {},
     "output_type": "execute_result"
    }
   ],
   "source": [
    "len(correct), len(incorrect)"
   ]
  },
  {
   "cell_type": "code",
   "execution_count": 15,
   "metadata": {},
   "outputs": [
    {
     "data": {
      "text/plain": [
       "3610"
      ]
     },
     "execution_count": 15,
     "metadata": {},
     "output_type": "execute_result"
    }
   ],
   "source": []
  },
  {
   "cell_type": "code",
   "execution_count": null,
   "metadata": {},
   "outputs": [],
   "source": []
  }
 ],
 "metadata": {
  "kernelspec": {
   "display_name": "Python 3 (ipykernel)",
   "language": "python",
   "name": "python3"
  },
  "language_info": {
   "codemirror_mode": {
    "name": "ipython",
    "version": 3
   },
   "file_extension": ".py",
   "mimetype": "text/x-python",
   "name": "python",
   "nbconvert_exporter": "python",
   "pygments_lexer": "ipython3",
   "version": "3.10.13"
  }
 },
 "nbformat": 4,
 "nbformat_minor": 4
}
