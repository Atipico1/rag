{
 "cells": [
  {
   "cell_type": "code",
   "execution_count": 47,
   "metadata": {},
   "outputs": [],
   "source": [
    "from datasets import load_dataset\n",
    "\n",
    "dataset = load_dataset(\"squad\")"
   ]
  },
  {
   "cell_type": "code",
   "execution_count": 1,
   "metadata": {},
   "outputs": [
    {
     "name": "stderr",
     "output_type": "stream",
     "text": [
      "/Users/seongilpark/rag/.venv/lib/python3.11/site-packages/tqdm/auto.py:21: TqdmWarning: IProgress not found. Please update jupyter and ipywidgets. See https://ipywidgets.readthedocs.io/en/stable/user_install.html\n",
      "  from .autonotebook import tqdm as notebook_tqdm\n"
     ]
    }
   ],
   "source": [
    "import spacy\n",
    "nlp = spacy.load('en_core_web_trf')"
   ]
  },
  {
   "cell_type": "code",
   "execution_count": 129,
   "metadata": {},
   "outputs": [],
   "source": [
    "import json\n",
    "\n",
    "with open(\"nq-test.json\", \"r\") as f:\n",
    "    nq = json.load(f)"
   ]
  },
  {
   "cell_type": "code",
   "execution_count": 130,
   "metadata": {},
   "outputs": [],
   "source": [
    "nq_questions = [e['question'] for e in nq]"
   ]
  },
  {
   "cell_type": "code",
   "execution_count": 131,
   "metadata": {},
   "outputs": [],
   "source": [
    "docs = list(nlp.pipe(nq_questions,batch_size=128))"
   ]
  },
  {
   "cell_type": "code",
   "execution_count": 132,
   "metadata": {},
   "outputs": [],
   "source": [
    "def masking_entity(doc) -> str:\n",
    "    if not len(doc.ents):\n",
    "        return doc.text\n",
    "    \n",
    "    text_list =[]\n",
    "    for d in doc:\n",
    "        if d.pos_ == \"PUNCT\":\n",
    "            text_list.append(\"@\"+d.text)\n",
    "        elif d.pos_ == \"AUX\" and d.text == \"'s\":\n",
    "            text_list.append(\"@\"+d.text)\n",
    "        else:\n",
    "            text_list.append(d.text)\n",
    "\n",
    "    for ent in doc.ents:\n",
    "        text_list[ent.start:ent.end] = [\"[B]\"]* (ent.end - ent.start)\n",
    "        text_list[ent.start] = \"[BLANK]\"\n",
    "    return \" \".join(text_list).replace(\" [B]\", \"\").replace(\" @\", \"\")"
   ]
  },
  {
   "cell_type": "code",
   "execution_count": 133,
   "metadata": {},
   "outputs": [],
   "source": [
    "result = []\n",
    "for doc in docs:\n",
    "    try:\n",
    "        result.append(masking_entity(doc))\n",
    "    except:\n",
    "        print(doc)"
   ]
  },
  {
   "cell_type": "code",
   "execution_count": 134,
   "metadata": {},
   "outputs": [
    {
     "name": "stdout",
     "output_type": "stream",
     "text": [
      "3610\n",
      "3610\n"
     ]
    }
   ],
   "source": [
    "print(len(nq_questions))\n",
    "print(len(result))"
   ]
  },
  {
   "cell_type": "code",
   "execution_count": 136,
   "metadata": {},
   "outputs": [
    {
     "name": "stderr",
     "output_type": "stream",
     "text": [
      "100%|██████████| 113/113 [00:04<00:00, 26.24it/s]\n"
     ]
    }
   ],
   "source": [
    "from tqdm import tqdm\n",
    "\n",
    "emds = []\n",
    "for i in tqdm(range(0, len(result), 32)):\n",
    "    batch = result[i:i+32]\n",
    "    embeddings = model.encode(batch)\n",
    "    for idx, emb in enumerate(embeddings):\n",
    "        emds.append(emb)"
   ]
  },
  {
   "cell_type": "code",
   "execution_count": 140,
   "metadata": {},
   "outputs": [],
   "source": [
    "for q, r, e in zip(nq, result, emds):\n",
    "    q['masked_question'] = r\n",
    "    q['masked_question_embedding'] = e.tolist()\n",
    "with open(\"nq-test-with-embds.json\", \"w\") as f:\n",
    "    json.dump(nq, f)"
   ]
  },
  {
   "cell_type": "code",
   "execution_count": 142,
   "metadata": {},
   "outputs": [
    {
     "data": {
      "text/plain": [
       "[-0.050751253962516785,\n",
       " 0.0415990948677063,\n",
       " 0.004519982263445854,\n",
       " 0.11377488076686859,\n",
       " -0.025766627863049507,\n",
       " -0.00020134275837335736,\n",
       " 0.010921486653387547,\n",
       " 0.005758862942457199,\n",
       " 0.053729988634586334,\n",
       " -0.013639156706631184,\n",
       " 0.09257633239030838,\n",
       " -0.04823893681168556,\n",
       " -0.05879274010658264,\n",
       " -0.02404460869729519,\n",
       " -0.0478200763463974,\n",
       " 0.05612983927130699,\n",
       " -0.03818182274699211,\n",
       " 0.0011802057269960642,\n",
       " -0.08060953766107559,\n",
       " -0.04245540499687195,\n",
       " -0.008635022677481174,\n",
       " 0.04528072476387024,\n",
       " 0.024225464090704918,\n",
       " -0.02777707204222679,\n",
       " 0.048539645969867706,\n",
       " 0.04327670857310295,\n",
       " -0.0222444087266922,\n",
       " -0.045138731598854065,\n",
       " 0.06330950558185577,\n",
       " 0.01619591750204563,\n",
       " 0.02565889060497284,\n",
       " 0.026625975966453552,\n",
       " -0.004932265728712082,\n",
       " -0.03327135741710663,\n",
       " 0.051182471215724945,\n",
       " -0.007155284751206636,\n",
       " 0.07120928168296814,\n",
       " 0.023139819502830505,\n",
       " -0.019660739228129387,\n",
       " -0.0036644835490733385,\n",
       " -0.006209670100361109,\n",
       " -0.001931150909513235,\n",
       " 0.03564820811152458,\n",
       " 0.0966288223862648,\n",
       " 0.021788571029901505,\n",
       " 0.05854051932692528,\n",
       " 0.0354810431599617,\n",
       " -0.11573294550180435,\n",
       " 0.039350394159555435,\n",
       " -0.025781139731407166,\n",
       " -0.014193070121109486,\n",
       " -0.01862430013716221,\n",
       " -0.0420682393014431,\n",
       " 0.037788908928632736,\n",
       " 0.09477818012237549,\n",
       " 0.012015706859529018,\n",
       " 0.03400604426860809,\n",
       " -0.025536349043250084,\n",
       " -0.028379805386066437,\n",
       " -0.03997304290533066,\n",
       " 0.012669538147747517,\n",
       " 0.032158516347408295,\n",
       " -0.07592277228832245,\n",
       " 0.05974592640995979,\n",
       " 0.10917271673679352,\n",
       " -0.03831896930932999,\n",
       " -0.04194798693060875,\n",
       " -0.007019905839115381,\n",
       " 0.00010556730558164418,\n",
       " 0.06241557002067566,\n",
       " 0.06603585928678513,\n",
       " 0.05603240802884102,\n",
       " -0.03531888499855995,\n",
       " -0.00543771730735898,\n",
       " 0.049123089760541916,\n",
       " -0.06575567275285721,\n",
       " -0.014758532866835594,\n",
       " 0.022664180025458336,\n",
       " 0.10326792299747467,\n",
       " 0.13568852841854095,\n",
       " -0.005323666613548994,\n",
       " -0.12077874690294266,\n",
       " -0.1608601063489914,\n",
       " -0.030054505914449692,\n",
       " -0.03226786106824875,\n",
       " 0.0737733319401741,\n",
       " 0.009372997097671032,\n",
       " 0.016055583953857422,\n",
       " -0.010081257671117783,\n",
       " -0.06415335834026337,\n",
       " -0.060486260801553726,\n",
       " 0.001150174648500979,\n",
       " -0.04985868185758591,\n",
       " 0.04178863763809204,\n",
       " -0.027652908116579056,\n",
       " -0.012174281291663647,\n",
       " -0.04083358868956566,\n",
       " -0.012984293513000011,\n",
       " 0.014209733344614506,\n",
       " 0.07950601726770401,\n",
       " 0.025538690388202667,\n",
       " -0.03381109610199928,\n",
       " 0.00346119306050241,\n",
       " 0.18374565243721008,\n",
       " -0.06275446712970734,\n",
       " 0.006544702686369419,\n",
       " 0.04679820314049721,\n",
       " 0.02822667919099331,\n",
       " -0.005103131756186485,\n",
       " 0.07157440483570099,\n",
       " 0.1186642274260521,\n",
       " -0.04946229234337807,\n",
       " 0.04334830865263939,\n",
       " -0.023167070001363754,\n",
       " -0.12231133133172989,\n",
       " -0.020849192515015602,\n",
       " -0.03478720039129257,\n",
       " 0.03930887207388878,\n",
       " 0.02311806008219719,\n",
       " 0.04123775660991669,\n",
       " 0.029134906828403473,\n",
       " -0.028817495331168175,\n",
       " -0.009172284975647926,\n",
       " 0.02165880985558033,\n",
       " -0.027654362842440605,\n",
       " 0.00919106975197792,\n",
       " -0.0046921465545892715,\n",
       " -6.35590677110374e-33,\n",
       " 0.05221782624721527,\n",
       " 0.024496015161275864,\n",
       " 0.07848756015300751,\n",
       " 0.04757019877433777,\n",
       " 0.0585467629134655,\n",
       " -0.036087460815906525,\n",
       " -0.02165476232767105,\n",
       " 0.010597425512969494,\n",
       " 0.08787107467651367,\n",
       " 0.050127990543842316,\n",
       " -0.03433332219719887,\n",
       " 0.027109088376164436,\n",
       " 0.06234206259250641,\n",
       " 0.023067399859428406,\n",
       " -0.07132795453071594,\n",
       " 0.0026685164775699377,\n",
       " 0.007284434977918863,\n",
       " -0.03276480361819267,\n",
       " -0.0508364699780941,\n",
       " -0.02759031020104885,\n",
       " 0.048274967819452286,\n",
       " 0.09740470349788666,\n",
       " 0.019856799393892288,\n",
       " -0.010232464410364628,\n",
       " -0.05205490440130234,\n",
       " 0.04917465150356293,\n",
       " -0.02400246076285839,\n",
       " -0.04339366778731346,\n",
       " -0.022825803607702255,\n",
       " 0.03352218121290207,\n",
       " -0.05906040221452713,\n",
       " 0.023858023807406425,\n",
       " 0.005557605065405369,\n",
       " -0.01887214183807373,\n",
       " -0.04827365651726723,\n",
       " 0.030953608453273773,\n",
       " -0.03000820241868496,\n",
       " -0.11888127774000168,\n",
       " -0.04608489200472832,\n",
       " -0.02892894297838211,\n",
       " -0.021276773884892464,\n",
       " -0.01976661942899227,\n",
       " -0.020261941477656364,\n",
       " -0.02527466230094433,\n",
       " 0.02295849286019802,\n",
       " -0.04582780599594116,\n",
       " 0.045089349150657654,\n",
       " 0.057686686515808105,\n",
       " 0.0015696085756644607,\n",
       " 0.12181317806243896,\n",
       " -0.07536173611879349,\n",
       " -0.06120877340435982,\n",
       " 0.03602709248661995,\n",
       " -0.008833521977066994,\n",
       " 0.07427685707807541,\n",
       " -0.02009318396449089,\n",
       " 0.006330265663564205,\n",
       " -0.03011118434369564,\n",
       " -0.0854896828532219,\n",
       " -0.00024060517898760736,\n",
       " 0.01687900349497795,\n",
       " 0.10000547021627426,\n",
       " 0.037613995373249054,\n",
       " 0.013155169785022736,\n",
       " -0.0071030897088348866,\n",
       " 0.014042215421795845,\n",
       " -0.03158165141940117,\n",
       " -0.0859646275639534,\n",
       " 0.012697379104793072,\n",
       " -0.06809532642364502,\n",
       " -0.09980598092079163,\n",
       " 0.02019166573882103,\n",
       " -0.14127874374389648,\n",
       " -0.016782278195023537,\n",
       " 0.0543237142264843,\n",
       " -0.015086756087839603,\n",
       " -0.03134344890713692,\n",
       " -0.04081401228904724,\n",
       " 0.04333740845322609,\n",
       " -0.03378068655729294,\n",
       " 0.07132526487112045,\n",
       " -0.005577725823968649,\n",
       " -0.013571329414844513,\n",
       " -0.023075362667441368,\n",
       " -0.13970893621444702,\n",
       " -0.0112083051353693,\n",
       " -0.023181941360235214,\n",
       " 0.019771728664636612,\n",
       " -0.011331013403832912,\n",
       " -0.05578847974538803,\n",
       " -0.08764505386352539,\n",
       " -0.0790797770023346,\n",
       " -0.00220872531645,\n",
       " 0.0027162814512848854,\n",
       " 0.005176575854420662,\n",
       " 3.232686973920048e-33,\n",
       " -0.09916418045759201,\n",
       " 0.006242041010409594,\n",
       " -0.010463577695190907,\n",
       " 0.03418229520320892,\n",
       " -0.010048700496554375,\n",
       " 0.006353660020977259,\n",
       " 0.07152289897203445,\n",
       " -0.0900467187166214,\n",
       " 0.03352692350745201,\n",
       " 0.03614630550146103,\n",
       " 0.10440279543399811,\n",
       " -0.009889927692711353,\n",
       " -0.051233526319265366,\n",
       " -0.03591347113251686,\n",
       " 0.031772661954164505,\n",
       " 0.04088769853115082,\n",
       " -0.0771377831697464,\n",
       " -0.06136607378721237,\n",
       " -0.027682188898324966,\n",
       " 0.1191074326634407,\n",
       " 0.01599184051156044,\n",
       " -0.003195577533915639,\n",
       " -0.058163441717624664,\n",
       " -0.04172351211309433,\n",
       " 0.0821107029914856,\n",
       " 0.018264958634972572,\n",
       " 0.12998156249523163,\n",
       " -0.08361785113811493,\n",
       " -0.039544157683849335,\n",
       " 0.01813983917236328,\n",
       " 7.170921162469313e-05,\n",
       " -0.046406786888837814,\n",
       " -0.04106499254703522,\n",
       " 0.01235667522996664,\n",
       " -0.008707170374691486,\n",
       " 0.026623690500855446,\n",
       " 0.10267886519432068,\n",
       " 0.0544080026447773,\n",
       " 0.010314352810382843,\n",
       " -0.033420637249946594,\n",
       " -0.055194705724716187,\n",
       " 0.09199768304824829,\n",
       " 0.03972777724266052,\n",
       " 0.06112367659807205,\n",
       " -0.036008551716804504,\n",
       " -0.01221854705363512,\n",
       " -0.057285524904727936,\n",
       " 0.06337615102529526,\n",
       " -0.020184215158224106,\n",
       " -0.06285864859819412,\n",
       " -0.04082922637462616,\n",
       " -0.07302932441234589,\n",
       " -0.02379816770553589,\n",
       " -0.043052468448877335,\n",
       " -0.03243667632341385,\n",
       " 0.06357195973396301,\n",
       " -0.02658252976834774,\n",
       " 0.04550172761082649,\n",
       " 0.06281180679798126,\n",
       " -0.018620995804667473,\n",
       " -0.02059072256088257,\n",
       " -0.030491812154650688,\n",
       " -0.0104210888966918,\n",
       " 0.06357700377702713,\n",
       " -0.02114414982497692,\n",
       " 0.02148178406059742,\n",
       " -0.029919665306806564,\n",
       " 0.13694174587726593,\n",
       " -0.051969680935144424,\n",
       " -0.12155977636575699,\n",
       " -0.03215363994240761,\n",
       " -0.0022148529533296824,\n",
       " -0.01452245656400919,\n",
       " -0.08989851921796799,\n",
       " 0.04769895225763321,\n",
       " 0.0900769829750061,\n",
       " 0.027253175154328346,\n",
       " -0.07246986031532288,\n",
       " -0.03669563680887222,\n",
       " -0.012941867113113403,\n",
       " -0.0322374664247036,\n",
       " 0.01696816459298134,\n",
       " 0.03799695894122124,\n",
       " 0.049180131405591965,\n",
       " 0.035792119801044464,\n",
       " -0.022104449570178986,\n",
       " -0.029071718454360962,\n",
       " -0.06221736967563629,\n",
       " 0.01056757289916277,\n",
       " -0.004266805946826935,\n",
       " -0.018110956996679306,\n",
       " 0.059898730367422104,\n",
       " 0.07444320619106293,\n",
       " 0.047712404280900955,\n",
       " -0.07183840125799179,\n",
       " -1.909998736948637e-08,\n",
       " -0.03151405602693558,\n",
       " 0.04077858850359917,\n",
       " -0.009517264552414417,\n",
       " -0.0645066499710083,\n",
       " -0.028117720037698746,\n",
       " -0.014058790169656277,\n",
       " -0.005233633331954479,\n",
       " -0.058053936809301376,\n",
       " -0.0002503515570424497,\n",
       " 0.053199395537376404,\n",
       " -0.0712907612323761,\n",
       " 0.020020417869091034,\n",
       " -0.06544694304466248,\n",
       " -0.013451652601361275,\n",
       " 0.0673728734254837,\n",
       " 0.04196561127901077,\n",
       " -0.07228917628526688,\n",
       " 0.01953553780913353,\n",
       " -0.039960674941539764,\n",
       " -0.0423102080821991,\n",
       " 0.04753616452217102,\n",
       " 0.014498327858746052,\n",
       " 0.06013242155313492,\n",
       " -0.061152487993240356,\n",
       " 0.04047100991010666,\n",
       " 0.0379619225859642,\n",
       " -0.0014700101455673575,\n",
       " -0.03399425745010376,\n",
       " 0.05659104138612747,\n",
       " 0.00042665464570745826,\n",
       " 0.02393597550690174,\n",
       " 0.034350644797086716,\n",
       " 0.0496494397521019,\n",
       " -0.050153087824583054,\n",
       " -0.03987135365605354,\n",
       " 0.0674891248345375,\n",
       " 0.019965561106801033,\n",
       " 0.07378591597080231,\n",
       " -0.03462802246212959,\n",
       " 0.016380656510591507,\n",
       " -0.038055211305618286,\n",
       " -0.009966804645955563,\n",
       " 0.017979290336370468,\n",
       " 0.017683563753962517,\n",
       " -0.018452446907758713,\n",
       " 0.03959406539797783,\n",
       " -0.04604461044073105,\n",
       " -1.2058876563969534e-06,\n",
       " 0.030525529757142067,\n",
       " 0.021837253123521805,\n",
       " 0.007110706064850092,\n",
       " 0.04129171743988991,\n",
       " -0.08380230516195297,\n",
       " 0.011990117840468884,\n",
       " -0.042859409004449844,\n",
       " -0.038747429847717285,\n",
       " 0.014703154563903809,\n",
       " -0.009611326269805431,\n",
       " -0.06824173033237457,\n",
       " -0.014985181391239166,\n",
       " 0.08536310493946075,\n",
       " 0.026059098541736603,\n",
       " -0.02341015636920929,\n",
       " 0.05434734746813774]"
      ]
     },
     "execution_count": 142,
     "metadata": {},
     "output_type": "execute_result"
    }
   ],
   "source": [
    "nq[0]['masked_question_embedding']"
   ]
  },
  {
   "cell_type": "code",
   "execution_count": 118,
   "metadata": {},
   "outputs": [],
   "source": [
    "buffer = dict()\n",
    "result_idxs = []\n",
    "for idx, sent in enumerate(result):\n",
    "    if not buffer.get(sent):\n",
    "        buffer[sent] = 1\n",
    "        result_idxs.append(idx)"
   ]
  },
  {
   "cell_type": "code",
   "execution_count": 119,
   "metadata": {},
   "outputs": [],
   "source": [
    "temp = []\n",
    "for idx, t in enumerate(train):\n",
    "    if idx in result_idxs:\n",
    "        t['masked_question'] = result[idx]\n",
    "        temp.append(t)\n",
    "    else:\n",
    "        continue"
   ]
  },
  {
   "cell_type": "code",
   "execution_count": 120,
   "metadata": {},
   "outputs": [],
   "source": [
    "import json\n",
    "with open(\"masked_train.json\", \"w\") as f:\n",
    "    json.dump(temp, f)"
   ]
  },
  {
   "cell_type": "code",
   "execution_count": 109,
   "metadata": {},
   "outputs": [
    {
     "data": {
      "text/plain": [
       "False"
      ]
     },
     "execution_count": 109,
     "metadata": {},
     "output_type": "execute_result"
    }
   ],
   "source": [
    "not buffer.get('Which [BLANK] team represented the [BLANK] at [BLANK]?')"
   ]
  },
  {
   "cell_type": "code",
   "execution_count": 42,
   "metadata": {},
   "outputs": [],
   "source": [
    "import json"
   ]
  },
  {
   "cell_type": "code",
   "execution_count": 121,
   "metadata": {},
   "outputs": [
    {
     "data": {
      "text/plain": [
       "93544"
      ]
     },
     "execution_count": 121,
     "metadata": {},
     "output_type": "execute_result"
    }
   ],
   "source": [
    "with open(\"masked_train.json\", \"r\") as f:\n",
    "    train = json.load(f)\n",
    "with open(\"masked_test.json\", \"r\") as f:\n",
    "    test = json.load(f)\n",
    "total = train + test\n",
    "len(total)"
   ]
  },
  {
   "cell_type": "code",
   "execution_count": 122,
   "metadata": {},
   "outputs": [
    {
     "name": "stderr",
     "output_type": "stream",
     "text": [
      "Downloading (…)e9125/.gitattributes: 100%|██████████| 1.18k/1.18k [00:00<00:00, 4.18MB/s]\n",
      "Downloading (…)_Pooling/config.json: 100%|██████████| 190/190 [00:00<00:00, 945kB/s]\n",
      "Downloading (…)7e55de9125/README.md: 100%|██████████| 10.6k/10.6k [00:00<00:00, 30.5MB/s]\n",
      "Downloading (…)55de9125/config.json: 100%|██████████| 612/612 [00:00<00:00, 3.17MB/s]\n",
      "Downloading (…)ce_transformers.json: 100%|██████████| 116/116 [00:00<00:00, 544kB/s]\n",
      "Downloading (…)125/data_config.json: 100%|██████████| 39.3k/39.3k [00:00<00:00, 45.0MB/s]\n",
      "Downloading pytorch_model.bin: 100%|██████████| 90.9M/90.9M [00:07<00:00, 12.8MB/s]\n",
      "Downloading (…)nce_bert_config.json: 100%|██████████| 53.0/53.0 [00:00<00:00, 144kB/s]\n",
      "Downloading (…)cial_tokens_map.json: 100%|██████████| 112/112 [00:00<00:00, 450kB/s]\n",
      "Downloading (…)e9125/tokenizer.json: 100%|██████████| 466k/466k [00:00<00:00, 899kB/s]\n",
      "Downloading (…)okenizer_config.json: 100%|██████████| 350/350 [00:00<00:00, 1.95MB/s]\n",
      "Downloading (…)9125/train_script.py: 100%|██████████| 13.2k/13.2k [00:00<00:00, 30.2MB/s]\n",
      "Downloading (…)7e55de9125/vocab.txt: 100%|██████████| 232k/232k [00:00<00:00, 15.2MB/s]\n",
      "Downloading (…)5de9125/modules.json: 100%|██████████| 349/349 [00:00<00:00, 1.88MB/s]\n"
     ]
    }
   ],
   "source": [
    "from sentence_transformers import SentenceTransformer\n",
    "model = SentenceTransformer('all-MiniLM-L6-v2')"
   ]
  },
  {
   "cell_type": "code",
   "execution_count": 125,
   "metadata": {},
   "outputs": [
    {
     "name": "stderr",
     "output_type": "stream",
     "text": [
      "100%|██████████| 2924/2924 [01:55<00:00, 25.23it/s]\n"
     ]
    }
   ],
   "source": [
    "from tqdm import tqdm\n",
    "\n",
    "for i in tqdm(range(0, len(total), 32)):\n",
    "    batch = total[i:i+32]\n",
    "    sents = [b['masked_question'] for b in batch]\n",
    "    embeddings = model.encode(sents)\n",
    "    for idx, emb in enumerate(embeddings):\n",
    "        total[i+idx]['embedding'] = emb"
   ]
  },
  {
   "cell_type": "code",
   "execution_count": 126,
   "metadata": {},
   "outputs": [
    {
     "data": {
      "text/plain": [
       "['total_squad_with_embedding']"
      ]
     },
     "execution_count": 126,
     "metadata": {},
     "output_type": "execute_result"
    }
   ],
   "source": [
    "import joblib\n",
    "joblib.dump(total, \"total_squad_with_embedding\")"
   ]
  },
  {
   "cell_type": "code",
   "execution_count": 127,
   "metadata": {},
   "outputs": [
    {
     "data": {
      "text/plain": [
       "{'id': '5733be284776f41900661182',\n",
       " 'title': 'University_of_Notre_Dame',\n",
       " 'context': 'Architecturally, the school has a Catholic character. Atop the Main Building\\'s gold dome is a golden statue of the Virgin Mary. Immediately in front of the Main Building and facing it, is a copper statue of Christ with arms upraised with the legend \"Venite Ad Me Omnes\". Next to the Main Building is the Basilica of the Sacred Heart. Immediately behind the basilica is the Grotto, a Marian place of prayer and reflection. It is a replica of the grotto at Lourdes, France where the Virgin Mary reputedly appeared to Saint Bernadette Soubirous in 1858. At the end of the main drive (and in a direct line that connects through 3 statues and the Gold Dome), is a simple, modern stone statue of Mary.',\n",
       " 'question': 'To whom did the Virgin Mary allegedly appear in 1858 in Lourdes France?',\n",
       " 'answers': {'text': ['Saint Bernadette Soubirous'], 'answer_start': [515]},\n",
       " 'masked_question': 'To whom did [BLANK] allegedly appear in [BLANK] in [BLANK]?',\n",
       " 'embedding': array([ 1.05918786e-02,  4.44535688e-02,  1.54642807e-02,  4.83545437e-02,\n",
       "         1.18188160e-02,  3.70345563e-02,  2.35235430e-02, -2.38235593e-02,\n",
       "         5.97214885e-02, -2.38312371e-02,  2.87201703e-02, -3.10416496e-03,\n",
       "         7.20623359e-02, -7.84314349e-02, -9.87529382e-02,  8.66508782e-02,\n",
       "        -5.14096916e-02, -2.03498770e-02, -4.14015129e-02, -4.89975028e-02,\n",
       "        -2.26035342e-03,  4.34988998e-02,  2.47864313e-02, -8.83115679e-02,\n",
       "         3.50359045e-02,  4.52277958e-02, -4.09149267e-02, -7.59684816e-02,\n",
       "         3.12373005e-02,  5.61541170e-02, -1.36843072e-02,  3.29958200e-02,\n",
       "         5.75878285e-02, -3.70937819e-03,  8.54630247e-02,  5.99822868e-03,\n",
       "         1.33816108e-01,  6.03816733e-02,  2.97034867e-02, -2.27505174e-02,\n",
       "         4.03009281e-02,  5.06751835e-02, -2.14554537e-02,  6.53385520e-02,\n",
       "        -1.19813522e-02,  1.06598102e-02,  4.00346480e-02, -1.50520811e-02,\n",
       "        -5.25475964e-02, -3.17726657e-02, -3.73128951e-02, -8.06702953e-03,\n",
       "        -2.37940904e-02,  2.53703725e-02,  6.90159248e-03, -1.84649844e-02,\n",
       "         2.93681771e-02, -2.27627791e-02,  7.59682199e-03,  5.15730754e-02,\n",
       "        -3.50842439e-02,  7.30715096e-02, -5.85328043e-02,  7.17186183e-02,\n",
       "         7.61357695e-02, -7.33286962e-02, -2.59769186e-02, -6.75317124e-02,\n",
       "        -6.18530959e-02,  4.14114911e-03,  8.16238821e-02,  4.86484356e-02,\n",
       "         2.38283742e-02,  1.59826654e-03, -6.27924204e-02, -3.88141647e-02,\n",
       "         1.76644158e-02,  2.49121431e-02,  1.82016529e-02, -4.62745549e-03,\n",
       "         5.27850576e-02, -3.87599245e-02, -8.12750086e-02, -3.46919484e-02,\n",
       "        -2.96949092e-02,  3.06906141e-02, -8.76298454e-03, -7.04702809e-02,\n",
       "         2.68465816e-03,  3.38093415e-02, -6.83508143e-02,  6.38324674e-03,\n",
       "        -2.93259267e-02,  8.38218853e-02, -2.77720746e-02, -8.75685550e-03,\n",
       "         3.27621140e-02,  3.08209918e-02,  1.72270909e-02,  1.03901014e-01,\n",
       "        -2.09030565e-02, -1.25245275e-02, -1.26468465e-02,  7.93917403e-02,\n",
       "        -6.15878962e-02, -3.36659849e-02, -1.27675729e-02,  5.57069527e-03,\n",
       "        -5.44918105e-02, -2.00151862e-03,  1.13043033e-01, -4.14222851e-02,\n",
       "         2.43609641e-02, -2.06662025e-02, -8.35117400e-02, -3.92036736e-02,\n",
       "        -2.73388140e-02, -5.61034903e-02,  2.15958357e-02,  8.37763678e-03,\n",
       "         8.19495413e-03, -1.34138195e-02, -1.46704679e-02,  3.17266025e-02,\n",
       "        -2.48029567e-02,  5.19714057e-02, -1.13523304e-02, -4.22360300e-33,\n",
       "         7.17861131e-02,  8.00966695e-02,  2.60324758e-02,  1.43848713e-02,\n",
       "         4.75554056e-02,  3.10790539e-02, -1.50690870e-02,  3.04201543e-02,\n",
       "         3.93071324e-02,  2.02568993e-02,  9.09791887e-03, -6.41113296e-02,\n",
       "         4.77509946e-02,  8.76106136e-03, -8.62053707e-02,  5.81215248e-02,\n",
       "         2.40350291e-02,  1.76965613e-02, -7.30738714e-02, -1.61317475e-02,\n",
       "         3.83144654e-02,  1.30778328e-01, -2.72198506e-02, -1.14371469e-02,\n",
       "        -6.44420236e-02, -1.61102004e-02, -1.25667453e-02, -8.47202167e-02,\n",
       "         2.02758778e-02,  3.31255980e-02, -4.48927395e-02,  5.72602544e-03,\n",
       "         5.85625172e-02, -2.05694661e-02, -3.26839760e-02,  4.96926531e-02,\n",
       "        -1.17679993e-02, -8.98728371e-02, -4.93191481e-02,  2.31464114e-02,\n",
       "         1.38625745e-02, -5.68771968e-03,  3.84679995e-02, -4.20998856e-02,\n",
       "        -7.22706988e-02, -4.24639508e-02, -1.15927309e-02,  4.67978604e-02,\n",
       "         5.77605739e-02,  1.33079261e-01, -8.89109001e-02, -7.31246686e-03,\n",
       "         7.19113573e-02,  7.34254792e-02,  1.01561779e-02, -3.25311013e-02,\n",
       "        -3.11639719e-02, -8.00570026e-02, -4.20812219e-02, -3.94693352e-02,\n",
       "         4.12486717e-02,  9.50068757e-02, -1.30855972e-02,  3.75974178e-02,\n",
       "         1.97393075e-03, -3.93985808e-02,  2.80792899e-02, -1.03744976e-01,\n",
       "         9.66131873e-03, -7.92460144e-02, -7.94737265e-02,  3.97276320e-02,\n",
       "        -1.10412456e-01,  1.35591161e-02, -4.98663373e-02, -1.51829736e-03,\n",
       "         1.43216643e-02, -2.75098928e-03,  2.12798417e-02, -5.50107248e-02,\n",
       "         1.17107920e-01,  4.30894271e-02, -5.56581421e-03, -6.12774515e-04,\n",
       "        -1.22959591e-01,  4.14504576e-03, -4.02530767e-02, -1.14770392e-02,\n",
       "        -3.37506607e-02,  3.69971730e-02, -1.21019538e-02, -4.95709218e-02,\n",
       "        -7.80401006e-02, -5.29369208e-05, -6.13330938e-02,  1.08849969e-33,\n",
       "        -5.25512621e-02,  4.83443774e-03,  7.68143758e-02, -4.15317155e-02,\n",
       "        -4.60447855e-02, -7.76483044e-02,  6.87254444e-02, -3.96989211e-02,\n",
       "         8.77664536e-02,  2.95597855e-02,  5.48375808e-02, -2.78771482e-02,\n",
       "         1.91733409e-02,  3.26551311e-02,  2.60026921e-02,  2.75164377e-02,\n",
       "        -2.61118375e-02, -1.73822492e-02, -1.96488015e-02,  6.23124242e-02,\n",
       "        -2.53862003e-03, -1.87052470e-02, -7.56445006e-02, -5.09894341e-02,\n",
       "         5.82793690e-02,  3.14679556e-02,  2.32058153e-01,  7.40869017e-03,\n",
       "        -6.71458691e-02,  1.67309009e-02,  4.60668765e-02, -1.99750848e-02,\n",
       "        -8.77908543e-02,  1.94024798e-02, -3.55958380e-02,  6.31136522e-02,\n",
       "         6.11938089e-02,  5.16246706e-02,  1.13254413e-02,  1.81945004e-02,\n",
       "        -2.31919419e-02,  8.85939226e-02, -4.57581319e-02,  2.25739554e-02,\n",
       "        -5.94606847e-02, -1.26093323e-03, -9.92850885e-02,  1.31225465e-02,\n",
       "         5.74058220e-02, -8.09357911e-02, -7.17083141e-02, -1.23594264e-02,\n",
       "         4.14748350e-03, -7.91378878e-03, -2.13648118e-02,  3.09971347e-03,\n",
       "         1.51218064e-02,  5.44848852e-02,  1.39573485e-01, -4.49289754e-02,\n",
       "        -1.50857978e-02,  4.94902879e-02, -6.72957599e-02, -1.94856599e-02,\n",
       "        -3.37598776e-03,  3.22818905e-02, -2.52750665e-02,  9.39120948e-02,\n",
       "        -7.46490061e-02, -1.10834770e-01, -4.40952852e-02, -1.12637758e-01,\n",
       "        -3.37435193e-02, -6.26904294e-02,  1.09064288e-03,  1.29323155e-01,\n",
       "        -5.00680171e-02, -2.20854580e-02, -9.83909220e-02, -3.27367857e-02,\n",
       "         6.68557584e-02, -5.65645285e-02, -3.30887325e-02,  7.19362348e-02,\n",
       "         3.59037854e-02, -3.30156237e-02,  4.07958515e-02, -4.42867987e-02,\n",
       "        -2.23396439e-02,  2.02910565e-02,  3.66220833e-03,  3.46641876e-02,\n",
       "         6.46359697e-02,  7.78962451e-04, -9.51416269e-02, -2.35326745e-08,\n",
       "        -4.52111736e-02,  6.84563955e-03,  5.21708280e-03,  1.22297583e-02,\n",
       "        -2.98560467e-02, -4.05314043e-02,  8.81509334e-02, -8.06122646e-02,\n",
       "         1.84024014e-02,  4.77798246e-02, -7.22455755e-02,  9.13407467e-03,\n",
       "        -1.65948980e-02, -1.09732479e-01,  8.45974982e-02,  6.54039718e-03,\n",
       "        -8.91688168e-02, -2.90451031e-02, -5.00016920e-02, -1.70785170e-02,\n",
       "         1.28065124e-02,  2.78162472e-02, -2.07345765e-02, -3.60044427e-02,\n",
       "         4.95731179e-03,  1.58531535e-02,  1.96145363e-02,  1.70302074e-02,\n",
       "         2.52872258e-02,  1.93083454e-02,  2.35189628e-02,  6.56346753e-02,\n",
       "         4.64805849e-02, -8.63677934e-02, -1.79585423e-02,  5.28681949e-02,\n",
       "        -9.28791985e-03,  2.46337298e-02, -2.93958038e-02, -1.97381750e-02,\n",
       "        -4.86128079e-03, -5.46817183e-02, -1.87927503e-02, -1.73456734e-03,\n",
       "         2.87643243e-02, -1.02919256e-02,  2.71621905e-02, -2.59734951e-02,\n",
       "         3.74327227e-02, -3.56494933e-02, -6.77330047e-02, -4.07055998e-03,\n",
       "        -3.35510746e-02,  1.39548462e-02, -4.21944596e-02, -1.03898972e-01,\n",
       "         8.57107267e-02,  7.76864067e-02, -2.13710852e-02, -4.39336803e-03,\n",
       "         3.34617756e-02,  5.72725460e-02,  3.16032656e-02,  5.01368232e-02],\n",
       "       dtype=float32)}"
      ]
     },
     "execution_count": 127,
     "metadata": {},
     "output_type": "execute_result"
    }
   ],
   "source": [
    "total[0]"
   ]
  },
  {
   "cell_type": "code",
   "execution_count": 100,
   "metadata": {},
   "outputs": [],
   "source": [
    "from collections import Counter\n",
    "\n",
    "doc_count = Counter(result)"
   ]
  },
  {
   "cell_type": "code",
   "execution_count": 102,
   "metadata": {},
   "outputs": [
    {
     "data": {
      "text/plain": [
       "11"
      ]
     },
     "execution_count": 102,
     "metadata": {},
     "output_type": "execute_result"
    }
   ],
   "source": [
    "doc_count['Where is [BLANK] located?']"
   ]
  },
  {
   "cell_type": "code",
   "execution_count": 1,
   "metadata": {},
   "outputs": [],
   "source": [
    "from utils import evaluate_gpt\n",
    "import json\n",
    "with open(\"nq-test.json\", \"r\") as f:\n",
    "    data = json.load(f)"
   ]
  },
  {
   "cell_type": "code",
   "execution_count": 2,
   "metadata": {},
   "outputs": [
    {
     "name": "stderr",
     "output_type": "stream",
     "text": [
      "EM:  0.0%:   0%|          | 0/70 [00:00<?, ?it/s]"
     ]
    },
    {
     "name": "stdout",
     "output_type": "stream",
     "text": [
      "Sample :\n",
      " Answer these questions:\n",
      "Q: when is the publishers clearing house sweepstakes drawing?\n",
      "A: just after the Super Bowl\n",
      "Q: who got the first nobel prize in physics?\n",
      "A:\n"
     ]
    },
    {
     "name": "stderr",
     "output_type": "stream",
     "text": [
      "EM: 15.7%: 100%|██████████| 70/70 [00:38<00:00,  1.83it/s]"
     ]
    },
    {
     "name": "stdout",
     "output_type": "stream",
     "text": [
      "EM: 15.7%\n",
      "% of prompts with answer: 2.9%\n"
     ]
    },
    {
     "name": "stderr",
     "output_type": "stream",
     "text": [
      "\n"
     ]
    }
   ],
   "source": [
    "evaluate_gpt(data, num_docs=0, output_dir=\"result\",max_tokens_to_generate=60, is_test=True, max_test=70)"
   ]
  },
  {
   "cell_type": "code",
   "execution_count": 4,
   "metadata": {},
   "outputs": [],
   "source": [
    "import json\n",
    "import gzip\n",
    "\n",
    "# JSON 파일 로드\n",
    "with open('masked_test.json', 'r', encoding='utf-8') as f:\n",
    "    data1 = json.load(f)\n",
    "with open('masked_train.json', 'r', encoding='utf-8') as f:\n",
    "    data2 = json.load(f)\n",
    "data = data1 + data2\n",
    "del data1\n",
    "del data2\n",
    "# JSONL 형식으로 GZipped 파일로 저장\n",
    "with gzip.open('output.jsonl.gz', 'wt', encoding='utf-8') as f:\n",
    "    for item in data:\n",
    "        f.write(json.dumps(item) + '\\n')\n"
   ]
  },
  {
   "cell_type": "code",
   "execution_count": 10,
   "metadata": {},
   "outputs": [
    {
     "name": "stdout",
     "output_type": "stream",
     "text": [
      "{'id': '56be4db0acb8001400a502ee', 'title': 'Super_Bowl_50', 'context': 'Super Bowl 50 was an American football game to determine the champion of the National Football League (NFL) for the 2015 season. The American Football Conference (AFC) champion Denver Broncos defeated the National Football Conference (NFC) champion Carolina Panthers 24–10 to earn their third Super Bowl title. The game was played on February 7, 2016, at Levi\\'s Stadium in the San Francisco Bay Area at Santa Clara, California. As this was the 50th Super Bowl, the league emphasized the \"golden anniversary\" with various gold-themed initiatives, as well as temporarily suspending the tradition of naming each Super Bowl game with Roman numerals (under which the game would have been known as \"Super Bowl L\"), so that the logo could prominently feature the Arabic numerals 50.', 'question': 'Where did Super Bowl 50 take place?', 'answers': {'text': ['Santa Clara, California', \"Levi's Stadium\", \"Levi's Stadium in the San Francisco Bay Area at Santa Clara, California.\"], 'answer_start': [403, 355, 355]}, 'masked_question': 'Where did [BLANK] take place?'}\n",
      "{'id': '56be4db0acb8001400a502ec', 'title': 'Super_Bowl_50', 'context': 'Super Bowl 50 was an American football game to determine the champion of the National Football League (NFL) for the 2015 season. The American Football Conference (AFC) champion Denver Broncos defeated the National Football Conference (NFC) champion Carolina Panthers 24–10 to earn their third Super Bowl title. The game was played on February 7, 2016, at Levi\\'s Stadium in the San Francisco Bay Area at Santa Clara, California. As this was the 50th Super Bowl, the league emphasized the \"golden anniversary\" with various gold-themed initiatives, as well as temporarily suspending the tradition of naming each Super Bowl game with Roman numerals (under which the game would have been known as \"Super Bowl L\"), so that the logo could prominently feature the Arabic numerals 50.', 'question': 'Which NFL team represented the AFC at Super Bowl 50?', 'answers': {'text': ['Denver Broncos', 'Denver Broncos', 'Denver Broncos'], 'answer_start': [177, 177, 177]}, 'masked_question': 'Which [BLANK] team represented the [BLANK] at [BLANK]?'}\n"
     ]
    }
   ],
   "source": [
    "with gzip.open(\"/Users/seongilpark/rag/output.jsonl.gz\", \"rb\") as file_handle:\n",
    "    header = json.loads(file_handle.readline())            \n",
    "    for entry in file_handle:\n",
    "        entry = json.loads(entry)\n",
    "        print(entry)\n",
    "        break"
   ]
  },
  {
   "cell_type": "code",
   "execution_count": 11,
   "metadata": {},
   "outputs": [],
   "source": [
    "import spacy"
   ]
  },
  {
   "cell_type": "code",
   "execution_count": 12,
   "metadata": {},
   "outputs": [
    {
     "name": "stderr",
     "output_type": "stream",
     "text": [
      "/Users/seongilpark/rag/.venv/lib/python3.11/site-packages/tqdm/auto.py:21: TqdmWarning: IProgress not found. Please update jupyter and ipywidgets. See https://ipywidgets.readthedocs.io/en/stable/user_install.html\n",
      "  from .autonotebook import tqdm as notebook_tqdm\n"
     ]
    }
   ],
   "source": [
    "nlp = spacy.load(\"en_core_web_trf\")"
   ]
  },
  {
   "cell_type": "code",
   "execution_count": null,
   "metadata": {},
   "outputs": [],
   "source": [
    "nlp(\"\")"
   ]
  }
 ],
 "metadata": {
  "kernelspec": {
   "display_name": ".venv",
   "language": "python",
   "name": "python3"
  },
  "language_info": {
   "codemirror_mode": {
    "name": "ipython",
    "version": 3
   },
   "file_extension": ".py",
   "mimetype": "text/x-python",
   "name": "python",
   "nbconvert_exporter": "python",
   "pygments_lexer": "ipython3",
   "version": "3.11.3"
  }
 },
 "nbformat": 4,
 "nbformat_minor": 2
}
